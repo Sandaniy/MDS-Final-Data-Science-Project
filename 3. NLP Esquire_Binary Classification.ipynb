{
 "cells": [
  {
   "cell_type": "markdown",
   "metadata": {},
   "source": [
    "#### Master of Data Science (Digital Humanities), Durham University\n",
    "#### Final Project Notebooks\n",
    "\n",
    "### DATA40345 Data Science Research Project\n",
    "\n",
    "#### NLP Esquire: A Data-Driven Analysis and Categorisation of the Judgments of the United Kingdom Supreme Court"
   ]
  },
  {
   "cell_type": "markdown",
   "metadata": {},
   "source": [
    "## Notebook 3: Binary Classification "
   ]
  },
  {
   "cell_type": "code",
   "execution_count": 1,
   "metadata": {},
   "outputs": [],
   "source": [
    "#libraries for data processing, cleaning, manipulation, sampling\n",
    "import pandas as pd\n",
    "import numpy as np\n",
    "\n",
    "from nltk import word_tokenize\n",
    "from nltk.corpus import stopwords\n",
    "import re\n",
    "from sklearn.utils import resample\n",
    "\n",
    "#library for training/testing\n",
    "from sklearn.model_selection import train_test_split\n",
    "import random\n",
    "\n",
    "#libraries/packages for implementing traditional classifiers\n",
    "from sklearn.feature_extraction.text import TfidfVectorizer\n",
    "from sklearn.pipeline import make_pipeline\n",
    "\n",
    "from sklearn.naive_bayes import MultinomialNB\n",
    "from sklearn.naive_bayes import BernoulliNB\n",
    "from sklearn.neighbors import KNeighborsClassifier\n",
    "from sklearn import svm\n",
    "from sklearn.tree import DecisionTreeClassifier\n",
    "from sklearn.ensemble import RandomForestClassifier\n",
    "from sklearn.ensemble import GradientBoostingClassifier\n",
    "from sklearn.linear_model import LogisticRegression\n",
    "\n",
    "from sklearn.model_selection import GridSearchCV\n",
    "from sklearn.model_selection import RandomizedSearchCV, train_test_split\n",
    "from scipy.stats import randint\n",
    "from sklearn.model_selection import cross_val_score\n",
    "\n",
    "#libraries/packages for implementing deep learning architectures\n",
    "import torch\n",
    "from torchtext.legacy import data #For handling text data\n",
    "import torch.nn as nn\n",
    "import torch.nn.functional as F\n",
    "import torch.optim as optim\n",
    "import torch.optim as optim\n",
    "\n",
    "#libraries for evaluation metrics of classifiers\n",
    "from sklearn.metrics import confusion_matrix, accuracy_score, f1_score,precision_score,recall_score,classification_report\n",
    "from sklearn.metrics import accuracy_score, confusion_matrix, precision_score, recall_score, ConfusionMatrixDisplay\n",
    "import time\n",
    "import tqdm\n",
    "\n",
    "#visualisation libraries\n",
    "import matplotlib.pyplot as plt\n",
    "import seaborn as sns"
   ]
  },
  {
   "cell_type": "code",
   "execution_count": 2,
   "metadata": {},
   "outputs": [
    {
     "data": {
      "text/html": [
       "<div>\n",
       "<style scoped>\n",
       "    .dataframe tbody tr th:only-of-type {\n",
       "        vertical-align: middle;\n",
       "    }\n",
       "\n",
       "    .dataframe tbody tr th {\n",
       "        vertical-align: top;\n",
       "    }\n",
       "\n",
       "    .dataframe thead th {\n",
       "        text-align: right;\n",
       "    }\n",
       "</style>\n",
       "<table border=\"1\" class=\"dataframe\">\n",
       "  <thead>\n",
       "    <tr style=\"text-align: right;\">\n",
       "      <th></th>\n",
       "      <th>title</th>\n",
       "      <th>label</th>\n",
       "    </tr>\n",
       "  </thead>\n",
       "  <tbody>\n",
       "    <tr>\n",
       "      <th>0</th>\n",
       "      <td>uksc-2009-0015-judgment-01</td>\n",
       "      <td>human rights</td>\n",
       "    </tr>\n",
       "    <tr>\n",
       "      <th>1</th>\n",
       "      <td>uksc-2009-0019-judgment</td>\n",
       "      <td>family</td>\n",
       "    </tr>\n",
       "    <tr>\n",
       "      <th>2</th>\n",
       "      <td>uksc-2009-0020-judgment</td>\n",
       "      <td>human rights</td>\n",
       "    </tr>\n",
       "    <tr>\n",
       "      <th>3</th>\n",
       "      <td>uksc-2009-0022-judgment</td>\n",
       "      <td>immigration</td>\n",
       "    </tr>\n",
       "    <tr>\n",
       "      <th>4</th>\n",
       "      <td>uksc-2009-0031-judgment</td>\n",
       "      <td>family</td>\n",
       "    </tr>\n",
       "    <tr>\n",
       "      <th>5</th>\n",
       "      <td>uksc-2009-0032-judgment</td>\n",
       "      <td>tort</td>\n",
       "    </tr>\n",
       "    <tr>\n",
       "      <th>6</th>\n",
       "      <td>uksc-2009-0034-judgment</td>\n",
       "      <td>family</td>\n",
       "    </tr>\n",
       "    <tr>\n",
       "      <th>7</th>\n",
       "      <td>uksc-2009-0036-judgment</td>\n",
       "      <td>international</td>\n",
       "    </tr>\n",
       "    <tr>\n",
       "      <th>8</th>\n",
       "      <td>uksc-2009-0037-judgment</td>\n",
       "      <td>land</td>\n",
       "    </tr>\n",
       "    <tr>\n",
       "      <th>9</th>\n",
       "      <td>uksc-2009-0038-judgment</td>\n",
       "      <td>land</td>\n",
       "    </tr>\n",
       "  </tbody>\n",
       "</table>\n",
       "</div>"
      ],
      "text/plain": [
       "                        title          label\n",
       "0  uksc-2009-0015-judgment-01   human rights\n",
       "1     uksc-2009-0019-judgment         family\n",
       "2     uksc-2009-0020-judgment   human rights\n",
       "3     uksc-2009-0022-judgment    immigration\n",
       "4     uksc-2009-0031-judgment         family\n",
       "5     uksc-2009-0032-judgment           tort\n",
       "6     uksc-2009-0034-judgment         family\n",
       "7     uksc-2009-0036-judgment  international\n",
       "8     uksc-2009-0037-judgment           land\n",
       "9     uksc-2009-0038-judgment           land"
      ]
     },
     "execution_count": 2,
     "metadata": {},
     "output_type": "execute_result"
    }
   ],
   "source": [
    "#loading the dataset with the case ID and the labels\n",
    "labels = pd.read_csv(\"UKSC_Labelled_FINAL for ML.csv\", names=[\"title\", \"label\"])\n",
    "labels.head(10)\n",
    "\n",
    "#https://pandas.pydata.org/docs/reference/api/pandas.read_csv.html"
   ]
  },
  {
   "cell_type": "code",
   "execution_count": 3,
   "metadata": {},
   "outputs": [
    {
     "data": {
      "text/plain": [
       "criminal                    99\n",
       "immigration                 98\n",
       "admin                       95\n",
       "human rights                76\n",
       "international               65\n",
       "tax                         62\n",
       "labour                      51\n",
       "contract                    49\n",
       "land                        47\n",
       "tort                        46\n",
       "company                     45\n",
       "family                      37\n",
       "insurance                   25\n",
       "procedure                   20\n",
       "intellectual property       19\n",
       "constitutional              19\n",
       "shipping                     7\n",
       "mental capacity              6\n",
       "arbitration                  6\n",
       "competition                  5\n",
       "equity                       5\n",
       "banking                      4\n",
       "civil                        4\n",
       "trust                        3\n",
       "security                     3\n",
       "damages                      3\n",
       "public                       2\n",
       "mental health                2\n",
       "jurisdiction                 2\n",
       "contempt                     2\n",
       "statutory interpretation     1\n",
       "legal aid                    1\n",
       "telecom                      1\n",
       "public health                1\n",
       "consumer protection          1\n",
       "construction                 1\n",
       "medical                      1\n",
       "fishing                      1\n",
       "communications               1\n",
       "private                      1\n",
       "fraud                        1\n",
       "Name: label, dtype: int64"
      ]
     },
     "execution_count": 3,
     "metadata": {},
     "output_type": "execute_result"
    }
   ],
   "source": [
    "#investigating the no.of labels and corresponding samples\n",
    "counts = labels[\"label\"].value_counts()\n",
    "counts"
   ]
  },
  {
   "cell_type": "code",
   "execution_count": 4,
   "metadata": {},
   "outputs": [
    {
     "data": {
      "text/html": [
       "<div>\n",
       "<style scoped>\n",
       "    .dataframe tbody tr th:only-of-type {\n",
       "        vertical-align: middle;\n",
       "    }\n",
       "\n",
       "    .dataframe tbody tr th {\n",
       "        vertical-align: top;\n",
       "    }\n",
       "\n",
       "    .dataframe thead th {\n",
       "        text-align: right;\n",
       "    }\n",
       "</style>\n",
       "<table border=\"1\" class=\"dataframe\">\n",
       "  <thead>\n",
       "    <tr style=\"text-align: right;\">\n",
       "      <th></th>\n",
       "      <th>title</th>\n",
       "      <th>text</th>\n",
       "    </tr>\n",
       "  </thead>\n",
       "  <tbody>\n",
       "    <tr>\n",
       "      <th>0</th>\n",
       "      <td>uksc-2009-0015-judgment-01</td>\n",
       "      <td>Hilary Term \\n[2010] UKSC 1 \\n\\nJUDGMENT \\n\\nA...</td>\n",
       "    </tr>\n",
       "    <tr>\n",
       "      <th>1</th>\n",
       "      <td>uksc-2009-0019-judgment</td>\n",
       "      <td>Michaelmas Term \\n[2009] UKSC 5 \\nOn appeal fr...</td>\n",
       "    </tr>\n",
       "    <tr>\n",
       "      <th>2</th>\n",
       "      <td>uksc-2009-0020-judgment</td>\n",
       "      <td>Michaelmas Term \\n[2009] UKSC 12 \\nOn appeal f...</td>\n",
       "    </tr>\n",
       "    <tr>\n",
       "      <th>3</th>\n",
       "      <td>uksc-2009-0022-judgment</td>\n",
       "      <td>Easter Term \\n[2011] UKSC 23 \\nOn appeal from:...</td>\n",
       "    </tr>\n",
       "  </tbody>\n",
       "</table>\n",
       "</div>"
      ],
      "text/plain": [
       "                        title  \\\n",
       "0  uksc-2009-0015-judgment-01   \n",
       "1     uksc-2009-0019-judgment   \n",
       "2     uksc-2009-0020-judgment   \n",
       "3     uksc-2009-0022-judgment   \n",
       "\n",
       "                                                text  \n",
       "0  Hilary Term \\n[2010] UKSC 1 \\n\\nJUDGMENT \\n\\nA...  \n",
       "1  Michaelmas Term \\n[2009] UKSC 5 \\nOn appeal fr...  \n",
       "2  Michaelmas Term \\n[2009] UKSC 12 \\nOn appeal f...  \n",
       "3  Easter Term \\n[2011] UKSC 23 \\nOn appeal from:...  "
      ]
     },
     "execution_count": 4,
     "metadata": {},
     "output_type": "execute_result"
    }
   ],
   "source": [
    "#loading the dataset with the case ID and the judgment texts\n",
    "text = pd.read_csv(\"UKSC Judgments.csv\")\n",
    "text.head(4)"
   ]
  },
  {
   "cell_type": "code",
   "execution_count": 5,
   "metadata": {},
   "outputs": [
    {
     "name": "stdout",
     "output_type": "stream",
     "text": [
      "<class 'pandas.core.frame.DataFrame'>\n",
      "RangeIndex: 918 entries, 0 to 917\n",
      "Data columns (total 2 columns):\n",
      " #   Column  Non-Null Count  Dtype \n",
      "---  ------  --------------  ----- \n",
      " 0   title   918 non-null    object\n",
      " 1   label   918 non-null    object\n",
      "dtypes: object(2)\n",
      "memory usage: 14.5+ KB\n",
      "\n",
      "<class 'pandas.core.frame.DataFrame'>\n",
      "RangeIndex: 918 entries, 0 to 917\n",
      "Data columns (total 2 columns):\n",
      " #   Column  Non-Null Count  Dtype \n",
      "---  ------  --------------  ----- \n",
      " 0   title   918 non-null    object\n",
      " 1   text    918 non-null    object\n",
      "dtypes: object(2)\n",
      "memory usage: 14.5+ KB\n"
     ]
    }
   ],
   "source": [
    "labels.info()\n",
    "print()\n",
    "text.info()"
   ]
  },
  {
   "cell_type": "markdown",
   "metadata": {},
   "source": [
    "Merge the two dataframes on \"title\" column"
   ]
  },
  {
   "cell_type": "code",
   "execution_count": 6,
   "metadata": {},
   "outputs": [
    {
     "name": "stdout",
     "output_type": "stream",
     "text": [
      "<class 'pandas.core.frame.DataFrame'>\n",
      "Int64Index: 918 entries, 0 to 917\n",
      "Data columns (total 3 columns):\n",
      " #   Column  Non-Null Count  Dtype \n",
      "---  ------  --------------  ----- \n",
      " 0   title   918 non-null    object\n",
      " 1   text    918 non-null    object\n",
      " 2   label   918 non-null    object\n",
      "dtypes: object(3)\n",
      "memory usage: 28.7+ KB\n"
     ]
    }
   ],
   "source": [
    "#merge on title using merge() method\n",
    "merge_df = text.merge(labels, on=\"title\")\n",
    "merge_df.info()"
   ]
  },
  {
   "cell_type": "code",
   "execution_count": 7,
   "metadata": {},
   "outputs": [
    {
     "data": {
      "text/html": [
       "<div>\n",
       "<style scoped>\n",
       "    .dataframe tbody tr th:only-of-type {\n",
       "        vertical-align: middle;\n",
       "    }\n",
       "\n",
       "    .dataframe tbody tr th {\n",
       "        vertical-align: top;\n",
       "    }\n",
       "\n",
       "    .dataframe thead th {\n",
       "        text-align: right;\n",
       "    }\n",
       "</style>\n",
       "<table border=\"1\" class=\"dataframe\">\n",
       "  <thead>\n",
       "    <tr style=\"text-align: right;\">\n",
       "      <th></th>\n",
       "      <th>title</th>\n",
       "      <th>text</th>\n",
       "      <th>label</th>\n",
       "    </tr>\n",
       "  </thead>\n",
       "  <tbody>\n",
       "    <tr>\n",
       "      <th>0</th>\n",
       "      <td>uksc-2009-0015-judgment-01</td>\n",
       "      <td>Hilary Term \\n[2010] UKSC 1 \\n\\nJUDGMENT \\n\\nA...</td>\n",
       "      <td>human rights</td>\n",
       "    </tr>\n",
       "    <tr>\n",
       "      <th>1</th>\n",
       "      <td>uksc-2009-0019-judgment</td>\n",
       "      <td>Michaelmas Term \\n[2009] UKSC 5 \\nOn appeal fr...</td>\n",
       "      <td>family</td>\n",
       "    </tr>\n",
       "    <tr>\n",
       "      <th>2</th>\n",
       "      <td>uksc-2009-0020-judgment</td>\n",
       "      <td>Michaelmas Term \\n[2009] UKSC 12 \\nOn appeal f...</td>\n",
       "      <td>human rights</td>\n",
       "    </tr>\n",
       "    <tr>\n",
       "      <th>3</th>\n",
       "      <td>uksc-2009-0022-judgment</td>\n",
       "      <td>Easter Term \\n[2011] UKSC 23 \\nOn appeal from:...</td>\n",
       "      <td>immigration</td>\n",
       "    </tr>\n",
       "    <tr>\n",
       "      <th>4</th>\n",
       "      <td>uksc-2009-0031-judgment</td>\n",
       "      <td>Michaelmas Term \\n[2010] UKSC 42 \\nOn appeal f...</td>\n",
       "      <td>family</td>\n",
       "    </tr>\n",
       "  </tbody>\n",
       "</table>\n",
       "</div>"
      ],
      "text/plain": [
       "                        title  \\\n",
       "0  uksc-2009-0015-judgment-01   \n",
       "1     uksc-2009-0019-judgment   \n",
       "2     uksc-2009-0020-judgment   \n",
       "3     uksc-2009-0022-judgment   \n",
       "4     uksc-2009-0031-judgment   \n",
       "\n",
       "                                                text         label  \n",
       "0  Hilary Term \\n[2010] UKSC 1 \\n\\nJUDGMENT \\n\\nA...  human rights  \n",
       "1  Michaelmas Term \\n[2009] UKSC 5 \\nOn appeal fr...        family  \n",
       "2  Michaelmas Term \\n[2009] UKSC 12 \\nOn appeal f...  human rights  \n",
       "3  Easter Term \\n[2011] UKSC 23 \\nOn appeal from:...   immigration  \n",
       "4  Michaelmas Term \\n[2010] UKSC 42 \\nOn appeal f...        family  "
      ]
     },
     "execution_count": 7,
     "metadata": {},
     "output_type": "execute_result"
    }
   ],
   "source": [
    "merge_df.head(5)"
   ]
  },
  {
   "cell_type": "markdown",
   "metadata": {},
   "source": [
    "### Preparing a Two-Class Dataset for Binary Classification\n",
    "\n",
    "There are more than 40 labels. However, these areas can all be classified into broadly two areas of law, as it is classified by legal systems generally: civil and criminal law. \n",
    "\n",
    "The following steps were taken to amalgamate specific labels:\n",
    "\n",
    "1. Fraud was assigned to criminal law as it is a criminal offence.\n",
    "\n",
    "2. Security was also assigned to criminal law as it deals with national security.\n",
    "\n",
    "3. Jurisdiction, procedure, international, and contempt were removed from consideration as they could be either criminal or civil depending on the case."
   ]
  },
  {
   "cell_type": "code",
   "execution_count": 8,
   "metadata": {},
   "outputs": [
    {
     "data": {
      "text/plain": [
       "civil            726\n",
       "criminal         103\n",
       "international     65\n",
       "procedure         20\n",
       "jurisdiction       2\n",
       "contempt           2\n",
       "Name: label, dtype: int64"
      ]
     },
     "execution_count": 8,
     "metadata": {},
     "output_type": "execute_result"
    }
   ],
   "source": [
    "#identify labels to replace\n",
    "label_replace_civil = [\"admin\", \"human rights\", \"tax\", \"labour\", \"contract\", \"land\", \"tort\",\n",
    "                       'company', \"family\", \"insurance\", 'intellectual property', 'arbitration', \"shipping\", \n",
    "                       \"mental capacity\", \"competition\", \"equity\", \"constitutional\",\n",
    "                      \"banking\", \"civil\", \"trust\", \"damages\", \"public\",\n",
    "                       \"mental health\", \"legal aid\", \"consumer protection\",\n",
    "                      \"private\", \"statutory interpretation\", \"medical \", \"public health\",\n",
    "                      \"fishing\", \"communications\", \"telecom\", \"construction\", \"immigration\"]\n",
    "label_replace_criminal = [\"fraud\", \"security\"]\n",
    "\n",
    "#replace the relevant labels with \"civil\"\n",
    "merge_df[\"label\"] = merge_df[\"label\"].apply(lambda x: \"civil\" if x in label_replace_civil else x)\n",
    "\n",
    "#replace the relevant labels with \"criminal\"\n",
    "merge_df[\"label\"] = merge_df[\"label\"].apply(lambda x: \"criminal\" if x in label_replace_criminal else x)\n",
    "\n",
    "#check if it has been properly done\n",
    "counts = merge_df[\"label\"].value_counts()\n",
    "counts"
   ]
  },
  {
   "cell_type": "code",
   "execution_count": 9,
   "metadata": {},
   "outputs": [
    {
     "data": {
      "text/plain": [
       "civil       726\n",
       "criminal    103\n",
       "Name: label, dtype: int64"
      ]
     },
     "execution_count": 9,
     "metadata": {},
     "output_type": "execute_result"
    }
   ],
   "source": [
    "#delete any rows with labels \n",
    "label_remove = [\"international\", \"procedure\", \"jurisdiction\", \"contempt\"]\n",
    "\n",
    "binary_df = merge_df[~merge_df['label'].isin(label_remove)]\n",
    "\n",
    "#check if it has been properly done\n",
    "counts = binary_df[\"label\"].value_counts()\n",
    "counts"
   ]
  },
  {
   "cell_type": "code",
   "execution_count": 10,
   "metadata": {},
   "outputs": [],
   "source": [
    "#save as csv for future use\n",
    "binary_df.to_csv(\"UKSC_2_FINAL Labelled Judgments_918.csv\", index=False)"
   ]
  },
  {
   "cell_type": "markdown",
   "metadata": {},
   "source": [
    "Exploratory Data Analysis"
   ]
  },
  {
   "cell_type": "code",
   "execution_count": 11,
   "metadata": {},
   "outputs": [],
   "source": [
    "df = binary_df"
   ]
  },
  {
   "cell_type": "code",
   "execution_count": 12,
   "metadata": {},
   "outputs": [
    {
     "name": "stdout",
     "output_type": "stream",
     "text": [
      "The dataset has 829 rows and 3 columns\n"
     ]
    }
   ],
   "source": [
    "df.shape\n",
    "print(\"The dataset has\", df.shape[0], \"rows and\", df.shape[1], \"columns\")"
   ]
  },
  {
   "cell_type": "code",
   "execution_count": 13,
   "metadata": {
    "scrolled": true
   },
   "outputs": [
    {
     "name": "stdout",
     "output_type": "stream",
     "text": [
      "civil       726\n",
      "criminal    103\n",
      "Name: label, dtype: int64\n",
      "\n"
     ]
    }
   ],
   "source": [
    "#assess the no. of labels available\n",
    "counts = df[\"label\"].value_counts()\n",
    "print(counts)\n",
    "print()\n",
    "\n",
    "#extract counts for each label\n",
    "#print(\"No.of reliable ('real news') articles: \", counts[0])\n",
    "#print(\"No. of unreliable ('fake news') articles: \", counts[1])"
   ]
  },
  {
   "cell_type": "code",
   "execution_count": 14,
   "metadata": {},
   "outputs": [
    {
     "name": "stdout",
     "output_type": "stream",
     "text": [
      "There are 2 unique labels in the dataset\n"
     ]
    }
   ],
   "source": [
    "#verify how many labels are available\n",
    "unique = df[\"label\"].nunique()\n",
    "\n",
    "print(\"There are\", unique, \"unique labels in the dataset\")"
   ]
  },
  {
   "cell_type": "code",
   "execution_count": 15,
   "metadata": {},
   "outputs": [
    {
     "name": "stdout",
     "output_type": "stream",
     "text": [
      "<class 'pandas.core.frame.DataFrame'>\n",
      "Int64Index: 829 entries, 0 to 917\n",
      "Data columns (total 3 columns):\n",
      " #   Column  Non-Null Count  Dtype \n",
      "---  ------  --------------  ----- \n",
      " 0   title   829 non-null    object\n",
      " 1   text    829 non-null    object\n",
      " 2   label   829 non-null    object\n",
      "dtypes: object(3)\n",
      "memory usage: 25.9+ KB\n"
     ]
    }
   ],
   "source": [
    "binary_labels = df\n",
    "binary_labels.info()"
   ]
  },
  {
   "cell_type": "code",
   "execution_count": 16,
   "metadata": {},
   "outputs": [
    {
     "data": {
      "text/html": [
       "<div>\n",
       "<style scoped>\n",
       "    .dataframe tbody tr th:only-of-type {\n",
       "        vertical-align: middle;\n",
       "    }\n",
       "\n",
       "    .dataframe tbody tr th {\n",
       "        vertical-align: top;\n",
       "    }\n",
       "\n",
       "    .dataframe thead th {\n",
       "        text-align: right;\n",
       "    }\n",
       "</style>\n",
       "<table border=\"1\" class=\"dataframe\">\n",
       "  <thead>\n",
       "    <tr style=\"text-align: right;\">\n",
       "      <th></th>\n",
       "      <th>title</th>\n",
       "      <th>text</th>\n",
       "      <th>label</th>\n",
       "    </tr>\n",
       "  </thead>\n",
       "  <tbody>\n",
       "    <tr>\n",
       "      <th>0</th>\n",
       "      <td>uksc-2009-0015-judgment-01</td>\n",
       "      <td>Hilary Term \\n[2010] UKSC 1 \\n\\nJUDGMENT \\n\\nA...</td>\n",
       "      <td>civil</td>\n",
       "    </tr>\n",
       "    <tr>\n",
       "      <th>1</th>\n",
       "      <td>uksc-2009-0019-judgment</td>\n",
       "      <td>Michaelmas Term \\n[2009] UKSC 5 \\nOn appeal fr...</td>\n",
       "      <td>civil</td>\n",
       "    </tr>\n",
       "    <tr>\n",
       "      <th>2</th>\n",
       "      <td>uksc-2009-0020-judgment</td>\n",
       "      <td>Michaelmas Term \\n[2009] UKSC 12 \\nOn appeal f...</td>\n",
       "      <td>civil</td>\n",
       "    </tr>\n",
       "    <tr>\n",
       "      <th>3</th>\n",
       "      <td>uksc-2009-0022-judgment</td>\n",
       "      <td>Easter Term \\n[2011] UKSC 23 \\nOn appeal from:...</td>\n",
       "      <td>civil</td>\n",
       "    </tr>\n",
       "    <tr>\n",
       "      <th>4</th>\n",
       "      <td>uksc-2009-0031-judgment</td>\n",
       "      <td>Michaelmas Term \\n[2010] UKSC 42 \\nOn appeal f...</td>\n",
       "      <td>civil</td>\n",
       "    </tr>\n",
       "    <tr>\n",
       "      <th>...</th>\n",
       "      <td>...</td>\n",
       "      <td>...</td>\n",
       "      <td>...</td>\n",
       "    </tr>\n",
       "    <tr>\n",
       "      <th>912</th>\n",
       "      <td>uksc-2021-0216-judgment</td>\n",
       "      <td>Hilary Term \\n[2023] UKSC 12 \\nOn appeal from:...</td>\n",
       "      <td>civil</td>\n",
       "    </tr>\n",
       "    <tr>\n",
       "      <th>913</th>\n",
       "      <td>uksc-2022-0052-judgment</td>\n",
       "      <td>Hilary Term \\n[2023] UKSC 13 \\nOn appeal from:...</td>\n",
       "      <td>civil</td>\n",
       "    </tr>\n",
       "    <tr>\n",
       "      <th>914</th>\n",
       "      <td>uksc-2022-0056-judgment</td>\n",
       "      <td>Easter Term \\n[2023] UKSC 14 \\nOn appeal from:...</td>\n",
       "      <td>civil</td>\n",
       "    </tr>\n",
       "    <tr>\n",
       "      <th>915</th>\n",
       "      <td>uksc-2022-0077-judgment</td>\n",
       "      <td>Michaelmas Term \\n[2022] UKSC 32 \\n\\nJUDGMENT ...</td>\n",
       "      <td>civil</td>\n",
       "    </tr>\n",
       "    <tr>\n",
       "      <th>917</th>\n",
       "      <td>uksc-2022-0098-judgment</td>\n",
       "      <td>Michaelmas Term \\n[2022] UKSC 31 \\n\\nJUDGMENT ...</td>\n",
       "      <td>civil</td>\n",
       "    </tr>\n",
       "  </tbody>\n",
       "</table>\n",
       "<p>829 rows × 3 columns</p>\n",
       "</div>"
      ],
      "text/plain": [
       "                          title  \\\n",
       "0    uksc-2009-0015-judgment-01   \n",
       "1       uksc-2009-0019-judgment   \n",
       "2       uksc-2009-0020-judgment   \n",
       "3       uksc-2009-0022-judgment   \n",
       "4       uksc-2009-0031-judgment   \n",
       "..                          ...   \n",
       "912     uksc-2021-0216-judgment   \n",
       "913     uksc-2022-0052-judgment   \n",
       "914     uksc-2022-0056-judgment   \n",
       "915     uksc-2022-0077-judgment   \n",
       "917     uksc-2022-0098-judgment   \n",
       "\n",
       "                                                  text  label  \n",
       "0    Hilary Term \\n[2010] UKSC 1 \\n\\nJUDGMENT \\n\\nA...  civil  \n",
       "1    Michaelmas Term \\n[2009] UKSC 5 \\nOn appeal fr...  civil  \n",
       "2    Michaelmas Term \\n[2009] UKSC 12 \\nOn appeal f...  civil  \n",
       "3    Easter Term \\n[2011] UKSC 23 \\nOn appeal from:...  civil  \n",
       "4    Michaelmas Term \\n[2010] UKSC 42 \\nOn appeal f...  civil  \n",
       "..                                                 ...    ...  \n",
       "912  Hilary Term \\n[2023] UKSC 12 \\nOn appeal from:...  civil  \n",
       "913  Hilary Term \\n[2023] UKSC 13 \\nOn appeal from:...  civil  \n",
       "914  Easter Term \\n[2023] UKSC 14 \\nOn appeal from:...  civil  \n",
       "915  Michaelmas Term \\n[2022] UKSC 32 \\n\\nJUDGMENT ...  civil  \n",
       "917  Michaelmas Term \\n[2022] UKSC 31 \\n\\nJUDGMENT ...  civil  \n",
       "\n",
       "[829 rows x 3 columns]"
      ]
     },
     "execution_count": 16,
     "metadata": {},
     "output_type": "execute_result"
    }
   ],
   "source": [
    "binary_labels"
   ]
  },
  {
   "cell_type": "markdown",
   "metadata": {},
   "source": [
    "Evaluate Class Balance in Dataset"
   ]
  },
  {
   "cell_type": "code",
   "execution_count": 17,
   "metadata": {},
   "outputs": [
    {
     "name": "stdout",
     "output_type": "stream",
     "text": [
      "civil       726\n",
      "criminal    103\n",
      "Name: label, dtype: int64\n",
      "\n",
      "No.of Judgments labelled 'criminal'     :  103\n",
      "No.of Judgments labelled 'civil'        :  726\n"
     ]
    }
   ],
   "source": [
    "#assess the class balance of the three labels selected\n",
    "counts = binary_labels[\"label\"].value_counts()\n",
    "print(counts)\n",
    "print()\n",
    "\n",
    "print(\"No.of Judgments labelled 'criminal'     : \", counts[1])\n",
    "print(\"No.of Judgments labelled 'civil'        : \", counts[0])"
   ]
  },
  {
   "cell_type": "code",
   "execution_count": 18,
   "metadata": {},
   "outputs": [
    {
     "data": {
      "text/html": [
       "<div>\n",
       "<style scoped>\n",
       "    .dataframe tbody tr th:only-of-type {\n",
       "        vertical-align: middle;\n",
       "    }\n",
       "\n",
       "    .dataframe tbody tr th {\n",
       "        vertical-align: top;\n",
       "    }\n",
       "\n",
       "    .dataframe thead th {\n",
       "        text-align: right;\n",
       "    }\n",
       "</style>\n",
       "<table border=\"1\" class=\"dataframe\">\n",
       "  <thead>\n",
       "    <tr style=\"text-align: right;\">\n",
       "      <th></th>\n",
       "      <th>label</th>\n",
       "      <th>Count</th>\n",
       "    </tr>\n",
       "  </thead>\n",
       "  <tbody>\n",
       "    <tr>\n",
       "      <th>0</th>\n",
       "      <td>civil</td>\n",
       "      <td>726</td>\n",
       "    </tr>\n",
       "    <tr>\n",
       "      <th>1</th>\n",
       "      <td>criminal</td>\n",
       "      <td>103</td>\n",
       "    </tr>\n",
       "  </tbody>\n",
       "</table>\n",
       "</div>"
      ],
      "text/plain": [
       "      label  Count\n",
       "0     civil    726\n",
       "1  criminal    103"
      ]
     },
     "execution_count": 18,
     "metadata": {},
     "output_type": "execute_result"
    }
   ],
   "source": [
    "#use groupby to collate judgments based on label\n",
    "class_bal = binary_labels.groupby([\"label\"]).size()\n",
    "\n",
    "#name the column with the counts\n",
    "class_bal = class_bal.rename(\"Count\").reset_index()\n",
    "class_bal"
   ]
  },
  {
   "cell_type": "code",
   "execution_count": 19,
   "metadata": {},
   "outputs": [
    {
     "data": {
      "image/png": "[encoded data removed]",
      "text/plain": [
       "<Figure size 576x288 with 1 Axes>"
      ]
     },
     "metadata": {},
     "output_type": "display_data"
    }
   ],
   "source": [
    "#visualise class balance\n",
    "sns.set(style=\"darkgrid\")\n",
    "plt.figure(figsize=(8,4))\n",
    "\n",
    "color= sns.color_palette(\"RdYlGn\", 10)\n",
    "\n",
    "sns.barplot(x=\"label\", y=\"Count\", data=class_bal, palette=color ).set(title=\"Class Balance of Labels\")\n",
    "plt.xticks(rotation=0, ha='right')\n",
    "\n",
    "plt.xlabel(\"Label\")\n",
    "plt.ylabel(\"No.of Judgments\")\n",
    "plt.savefig(\"ClassBal_Original_2\")"
   ]
  },
  {
   "cell_type": "markdown",
   "metadata": {},
   "source": [
    "Prepare dataset for training"
   ]
  },
  {
   "cell_type": "code",
   "execution_count": 20,
   "metadata": {},
   "outputs": [
    {
     "data": {
      "text/html": [
       "<div>\n",
       "<style scoped>\n",
       "    .dataframe tbody tr th:only-of-type {\n",
       "        vertical-align: middle;\n",
       "    }\n",
       "\n",
       "    .dataframe tbody tr th {\n",
       "        vertical-align: top;\n",
       "    }\n",
       "\n",
       "    .dataframe thead th {\n",
       "        text-align: right;\n",
       "    }\n",
       "</style>\n",
       "<table border=\"1\" class=\"dataframe\">\n",
       "  <thead>\n",
       "    <tr style=\"text-align: right;\">\n",
       "      <th></th>\n",
       "      <th>text</th>\n",
       "      <th>label</th>\n",
       "    </tr>\n",
       "  </thead>\n",
       "  <tbody>\n",
       "    <tr>\n",
       "      <th>0</th>\n",
       "      <td>Hilary Term \\n[2010] UKSC 1 \\n\\nJUDGMENT \\n\\nA...</td>\n",
       "      <td>civil</td>\n",
       "    </tr>\n",
       "    <tr>\n",
       "      <th>1</th>\n",
       "      <td>Michaelmas Term \\n[2009] UKSC 5 \\nOn appeal fr...</td>\n",
       "      <td>civil</td>\n",
       "    </tr>\n",
       "    <tr>\n",
       "      <th>2</th>\n",
       "      <td>Michaelmas Term \\n[2009] UKSC 12 \\nOn appeal f...</td>\n",
       "      <td>civil</td>\n",
       "    </tr>\n",
       "    <tr>\n",
       "      <th>3</th>\n",
       "      <td>Easter Term \\n[2011] UKSC 23 \\nOn appeal from:...</td>\n",
       "      <td>civil</td>\n",
       "    </tr>\n",
       "    <tr>\n",
       "      <th>4</th>\n",
       "      <td>Michaelmas Term \\n[2010] UKSC 42 \\nOn appeal f...</td>\n",
       "      <td>civil</td>\n",
       "    </tr>\n",
       "    <tr>\n",
       "      <th>...</th>\n",
       "      <td>...</td>\n",
       "      <td>...</td>\n",
       "    </tr>\n",
       "    <tr>\n",
       "      <th>912</th>\n",
       "      <td>Hilary Term \\n[2023] UKSC 12 \\nOn appeal from:...</td>\n",
       "      <td>civil</td>\n",
       "    </tr>\n",
       "    <tr>\n",
       "      <th>913</th>\n",
       "      <td>Hilary Term \\n[2023] UKSC 13 \\nOn appeal from:...</td>\n",
       "      <td>civil</td>\n",
       "    </tr>\n",
       "    <tr>\n",
       "      <th>914</th>\n",
       "      <td>Easter Term \\n[2023] UKSC 14 \\nOn appeal from:...</td>\n",
       "      <td>civil</td>\n",
       "    </tr>\n",
       "    <tr>\n",
       "      <th>915</th>\n",
       "      <td>Michaelmas Term \\n[2022] UKSC 32 \\n\\nJUDGMENT ...</td>\n",
       "      <td>civil</td>\n",
       "    </tr>\n",
       "    <tr>\n",
       "      <th>917</th>\n",
       "      <td>Michaelmas Term \\n[2022] UKSC 31 \\n\\nJUDGMENT ...</td>\n",
       "      <td>civil</td>\n",
       "    </tr>\n",
       "  </tbody>\n",
       "</table>\n",
       "<p>829 rows × 2 columns</p>\n",
       "</div>"
      ],
      "text/plain": [
       "                                                  text  label\n",
       "0    Hilary Term \\n[2010] UKSC 1 \\n\\nJUDGMENT \\n\\nA...  civil\n",
       "1    Michaelmas Term \\n[2009] UKSC 5 \\nOn appeal fr...  civil\n",
       "2    Michaelmas Term \\n[2009] UKSC 12 \\nOn appeal f...  civil\n",
       "3    Easter Term \\n[2011] UKSC 23 \\nOn appeal from:...  civil\n",
       "4    Michaelmas Term \\n[2010] UKSC 42 \\nOn appeal f...  civil\n",
       "..                                                 ...    ...\n",
       "912  Hilary Term \\n[2023] UKSC 12 \\nOn appeal from:...  civil\n",
       "913  Hilary Term \\n[2023] UKSC 13 \\nOn appeal from:...  civil\n",
       "914  Easter Term \\n[2023] UKSC 14 \\nOn appeal from:...  civil\n",
       "915  Michaelmas Term \\n[2022] UKSC 32 \\n\\nJUDGMENT ...  civil\n",
       "917  Michaelmas Term \\n[2022] UKSC 31 \\n\\nJUDGMENT ...  civil\n",
       "\n",
       "[829 rows x 2 columns]"
      ]
     },
     "execution_count": 20,
     "metadata": {},
     "output_type": "execute_result"
    }
   ],
   "source": [
    "#drop title column\n",
    "binary_label_final = binary_labels.drop(columns=[\"title\"])\n",
    "binary_label_final"
   ]
  },
  {
   "cell_type": "markdown",
   "metadata": {},
   "source": [
    "Splitting the data to training and test sets"
   ]
  },
  {
   "cell_type": "code",
   "execution_count": 21,
   "metadata": {},
   "outputs": [
    {
     "name": "stdout",
     "output_type": "stream",
     "text": [
      "Size of Training samples:  663\n",
      "Size of Test samples    :  166\n",
      "\n"
     ]
    }
   ],
   "source": [
    "#training set: 80% of the samples\n",
    "#test set: 20% of the samples\n",
    "#this is so that the test set can be kept separate only to evaluate performance\n",
    "from sklearn.model_selection import train_test_split\n",
    "\n",
    "x = binary_label_final.drop(\"label\", axis=1)\n",
    "y = binary_label_final[\"label\"]\n",
    "\n",
    "training_data, test_data = train_test_split(binary_label_final, test_size=0.2, stratify=y, random_state=42)\n",
    "\n",
    "#check size of each set\n",
    "print(\"Size of Training samples: \", len(training_data))\n",
    "print(\"Size of Test samples    : \", len(test_data))\n",
    "print()\n",
    "\n",
    "#check class distribution across both sets\n",
    "train_count = training_data[\"label\"].value_counts()\n",
    "test_count = test_data[\"label\"].value_counts()"
   ]
  },
  {
   "cell_type": "code",
   "execution_count": 22,
   "metadata": {},
   "outputs": [
    {
     "name": "stdout",
     "output_type": "stream",
     "text": [
      "The Number of classes in in Training Samples are:\n",
      "civil       581\n",
      "criminal     82\n",
      "Name: label, dtype: int64\n"
     ]
    }
   ],
   "source": [
    "print(\"The Number of classes in in Training Samples are:\")\n",
    "print(train_count)"
   ]
  },
  {
   "cell_type": "code",
   "execution_count": 23,
   "metadata": {},
   "outputs": [
    {
     "name": "stdout",
     "output_type": "stream",
     "text": [
      "The Number of classes in in Test Samples are:\n",
      "civil       145\n",
      "criminal     21\n",
      "Name: label, dtype: int64\n"
     ]
    }
   ],
   "source": [
    "print(\"The Number of classes in in Test Samples are:\")\n",
    "print(test_count)"
   ]
  },
  {
   "cell_type": "code",
   "execution_count": 24,
   "metadata": {},
   "outputs": [
    {
     "name": "stdout",
     "output_type": "stream",
     "text": [
      "Data types in Training set :\n",
      " text     string\n",
      "label    object\n",
      "dtype: object\n",
      "\n",
      "Data types in Test set :\n",
      " text     string\n",
      "label    object\n",
      "dtype: object\n"
     ]
    }
   ],
   "source": [
    "#convert object type to string for preprocessing\n",
    "training_data = training_data.astype({\"text\":\"string\"})\n",
    "test_data = test_data.astype({\"text\":\"string\"})\n",
    "\n",
    "#check data types\n",
    "print(\"Data types in Training set :\\n\", training_data.dtypes)\n",
    "print()\n",
    "print(\"Data types in Test set :\\n\", test_data.dtypes)"
   ]
  },
  {
   "cell_type": "code",
   "execution_count": 25,
   "metadata": {},
   "outputs": [
    {
     "name": "stdout",
     "output_type": "stream",
     "text": [
      "Missing data in Training Set: \n",
      " text     0\n",
      "label    0\n",
      "dtype: int64\n",
      "\n",
      "Missing data in Test Set: \n",
      " text     0\n",
      "label    0\n",
      "dtype: int64\n"
     ]
    }
   ],
   "source": [
    "#check for missing data\n",
    "print(\"Missing data in Training Set: \\n\", training_data.isna().sum())\n",
    "print()\n",
    "print(\"Missing data in Test Set: \\n\", test_data.isna().sum())"
   ]
  },
  {
   "cell_type": "code",
   "execution_count": 26,
   "metadata": {},
   "outputs": [
    {
     "data": {
      "text/html": [
       "<div>\n",
       "<style scoped>\n",
       "    .dataframe tbody tr th:only-of-type {\n",
       "        vertical-align: middle;\n",
       "    }\n",
       "\n",
       "    .dataframe tbody tr th {\n",
       "        vertical-align: top;\n",
       "    }\n",
       "\n",
       "    .dataframe thead th {\n",
       "        text-align: right;\n",
       "    }\n",
       "</style>\n",
       "<table border=\"1\" class=\"dataframe\">\n",
       "  <thead>\n",
       "    <tr style=\"text-align: right;\">\n",
       "      <th></th>\n",
       "      <th>text</th>\n",
       "      <th>label</th>\n",
       "    </tr>\n",
       "  </thead>\n",
       "  <tbody>\n",
       "    <tr>\n",
       "      <th>506</th>\n",
       "      <td>Trinity Term \n",
       "[2016] UKSC 28 \n",
       "On appeal from: ...</td>\n",
       "      <td>civil</td>\n",
       "    </tr>\n",
       "    <tr>\n",
       "      <th>108</th>\n",
       "      <td>Hilary Term \n",
       "[2011] UKSC 12 \n",
       "On appeal from: 2...</td>\n",
       "      <td>civil</td>\n",
       "    </tr>\n",
       "    <tr>\n",
       "      <th>323</th>\n",
       "      <td>Hilary Term \n",
       "[2013] UKSC 5 \n",
       "On appeal from: [2...</td>\n",
       "      <td>civil</td>\n",
       "    </tr>\n",
       "    <tr>\n",
       "      <th>818</th>\n",
       "      <td>Michaelmas Term \n",
       "[2021] UKSC 49 \n",
       "On appeal fro...</td>\n",
       "      <td>criminal</td>\n",
       "    </tr>\n",
       "    <tr>\n",
       "      <th>787</th>\n",
       "      <td>Easter Term \n",
       "[2020] UKSC 22 \n",
       "On appeal from: [...</td>\n",
       "      <td>civil</td>\n",
       "    </tr>\n",
       "    <tr>\n",
       "      <th>...</th>\n",
       "      <td>...</td>\n",
       "      <td>...</td>\n",
       "    </tr>\n",
       "    <tr>\n",
       "      <th>466</th>\n",
       "      <td>Trinity Term \n",
       "[2016] UKSC 47 \n",
       "On appeal from: ...</td>\n",
       "      <td>civil</td>\n",
       "    </tr>\n",
       "    <tr>\n",
       "      <th>73</th>\n",
       "      <td>Trinity Term \n",
       "[2010] UKSC 39 \n",
       "On appeal from: ...</td>\n",
       "      <td>criminal</td>\n",
       "    </tr>\n",
       "    <tr>\n",
       "      <th>133</th>\n",
       "      <td>Easter Term \n",
       "[2011] UKSC 22 \n",
       "On appeal from: [...</td>\n",
       "      <td>civil</td>\n",
       "    </tr>\n",
       "    <tr>\n",
       "      <th>627</th>\n",
       "      <td>Trinity Term \n",
       "[2018] UKSC 30 \n",
       "On appeal from: ...</td>\n",
       "      <td>civil</td>\n",
       "    </tr>\n",
       "    <tr>\n",
       "      <th>564</th>\n",
       "      <td>Hilary Term \n",
       "[2017] UKSC 27 \n",
       "On appeals from: ...</td>\n",
       "      <td>civil</td>\n",
       "    </tr>\n",
       "  </tbody>\n",
       "</table>\n",
       "<p>663 rows × 2 columns</p>\n",
       "</div>"
      ],
      "text/plain": [
       "                                                  text     label\n",
       "506  Trinity Term \n",
       "[2016] UKSC 28 \n",
       "On appeal from: ...     civil\n",
       "108  Hilary Term \n",
       "[2011] UKSC 12 \n",
       "On appeal from: 2...     civil\n",
       "323  Hilary Term \n",
       "[2013] UKSC 5 \n",
       "On appeal from: [2...     civil\n",
       "818  Michaelmas Term \n",
       "[2021] UKSC 49 \n",
       "On appeal fro...  criminal\n",
       "787  Easter Term \n",
       "[2020] UKSC 22 \n",
       "On appeal from: [...     civil\n",
       "..                                                 ...       ...\n",
       "466  Trinity Term \n",
       "[2016] UKSC 47 \n",
       "On appeal from: ...     civil\n",
       "73   Trinity Term \n",
       "[2010] UKSC 39 \n",
       "On appeal from: ...  criminal\n",
       "133  Easter Term \n",
       "[2011] UKSC 22 \n",
       "On appeal from: [...     civil\n",
       "627  Trinity Term \n",
       "[2018] UKSC 30 \n",
       "On appeal from: ...     civil\n",
       "564  Hilary Term \n",
       "[2017] UKSC 27 \n",
       "On appeals from: ...     civil\n",
       "\n",
       "[663 rows x 2 columns]"
      ]
     },
     "execution_count": 26,
     "metadata": {},
     "output_type": "execute_result"
    }
   ],
   "source": [
    "training_data"
   ]
  },
  {
   "cell_type": "markdown",
   "metadata": {},
   "source": [
    "Now that the training and test samples are prepared, the two samples need to be tokenised. "
   ]
  },
  {
   "cell_type": "code",
   "execution_count": 27,
   "metadata": {},
   "outputs": [
    {
     "name": "stdout",
     "output_type": "stream",
     "text": [
      "No.of judgments in Training set:  663\n",
      "No.of labels in Training set:  663\n",
      "No.of judgments in Test set:  166\n",
      "No.of labels in Training set:  166\n"
     ]
    }
   ],
   "source": [
    "#in order to tokenise:\n",
    "\n",
    "#create a list of articles + labels for both training and test samples\n",
    "training_text = training_data[\"text\"].tolist()\n",
    "training_label = training_data[\"label\"].tolist()\n",
    "\n",
    "test_text = test_data[\"text\"].tolist()\n",
    "test_label = test_data[\"label\"].tolist()\n",
    "\n",
    "#confirm the same no.of articles and labels in both samples\n",
    "print(\"No.of judgments in Training set: \", len(training_text))\n",
    "print(\"No.of labels in Training set: \", len(training_label))\n",
    "print(\"No.of judgments in Test set: \", len(test_text))\n",
    "print(\"No.of labels in Training set: \", len(test_label))"
   ]
  },
  {
   "cell_type": "code",
   "execution_count": 28,
   "metadata": {},
   "outputs": [
    {
     "name": "stdout",
     "output_type": "stream",
     "text": [
      "Total no. of training samples:  663\n",
      "Total no. of training labels:  663\n",
      "Total no. of test samples:  166\n",
      "Total no. of test labels:  166\n"
     ]
    }
   ],
   "source": [
    "#tokenize each article to its lowercase words\n",
    "\n",
    "training_tokens = []\n",
    "training_label_final = []\n",
    "test_tokens = []\n",
    "test_label_final = []\n",
    "\n",
    "for i in range(len(training_text)):\n",
    "    try: \n",
    "        tokens = word_tokenize(training_text[i].lower()) #tokenise+lowercase\n",
    "        training_tokens.append(tokens)\n",
    "        training_label_final.append(training_label[i])\n",
    "    except:\n",
    "        pass\n",
    "\n",
    "for x in range(len(test_text)):\n",
    "    try: \n",
    "        tokens = word_tokenize(test_text[x].lower()) #tokenise+lowercase\n",
    "        test_tokens.append(tokens)\n",
    "        test_label_final.append(test_label[x])\n",
    "    except:\n",
    "        pass\n",
    "\n",
    "#confirm the same no.of articles and labels in both samples\n",
    "print(\"Total no. of training samples: \", len(training_tokens))\n",
    "print(\"Total no. of training labels: \", len(training_label_final))\n",
    "print(\"Total no. of test samples: \", len(test_tokens))\n",
    "print(\"Total no. of test labels: \", len(test_label_final))"
   ]
  },
  {
   "cell_type": "code",
   "execution_count": null,
   "metadata": {},
   "outputs": [],
   "source": [
    "#print(\"Training sample 1: \", training_tokens[0])"
   ]
  },
  {
   "cell_type": "code",
   "execution_count": 30,
   "metadata": {},
   "outputs": [
    {
     "name": "stdout",
     "output_type": "stream",
     "text": [
      "Total no. of training samples:  663\n",
      "Total no. of training labels:  663\n",
      "Total no. of test samples:  166\n",
      "Total no. of test labels:  166\n"
     ]
    }
   ],
   "source": [
    "#remove stopwords and punctuation\n",
    "\n",
    "pTraining_articles = training_tokens\n",
    "pTraining_label = training_label_final\n",
    "pTest_articles = test_tokens\n",
    "pTest_label = test_label_final\n",
    "\n",
    "stopwords_english = stopwords.words('english') # Load the stop words list for English in variable\n",
    "\n",
    "for i in range(len(pTraining_articles)):\n",
    "    new_tokens = []\n",
    "    for word in pTraining_articles[i]:\n",
    "        word = word.replace(\"-\", \"\") #remove hyphens\n",
    "        word = word.replace(\".\", \"\") #remove dots to normalise abbreiviations\n",
    "        #select only tokens with letters a to z\n",
    "        regex_check = re.match(\"[a-z]+\", word)\n",
    "        if (regex_check!=None):\n",
    "            if((regex_check.group()==word) and (word not in stopwords_english)): # Check regex and stopwords\n",
    "                new_tokens.append(word)\n",
    "    pTraining_articles[i] = new_tokens\n",
    "\n",
    "for x in range(len(pTest_articles)):\n",
    "    new_tokens = []\n",
    "    for word in pTest_articles[x]:\n",
    "        word = word.replace(\"-\", \"\") #remove hyphens\n",
    "        word = word.replace(\".\", \"\") #remove dots to normalise abbreiviations\n",
    "        #select only tokens with letters a to z\n",
    "        regex_check = re.match(\"[a-z]+\", word)\n",
    "        if (regex_check!=None):\n",
    "            if((regex_check.group()==word) and (word not in stopwords_english)): # Check regex and stopwords\n",
    "                new_tokens.append(word)\n",
    "    pTest_articles[x] = new_tokens\n",
    "    \n",
    "print(\"Total no. of training samples: \", len(pTraining_articles))\n",
    "print(\"Total no. of training labels: \", len(pTraining_label))\n",
    "print(\"Total no. of test samples: \", len(pTest_articles))\n",
    "print(\"Total no. of test labels: \", len(pTest_label))\n",
    "\n",
    "#https://www.freecodecamp.org/news/list-index-out-of-range-python-error-solved/\n",
    "#citation for else: i +=1"
   ]
  },
  {
   "cell_type": "code",
   "execution_count": null,
   "metadata": {},
   "outputs": [],
   "source": [
    "#print(\"Training sample 1 [lowercase,no symbols,no numbers,no punctuation]: \\n \", pTraining_articles[0])"
   ]
  },
  {
   "cell_type": "code",
   "execution_count": 32,
   "metadata": {},
   "outputs": [
    {
     "name": "stdout",
     "output_type": "stream",
     "text": [
      "Snippet of cleaned training data: \n",
      "                                              alltext     label\n",
      "0  trinity term uksc appeal ewca civ judgment mcd...     civil\n",
      "1  hilary term uksc appeal ewca civ judgment walu...     civil\n",
      "2  hilary term uksc appeal ewca civ judgment vtb ...     civil\n",
      "3  michaelmas term uksc appeal ewca civ judgment ...  criminal\n",
      "4  easter term uksc appeal ewca civ judgment fowl...     civil\n",
      "\n",
      "Snippet of cleaned test data: \n",
      "                                              alltext     label\n",
      "0  trinity term uksc appeal ewca civ judgment r a...  criminal\n",
      "1  easter term uksc appeal ewca civ judgment r ap...     civil\n",
      "2  uksc appeal ewca civ judgment goldtrail travel...     civil\n",
      "3  trinity term uksc appeal ewca civ judgment hj ...     civil\n",
      "4  trinity term uksc appeal csih judgment sadovsk...     civil\n"
     ]
    }
   ],
   "source": [
    "pp_training_text = pTraining_articles\n",
    "pp_test_text = pTest_articles\n",
    "\n",
    "training_label_final = pTraining_label\n",
    "test_label_final = pTest_label\n",
    "\n",
    "#save training and test data as dataframes\n",
    "\n",
    "#create two dataframes\n",
    "clean_training_data = pd.DataFrame(columns=[\"alltext\",\"label\"])\n",
    "clean_test_data = pd.DataFrame(columns=[\"alltext\", \"label\"])\n",
    "\n",
    "#loop text and labels into each dataframe\n",
    "for i in range(len(training_label_final)):\n",
    "    clean_training_data.loc[i,\"alltext\"] = pp_training_text[i]\n",
    "    clean_training_data.loc[i,\"label\"] = training_label_final[i]\n",
    "    \n",
    "for i in range(len(test_label_final)):\n",
    "    clean_test_data.loc[i, \"alltext\"] = pp_test_text[i]\n",
    "    clean_test_data.loc[i,\"label\"] = test_label_final[i]\n",
    "\n",
    "#convert list of strings using .join\n",
    "clean_training_data[\"alltext\"] = clean_training_data[\"alltext\"].apply(\" \".join)\n",
    "clean_test_data[\"alltext\"] = clean_test_data[\"alltext\"].apply(\" \".join)\n",
    "\n",
    "print(\"Snippet of cleaned training data: \\n\", clean_training_data.head())\n",
    "print()\n",
    "print(\"Snippet of cleaned test data: \\n\", clean_test_data.head())"
   ]
  },
  {
   "cell_type": "code",
   "execution_count": 33,
   "metadata": {},
   "outputs": [
    {
     "name": "stdout",
     "output_type": "stream",
     "text": [
      "Samples in Training Set:  663\n",
      "Labels in Training Set:  663\n",
      "Samples in Test Set:  166\n",
      "Labels in Test Set:  166\n"
     ]
    }
   ],
   "source": [
    "#remove texts that are less than 50 characters long to remove noise (as it would not add much to the learning process)\n",
    "#should remove texts that are empty as well.\n",
    "clean_training_data.drop(clean_training_data[clean_training_data.alltext.str.len() < 50].index, inplace=True)\n",
    "clean_test_data.drop(clean_test_data[clean_test_data.alltext.str.len() < 50].index, inplace=True)\n",
    "\n",
    "\n",
    "#reduce the no.of words to be considered for each text to 200 (for faster performance)\n",
    "def truncate_text_to_max_words(text,max_words): # Keep only the first max_words of each text\n",
    "    text = text.split(maxsplit=max_words)\n",
    "    text = ' '.join(text[:max_words])\n",
    "    return text\n",
    "\n",
    "max_words = 70000 # Set the maximum number of words to be considered for each document \n",
    "\n",
    "# Truncate text to first 70000 words\n",
    "clean_training_data['alltext'] = clean_training_data['alltext'].apply(truncate_text_to_max_words,args=(max_words,))\n",
    "clean_test_data['alltext'] = clean_test_data['alltext'].apply(truncate_text_to_max_words,args=(max_words,))\n",
    "\n",
    "print(\"Samples in Training Set: \", len(clean_training_data[\"alltext\"]))\n",
    "print(\"Labels in Training Set: \", len(clean_training_data[\"label\"]))\n",
    "print(\"Samples in Test Set: \", len(clean_test_data[\"alltext\"]))\n",
    "print(\"Labels in Test Set: \", len(clean_test_data[\"label\"]))"
   ]
  },
  {
   "cell_type": "code",
   "execution_count": 34,
   "metadata": {},
   "outputs": [],
   "source": [
    "final_training = clean_training_data\n",
    "final_test = clean_test_data"
   ]
  },
  {
   "cell_type": "code",
   "execution_count": 35,
   "metadata": {},
   "outputs": [
    {
     "name": "stdout",
     "output_type": "stream",
     "text": [
      "Samples in Training Set:  663\n",
      "Labels in Training Set:  663\n",
      "Samples in Test Set:  166\n",
      "Labels in Test Set:  166\n"
     ]
    }
   ],
   "source": [
    "#convert training and test texts to list\n",
    "training_text_final = final_training[\"alltext\"].tolist()\n",
    "training_label_final = final_training[\"label\"].tolist()\n",
    "\n",
    "test_text_final = final_test[\"alltext\"].tolist()\n",
    "test_label_final = final_test[\"label\"].tolist()\n",
    "\n",
    "print(\"Samples in Training Set: \", len(training_text_final))\n",
    "print(\"Labels in Training Set: \", len(training_label_final))\n",
    "print(\"Samples in Test Set: \", len(test_text_final))\n",
    "print(\"Labels in Test Set: \", len(test_label_final))"
   ]
  },
  {
   "cell_type": "code",
   "execution_count": 36,
   "metadata": {},
   "outputs": [
    {
     "data": {
      "text/html": [
       "<div>\n",
       "<style scoped>\n",
       "    .dataframe tbody tr th:only-of-type {\n",
       "        vertical-align: middle;\n",
       "    }\n",
       "\n",
       "    .dataframe tbody tr th {\n",
       "        vertical-align: top;\n",
       "    }\n",
       "\n",
       "    .dataframe thead th {\n",
       "        text-align: right;\n",
       "    }\n",
       "</style>\n",
       "<table border=\"1\" class=\"dataframe\">\n",
       "  <thead>\n",
       "    <tr style=\"text-align: right;\">\n",
       "      <th></th>\n",
       "      <th>alltext</th>\n",
       "      <th>label</th>\n",
       "    </tr>\n",
       "  </thead>\n",
       "  <tbody>\n",
       "    <tr>\n",
       "      <th>0</th>\n",
       "      <td>trinity term uksc appeal ewca civ judgment mcd...</td>\n",
       "      <td>civil</td>\n",
       "    </tr>\n",
       "    <tr>\n",
       "      <th>1</th>\n",
       "      <td>hilary term uksc appeal ewca civ judgment walu...</td>\n",
       "      <td>civil</td>\n",
       "    </tr>\n",
       "    <tr>\n",
       "      <th>2</th>\n",
       "      <td>hilary term uksc appeal ewca civ judgment vtb ...</td>\n",
       "      <td>civil</td>\n",
       "    </tr>\n",
       "    <tr>\n",
       "      <th>3</th>\n",
       "      <td>michaelmas term uksc appeal ewca civ judgment ...</td>\n",
       "      <td>criminal</td>\n",
       "    </tr>\n",
       "    <tr>\n",
       "      <th>4</th>\n",
       "      <td>easter term uksc appeal ewca civ judgment fowl...</td>\n",
       "      <td>civil</td>\n",
       "    </tr>\n",
       "    <tr>\n",
       "      <th>...</th>\n",
       "      <td>...</td>\n",
       "      <td>...</td>\n",
       "    </tr>\n",
       "    <tr>\n",
       "      <th>658</th>\n",
       "      <td>trinity term uksc appeal ewca civ judgment bai...</td>\n",
       "      <td>civil</td>\n",
       "    </tr>\n",
       "    <tr>\n",
       "      <th>659</th>\n",
       "      <td>trinity term uksc appeal ewca crim judgment r ...</td>\n",
       "      <td>criminal</td>\n",
       "    </tr>\n",
       "    <tr>\n",
       "      <th>660</th>\n",
       "      <td>easter term uksc appeal ewca civ judgment fa i...</td>\n",
       "      <td>civil</td>\n",
       "    </tr>\n",
       "    <tr>\n",
       "      <th>661</th>\n",
       "      <td>trinity term uksc appeal ewca civ judgment pro...</td>\n",
       "      <td>civil</td>\n",
       "    </tr>\n",
       "    <tr>\n",
       "      <th>662</th>\n",
       "      <td>hilary term uksc appeals ewca civ ewca civ jud...</td>\n",
       "      <td>civil</td>\n",
       "    </tr>\n",
       "  </tbody>\n",
       "</table>\n",
       "<p>663 rows × 2 columns</p>\n",
       "</div>"
      ],
      "text/plain": [
       "                                               alltext     label\n",
       "0    trinity term uksc appeal ewca civ judgment mcd...     civil\n",
       "1    hilary term uksc appeal ewca civ judgment walu...     civil\n",
       "2    hilary term uksc appeal ewca civ judgment vtb ...     civil\n",
       "3    michaelmas term uksc appeal ewca civ judgment ...  criminal\n",
       "4    easter term uksc appeal ewca civ judgment fowl...     civil\n",
       "..                                                 ...       ...\n",
       "658  trinity term uksc appeal ewca civ judgment bai...     civil\n",
       "659  trinity term uksc appeal ewca crim judgment r ...  criminal\n",
       "660  easter term uksc appeal ewca civ judgment fa i...     civil\n",
       "661  trinity term uksc appeal ewca civ judgment pro...     civil\n",
       "662  hilary term uksc appeals ewca civ ewca civ jud...     civil\n",
       "\n",
       "[663 rows x 2 columns]"
      ]
     },
     "execution_count": 36,
     "metadata": {},
     "output_type": "execute_result"
    }
   ],
   "source": [
    "clean_training_data"
   ]
  },
  {
   "cell_type": "markdown",
   "metadata": {},
   "source": [
    "Splitting the training data to training and validation data for hyperparameter testing"
   ]
  },
  {
   "cell_type": "code",
   "execution_count": 37,
   "metadata": {},
   "outputs": [],
   "source": [
    "#create training dataframe.\n",
    "training_df = clean_training_data.copy()"
   ]
  },
  {
   "cell_type": "code",
   "execution_count": 38,
   "metadata": {},
   "outputs": [],
   "source": [
    "x = training_df.drop(\"label\", axis=1)\n",
    "y = training_df[\"label\"]"
   ]
  },
  {
   "cell_type": "code",
   "execution_count": 39,
   "metadata": {},
   "outputs": [
    {
     "name": "stdout",
     "output_type": "stream",
     "text": [
      "Size of Training samples:  530\n",
      "Size of validation samples    :  133\n",
      "\n"
     ]
    }
   ],
   "source": [
    "training_data, valid_data = train_test_split(training_df, test_size=0.2, stratify=y, random_state=42)\n",
    "\n",
    "#check size of each set\n",
    "print(\"Size of Training samples: \", len(training_data))\n",
    "print(\"Size of validation samples    : \", len(valid_data))\n",
    "print()\n",
    "\n",
    "#check class distribution across both sets\n",
    "train_count = training_data[\"label\"].value_counts()\n",
    "valid_count = valid_data[\"label\"].value_counts()"
   ]
  },
  {
   "cell_type": "code",
   "execution_count": 40,
   "metadata": {},
   "outputs": [
    {
     "data": {
      "text/plain": [
       "civil       464\n",
       "criminal     66\n",
       "Name: label, dtype: int64"
      ]
     },
     "execution_count": 40,
     "metadata": {},
     "output_type": "execute_result"
    }
   ],
   "source": [
    "train_count"
   ]
  },
  {
   "cell_type": "code",
   "execution_count": 41,
   "metadata": {},
   "outputs": [
    {
     "data": {
      "text/plain": [
       "civil       117\n",
       "criminal     16\n",
       "Name: label, dtype: int64"
      ]
     },
     "execution_count": 41,
     "metadata": {},
     "output_type": "execute_result"
    }
   ],
   "source": [
    "valid_count"
   ]
  },
  {
   "cell_type": "markdown",
   "metadata": {},
   "source": [
    "### Rebalance Classes"
   ]
  },
  {
   "cell_type": "markdown",
   "metadata": {},
   "source": [
    "Now that the training and test samples have been preprocessed and cleaned, it is necessary to evaluate class balance."
   ]
  },
  {
   "cell_type": "code",
   "execution_count": 42,
   "metadata": {},
   "outputs": [
    {
     "name": "stdout",
     "output_type": "stream",
     "text": [
      "The Number of training classes are:\n",
      "civil       464\n",
      "criminal     66\n",
      "Name: label, dtype: int64\n"
     ]
    }
   ],
   "source": [
    "#check the class balance\n",
    "print(\"The Number of training classes are:\")\n",
    "print(training_data['label'].value_counts())"
   ]
  },
  {
   "cell_type": "code",
   "execution_count": 43,
   "metadata": {},
   "outputs": [],
   "source": [
    "#there is a severe imbalance of classes\n",
    "#to rebalance classes, prepare each class as follows: \n",
    "\n",
    "df_majority_civil = training_data[training_data['label']=='civil']\n",
    "df_minority_crim = training_data[training_data['label']=='criminal']"
   ]
  },
  {
   "cell_type": "code",
   "execution_count": 44,
   "metadata": {},
   "outputs": [],
   "source": [
    "df_minority_upsampled_crim = resample(df_minority_crim, replace=True, n_samples=464)\n",
    "\n",
    "#code adapted from: https://stackoverflow.com/questions/52735334/python-pandas-resample-dataset-to-have-balanced-classes"
   ]
  },
  {
   "cell_type": "code",
   "execution_count": 45,
   "metadata": {},
   "outputs": [
    {
     "name": "stdout",
     "output_type": "stream",
     "text": [
      "The Number of classes are:\n",
      "civil       464\n",
      "criminal    464\n",
      "Name: label, dtype: int64\n"
     ]
    }
   ],
   "source": [
    "#code to get minority civil samples upsamplped\n",
    "df_upsampled = pd.concat([df_majority_civil, df_minority_upsampled_crim])\n",
    "\n",
    "#ensure that the classes are now balanced\n",
    "print(\"The Number of classes are:\")\n",
    "print(df_upsampled['label'].value_counts())"
   ]
  },
  {
   "cell_type": "code",
   "execution_count": 49,
   "metadata": {},
   "outputs": [],
   "source": [
    "train = df_upsampled"
   ]
  },
  {
   "cell_type": "code",
   "execution_count": 50,
   "metadata": {},
   "outputs": [
    {
     "name": "stdout",
     "output_type": "stream",
     "text": [
      "928\n",
      "928\n",
      "\n",
      "133\n",
      "133\n",
      "\n",
      "166\n",
      "166\n"
     ]
    }
   ],
   "source": [
    "train_text = train[\"alltext\"].tolist()\n",
    "train_label = train[\"label\"].tolist()\n",
    "\n",
    "valid_text = valid_data[\"alltext\"].tolist()\n",
    "valid_label = valid_data[\"label\"].tolist()\n",
    "\n",
    "test_text = clean_test_data[\"alltext\"].tolist()\n",
    "test_label = clean_test_data[\"label\"].tolist()\n",
    "\n",
    "# Check lengths\n",
    "print(len(train_text))\n",
    "print(len(train_label))\n",
    "print()\n",
    "\n",
    "print(len(valid_text))\n",
    "print(len(valid_label))\n",
    "print()\n",
    "\n",
    "print(len(test_text))\n",
    "print(len(test_label))"
   ]
  },
  {
   "cell_type": "code",
   "execution_count": 51,
   "metadata": {},
   "outputs": [
    {
     "data": {
      "text/plain": [
       "criminal    464\n",
       "civil       464\n",
       "dtype: int64"
      ]
     },
     "execution_count": 51,
     "metadata": {},
     "output_type": "execute_result"
    }
   ],
   "source": [
    "pd.value_counts(np.array(train_label))"
   ]
  },
  {
   "cell_type": "code",
   "execution_count": 52,
   "metadata": {},
   "outputs": [],
   "source": [
    "###create training and test dataframes\n",
    "final_training = pd.DataFrame({\"training_text\": train_text, \"training_label\": train_label})"
   ]
  },
  {
   "cell_type": "code",
   "execution_count": 53,
   "metadata": {},
   "outputs": [
    {
     "name": "stdout",
     "output_type": "stream",
     "text": [
      "<class 'pandas.core.frame.DataFrame'>\n",
      "RangeIndex: 928 entries, 0 to 927\n",
      "Data columns (total 2 columns):\n",
      " #   Column          Non-Null Count  Dtype \n",
      "---  ------          --------------  ----- \n",
      " 0   training_text   928 non-null    object\n",
      " 1   training_label  928 non-null    object\n",
      "dtypes: object(2)\n",
      "memory usage: 14.6+ KB\n"
     ]
    }
   ],
   "source": [
    "final_training.info()"
   ]
  },
  {
   "cell_type": "code",
   "execution_count": 47,
   "metadata": {},
   "outputs": [],
   "source": [
    "#save df for future use\n",
    "final_training.to_csv(\"UKSC_training_data_NN_2labels.csv\", index=False)"
   ]
  },
  {
   "cell_type": "markdown",
   "metadata": {},
   "source": [
    "### Implementing Traditional Classifiers"
   ]
  },
  {
   "cell_type": "code",
   "execution_count": 123,
   "metadata": {},
   "outputs": [
    {
     "name": "stdout",
     "output_type": "stream",
     "text": [
      "Predicted: ['criminal', 'civil', 'civil', 'civil', 'civil', 'civil', 'criminal', 'criminal', 'civil', 'civil']\n",
      "Ground truth: ['criminal', 'civil', 'civil', 'civil', 'civil', 'civil', 'criminal', 'civil', 'civil', 'civil']\n"
     ]
    }
   ],
   "source": [
    "#NAIVE BAYES\n",
    "#text classification using a Multinomial Naive Bayes\n",
    "\n",
    "#build the Naive Bayes model by setting a pipeline where the input is first converted\n",
    "#to TF-IDF vectors and then a Multinomial Naive Bayes is used\n",
    "model1_nb = make_pipeline(TfidfVectorizer(), MultinomialNB())\n",
    "model1_nb.fit(train_text, train_label) # Train the model on the training data\n",
    "\n",
    "predicted_categories1_nb = model1_nb.predict(test_text) # Predict the categories of the test data\n",
    "print(\"Predicted:\",predicted_categories1_nb.tolist()[0:10]) # Print the first 10 predictions\n",
    "print(\"Ground truth:\",test_label[0:10]) # Print the first 10 ground truth values"
   ]
  },
  {
   "cell_type": "code",
   "execution_count": 124,
   "metadata": {},
   "outputs": [
    {
     "data": {
      "image/png": "[encoded data removed]",
      "text/plain": [
       "<Figure size 432x288 with 2 Axes>"
      ]
     },
     "metadata": {},
     "output_type": "display_data"
    },
    {
     "name": "stdout",
     "output_type": "stream",
     "text": [
      "Accuracy:\t0.710843\n",
      "F1-score:\t0.634160\n",
      "Precision:\t0.652174\n",
      "Recall:\t\t0.834483\n",
      "\n",
      "Classification performance of [Multinomial] Naives Bayes Model:\n",
      "              precision    recall  f1-score   support\n",
      "\n",
      "       civil       1.00      0.67      0.80       145\n",
      "    criminal       0.30      1.00      0.47        21\n",
      "\n",
      "    accuracy                           0.71       166\n",
      "   macro avg       0.65      0.83      0.63       166\n",
      "weighted avg       0.91      0.71      0.76       166\n",
      "\n"
     ]
    }
   ],
   "source": [
    "# Plot the confusion matrix for model 1: Multinomial Naive Bayes classifier\n",
    "mat1_nb = confusion_matrix(test_label, predicted_categories1_nb)\n",
    "sns.heatmap(mat1_nb.T, square = True, annot=True, fmt = \"d\")\n",
    "plt.xlabel(\"True label\")\n",
    "plt.ylabel(\"Predicted label\")\n",
    "plt.title(\"Naive Bayes [Multinomial]: 2-class Classification\")\n",
    "plt.savefig(\"NB2_Performance\")\n",
    "plt.show()\n",
    "\n",
    "# Compute and print classification performance metrics\n",
    "print(\"Accuracy:\\t%f\" % accuracy_score(test_label, predicted_categories1_nb))\n",
    "print(\"F1-score:\\t%f\" % f1_score(test_label, predicted_categories1_nb, average='macro'))\n",
    "print(\"Precision:\\t%f\" % precision_score(test_label, predicted_categories1_nb, average='macro'))\n",
    "print(\"Recall:\\t\\t%f\" % recall_score(test_label, predicted_categories1_nb, average='macro'))\n",
    "print(\"\\nClassification performance of [Multinomial] Naives Bayes Model:\\n%s\" % classification_report(test_label, predicted_categories1_nb))"
   ]
  },
  {
   "cell_type": "code",
   "execution_count": 125,
   "metadata": {},
   "outputs": [
    {
     "name": "stdout",
     "output_type": "stream",
     "text": [
      "Predicted: ['criminal', 'civil', 'civil', 'civil', 'civil', 'civil', 'civil', 'civil', 'civil', 'civil']\n",
      "Ground truth: ['criminal', 'civil', 'civil', 'civil', 'civil', 'civil', 'criminal', 'civil', 'civil', 'civil']\n"
     ]
    }
   ],
   "source": [
    "#NAIVE BAYES\n",
    "#text classification using a Bernoulli Naive Bayes\n",
    "\n",
    "# Build the Naive Bayes model by setting a pipeline where the input is first converted\n",
    "# to TF-IDF vectors and then a Multinomial Naive Bayes is used\n",
    "model1_nb2 = make_pipeline(TfidfVectorizer(), BernoulliNB())\n",
    "model1_nb2.fit(train_text, train_label) # Train the model on the training data\n",
    "\n",
    "predicted_categories1_nb2 = model1_nb2.predict(test_text) # Predict the categories of the test data\n",
    "print(\"Predicted:\",predicted_categories1_nb2.tolist()[0:10]) # Print the first 10 predictions\n",
    "print(\"Ground truth:\",test_label[0:10]) # Print the first 10 ground truth values"
   ]
  },
  {
   "cell_type": "code",
   "execution_count": 126,
   "metadata": {},
   "outputs": [
    {
     "data": {
      "image/png": "[encoded data removed]",
      "text/plain": [
       "<Figure size 432x288 with 2 Axes>"
      ]
     },
     "metadata": {},
     "output_type": "display_data"
    },
    {
     "name": "stdout",
     "output_type": "stream",
     "text": [
      "Accuracy:\t0.909639\n",
      "F1-score:\t0.807201\n",
      "Precision:\t0.791373\n",
      "Recall:\t\t0.826108\n",
      "\n",
      "Classification performance of [Bernoulli] Naives Bayes Model:\n",
      "              precision    recall  f1-score   support\n",
      "\n",
      "       civil       0.96      0.94      0.95       145\n",
      "    criminal       0.62      0.71      0.67        21\n",
      "\n",
      "    accuracy                           0.91       166\n",
      "   macro avg       0.79      0.83      0.81       166\n",
      "weighted avg       0.92      0.91      0.91       166\n",
      "\n"
     ]
    }
   ],
   "source": [
    "# Plot the confusion matrix for model 1: Bernoulli Naive Bayes classifier\n",
    "mat1_nb = confusion_matrix(test_label, predicted_categories1_nb2)\n",
    "sns.heatmap(mat1_nb.T, square = True, annot=True, fmt = \"d\")\n",
    "plt.xlabel(\"True label\")\n",
    "plt.ylabel(\"Predicted label\")\n",
    "plt.title(\"Naive Bayes [Bernoulli]: 2-class Classification\")\n",
    "plt.savefig(\"NB_Bernoulli_Performance2\")\n",
    "plt.show()\n",
    "\n",
    "# Compute and print classification performance metrics\n",
    "print(\"Accuracy:\\t%f\" % accuracy_score(test_label, predicted_categories1_nb2))\n",
    "print(\"F1-score:\\t%f\" % f1_score(test_label, predicted_categories1_nb2, average='macro'))\n",
    "print(\"Precision:\\t%f\" % precision_score(test_label, predicted_categories1_nb2, average='macro'))\n",
    "print(\"Recall:\\t\\t%f\" % recall_score(test_label, predicted_categories1_nb2, average='macro'))\n",
    "print(\"\\nClassification performance of [Bernoulli] Naives Bayes Model:\\n%s\" % classification_report(test_label, predicted_categories1_nb2))"
   ]
  },
  {
   "cell_type": "markdown",
   "metadata": {},
   "source": [
    "### KNN CLASSIFIER"
   ]
  },
  {
   "cell_type": "code",
   "execution_count": 138,
   "metadata": {},
   "outputs": [
    {
     "name": "stdout",
     "output_type": "stream",
     "text": [
      "Predicted: ['civil', 'civil', 'criminal', 'criminal', 'civil', 'civil', 'civil', 'civil', 'civil', 'criminal']\n",
      "Ground truth: ['civil', 'civil', 'civil', 'civil', 'civil', 'civil', 'civil', 'civil', 'civil', 'criminal']\n"
     ]
    }
   ],
   "source": [
    "# Build the kNN model by setting a pipeline where the input is first converted\n",
    "# to TF-IDF vectors and then a kNN classifier for k=5(default) is used\n",
    "model2_knn1 = make_pipeline(TfidfVectorizer(), KNeighborsClassifier())\n",
    "model2_knn1.fit(train_text, train_label) # Train the model on the training data\n",
    "predicted_categories2_knn1 = model2_knn1.predict(valid_text) # Predict the categories of the test data\n",
    "print(\"Predicted:\",predicted_categories2_knn1.tolist()[0:10]) # Print the first 10 predictions\n",
    "print(\"Ground truth:\",valid_label[0:10]) # Print the first 10 ground truth values"
   ]
  },
  {
   "cell_type": "code",
   "execution_count": 139,
   "metadata": {},
   "outputs": [
    {
     "data": {
      "image/png": "[encoded data removed]",
      "text/plain": [
       "<Figure size 432x288 with 2 Axes>"
      ]
     },
     "metadata": {},
     "output_type": "display_data"
    },
    {
     "name": "stdout",
     "output_type": "stream",
     "text": [
      "Accuracy:\t0.842105\n",
      "F1-score:\t0.752591\n",
      "Precision:\t0.716216\n",
      "Recall:\t\t0.910256\n",
      "\n",
      "Classification performance of KNN model (k=5):\n",
      "              precision    recall  f1-score   support\n",
      "\n",
      "       civil       1.00      0.82      0.90       117\n",
      "    criminal       0.43      1.00      0.60        16\n",
      "\n",
      "    accuracy                           0.84       133\n",
      "   macro avg       0.72      0.91      0.75       133\n",
      "weighted avg       0.93      0.84      0.87       133\n",
      "\n"
     ]
    }
   ],
   "source": [
    "# Plot the confusion matrix for model 2: KNN Classifier (KNN=5 - default)\n",
    "mat2_knn1 = confusion_matrix(valid_label, predicted_categories2_knn1)\n",
    "sns.heatmap(mat2_knn1.T, square = True, annot=True, fmt = \"d\")\n",
    "plt.xlabel(\"True label\")\n",
    "plt.ylabel(\"Predicted label\")\n",
    "plt.title(\"KNN: 2-class Classification\")\n",
    "\n",
    "plt.savefig(\"KNN_default_2_Performance\")\n",
    "plt.show()\n",
    "\n",
    "# Compute and print classification performance metrics\n",
    "print(\"Accuracy:\\t%f\" % accuracy_score(valid_label, predicted_categories2_knn1))\n",
    "print(\"F1-score:\\t%f\" % f1_score(valid_label, predicted_categories2_knn1, average='macro'))\n",
    "print(\"Precision:\\t%f\" % precision_score(valid_label, predicted_categories2_knn1, average='macro'))\n",
    "print(\"Recall:\\t\\t%f\" % recall_score(valid_label, predicted_categories2_knn1, average='macro'))\n",
    "print(\"\\nClassification performance of KNN model (k=5):\\n%s\" % classification_report(valid_label, predicted_categories2_knn1))"
   ]
  },
  {
   "cell_type": "code",
   "execution_count": 130,
   "metadata": {},
   "outputs": [
    {
     "name": "stdout",
     "output_type": "stream",
     "text": [
      "k: 1 Score: 0.9504504504504505\n",
      "k: 2 Score: 0.9482941005521651\n",
      "k: 3 Score: 0.9138215634989828\n",
      "k: 4 Score: 0.9159837256611449\n",
      "k: 5 Score: 0.8890380703283929\n",
      "k: 6 Score: 0.8858122638767799\n",
      "k: 7 Score: 0.8674920081371695\n",
      "k: 8 Score: 0.8609938971229294\n",
      "k: 9 Score: 0.8480616099970938\n",
      "k: 10 Score: 0.8501947108398721\n",
      "k: 11 Score: 0.8232548677709968\n",
      "k: 12 Score: 0.8307991862830573\n",
      "k: 13 Score: 0.8254402789886661\n",
      "k: 14 Score: 0.8351176983435048\n",
      "k: 15 Score: 0.8286486486486486\n",
      "k: 16 Score: 0.836222028480093\n",
      "k: 17 Score: 0.8340424295263006\n",
      "k: 18 Score: 0.8329729729729729\n",
      "k: 19 Score: 0.827579192095321\n"
     ]
    }
   ],
   "source": [
    "#selecting optimum k value\n",
    "#creating a pipeline for vectorizing the data\n",
    "vectorizer = TfidfVectorizer()\n",
    "train_text_vectorized = vectorizer.fit_transform(train_text)\n",
    "\n",
    "#originally the same pipeline was used for fitting and cross validation.\n",
    "#this resulted in identical KNN scores for increasing k values.\n",
    "#this was debugged by separating the pipeline into two: \n",
    "### 1. the data was vectorized using TfidfVectorizer()\n",
    "### 2. it was vectorized again to fit and cross-validate the KNN model.\n",
    "\n",
    "k_values = range(1, 20)\n",
    "mean_scores = []\n",
    "\n",
    "for k in k_values:\n",
    "    knn = KNeighborsClassifier(n_neighbors=k)\n",
    "    score = cross_val_score(knn, train_text_vectorized, train_label, cv=5, error_score=\"raise\")\n",
    "    print(\"k:\", k, \"Score:\", score.mean())\n",
    "    mean_scores.append(score.mean())\n",
    "    \n",
    "#code adapted from: https://www.datacamp.com/tutorial/k-nearest-neighbor-classification-scikit-learn"
   ]
  },
  {
   "cell_type": "code",
   "execution_count": 131,
   "metadata": {},
   "outputs": [
    {
     "data": {
      "image/png": "[encoded data removed]",
      "text/plain": [
       "<Figure size 432x288 with 1 Axes>"
      ]
     },
     "metadata": {},
     "output_type": "display_data"
    }
   ],
   "source": [
    "#to plot the highest performing k value\n",
    "max_score = np.argmax(mean_scores)\n",
    "high_k = k_values[max_score]\n",
    "\n",
    "sns.set(style=\"dark\")\n",
    "sns.lineplot(x=k_values, y=mean_scores, marker='o', color=\"green\")\n",
    "\n",
    "plt.axvline(x=high_k, color='blue', linestyle='--', label=f'Best k={high_k}')\n",
    "plt.legend()\n",
    "\n",
    "plt.title('KNN Performance')\n",
    "plt.xlabel('Number of Neighbors (k)')\n",
    "plt.ylabel('Mean Cross-Validation Score')\n",
    "plt.savefig('optimal_k_2_performance.png')\n",
    "\n",
    "plt.grid(True)\n",
    "plt.show()"
   ]
  },
  {
   "cell_type": "code",
   "execution_count": 132,
   "metadata": {},
   "outputs": [
    {
     "name": "stdout",
     "output_type": "stream",
     "text": [
      "Predicted: ['criminal', 'civil', 'civil', 'civil', 'civil', 'civil', 'civil', 'civil', 'civil', 'civil']\n",
      "Ground truth: ['criminal', 'civil', 'civil', 'civil', 'civil', 'civil', 'criminal', 'civil', 'civil', 'civil']\n"
     ]
    }
   ],
   "source": [
    "# Build the kNN model by setting a pipeline where the input is first converted\n",
    "# to TF-IDF vectors and then a kNN classifier for k=1 is used\n",
    "model2_knn1 = make_pipeline(TfidfVectorizer(), KNeighborsClassifier(n_neighbors=1))\n",
    "model2_knn1.fit(train_text, train_label) # Train the model on the training data\n",
    "predicted_categories2_knn1 = model2_knn1.predict(test_text) # Predict the categories of the test data\n",
    "print(\"Predicted:\",predicted_categories2_knn1.tolist()[0:10]) # Print the first 10 predictions\n",
    "print(\"Ground truth:\",test_label[0:10]) # Print the first 10 ground truth values"
   ]
  },
  {
   "cell_type": "code",
   "execution_count": 133,
   "metadata": {},
   "outputs": [
    {
     "data": {
      "image/png": "[encoded data removed]",
      "text/plain": [
       "<Figure size 432x288 with 2 Axes>"
      ]
     },
     "metadata": {},
     "output_type": "display_data"
    },
    {
     "name": "stdout",
     "output_type": "stream",
     "text": [
      "Accuracy:\t0.903614\n",
      "F1-score:\t0.790404\n",
      "Precision:\t0.779872\n",
      "Recall:\t\t0.802299\n",
      "\n",
      "Classification performance of KNN model (k=1):\n",
      "              precision    recall  f1-score   support\n",
      "\n",
      "       civil       0.95      0.94      0.94       145\n",
      "    criminal       0.61      0.67      0.64        21\n",
      "\n",
      "    accuracy                           0.90       166\n",
      "   macro avg       0.78      0.80      0.79       166\n",
      "weighted avg       0.91      0.90      0.91       166\n",
      "\n"
     ]
    }
   ],
   "source": [
    "# Plot the confusion matrix for model 2: KNN Classifier (KNN=1)\n",
    "mat2_knn1 = confusion_matrix(test_label, predicted_categories2_knn1)\n",
    "sns.heatmap(mat2_knn1.T, square = True, annot=True, fmt = \"d\")\n",
    "plt.xlabel(\"True label\")\n",
    "plt.ylabel(\"Predicted label\")\n",
    "plt.title(\"KNN: 2-class Classification\")\n",
    "\n",
    "plt.savefig(\"KNN1_2_Performance\")\n",
    "plt.show()\n",
    "\n",
    "# Compute and print classification performance metrics\n",
    "print(\"Accuracy:\\t%f\" % accuracy_score(test_label, predicted_categories2_knn1))\n",
    "print(\"F1-score:\\t%f\" % f1_score(test_label, predicted_categories2_knn1, average='macro'))\n",
    "print(\"Precision:\\t%f\" % precision_score(test_label, predicted_categories2_knn1, average='macro'))\n",
    "print(\"Recall:\\t\\t%f\" % recall_score(test_label, predicted_categories2_knn1, average='macro'))\n",
    "print(\"\\nClassification performance of KNN model (k=1):\\n%s\" % classification_report(test_label, predicted_categories2_knn1))"
   ]
  },
  {
   "cell_type": "markdown",
   "metadata": {},
   "source": [
    "### SVM Classifier"
   ]
  },
  {
   "cell_type": "code",
   "execution_count": 134,
   "metadata": {},
   "outputs": [
    {
     "name": "stdout",
     "output_type": "stream",
     "text": [
      "Predicted: ['criminal', 'civil', 'civil', 'civil', 'civil', 'civil', 'civil', 'civil', 'civil', 'civil']\n",
      "Ground truth: ['criminal', 'civil', 'civil', 'civil', 'civil', 'civil', 'criminal', 'civil', 'civil', 'civil']\n"
     ]
    }
   ],
   "source": [
    "# Build the SVM model by setting a pipeline where the input is first converted\n",
    "#kernel=linear which is recommended for text classification\n",
    "model3_svm = make_pipeline(TfidfVectorizer(), svm.SVC(kernel=\"linear\"))\n",
    "\n",
    "model3_svm.fit(train_text, train_label) # Train the model on the training data\n",
    "                                                      \n",
    "predicted_categories3_svm = model3_svm.predict(test_text) # Predict the categories of the test data\n",
    "print(\"Predicted:\",predicted_categories3_svm.tolist()[0:10]) # Print the first 10 predictions\n",
    "print(\"Ground truth:\",test_label[0:10]) # Print the first 10 ground truth values"
   ]
  },
  {
   "cell_type": "code",
   "execution_count": 135,
   "metadata": {},
   "outputs": [
    {
     "data": {
      "image/png": "[encoded data removed]",
      "text/plain": [
       "<Figure size 432x288 with 2 Axes>"
      ]
     },
     "metadata": {},
     "output_type": "display_data"
    },
    {
     "name": "stdout",
     "output_type": "stream",
     "text": [
      "Accuracy:\t0.951807\n",
      "F1-score:\t0.886301\n",
      "Precision:\t0.904046\n",
      "Recall:\t\t0.870608\n",
      "\n",
      "Classification performance of SVM (kernel=linear):\n",
      "              precision    recall  f1-score   support\n",
      "\n",
      "       civil       0.97      0.98      0.97       145\n",
      "    criminal       0.84      0.76      0.80        21\n",
      "\n",
      "    accuracy                           0.95       166\n",
      "   macro avg       0.90      0.87      0.89       166\n",
      "weighted avg       0.95      0.95      0.95       166\n",
      "\n"
     ]
    }
   ],
   "source": [
    "#plot the confusion matrix for model 3: SVM, kernel=linear\n",
    "mat3_svm = confusion_matrix(test_label, predicted_categories3_svm)\n",
    "sns.heatmap(mat3_svm.T, square = True, annot=True, fmt = \"d\")\n",
    "plt.xlabel(\"True label\")\n",
    "plt.ylabel(\"Predicted label\")\n",
    "plt.title(\"SVM [Linear]: 2-class Classification\")\n",
    "plt.savefig(\"SVM_Linear_2_Performance\")\n",
    "plt.show()\n",
    "\n",
    "#compute and print classification performance metrics\n",
    "print(\"Accuracy:\\t%f\" % accuracy_score(test_label, predicted_categories3_svm))\n",
    "print(\"F1-score:\\t%f\" % f1_score(test_label, predicted_categories3_svm, average='macro'))\n",
    "print(\"Precision:\\t%f\" % precision_score(test_label, predicted_categories3_svm, average='macro'))\n",
    "print(\"Recall:\\t\\t%f\" % recall_score(test_label, predicted_categories3_svm, average='macro'))\n",
    "print(\"\\nClassification performance of SVM (kernel=linear):\\n%s\" % classification_report(test_label, predicted_categories3_svm))"
   ]
  },
  {
   "cell_type": "code",
   "execution_count": 141,
   "metadata": {},
   "outputs": [
    {
     "name": "stdout",
     "output_type": "stream",
     "text": [
      "Predicted: ['criminal', 'civil', 'civil', 'civil', 'civil', 'civil', 'civil', 'civil', 'civil', 'civil']\n",
      "Ground truth: ['criminal', 'civil', 'civil', 'civil', 'civil', 'civil', 'criminal', 'civil', 'civil', 'civil']\n"
     ]
    }
   ],
   "source": [
    "#kernel=rbf to test non-linearity between features and class\n",
    "model3_svm2 = make_pipeline(TfidfVectorizer(), svm.SVC(kernel=\"rbf\"))\n",
    "\n",
    "model3_svm2.fit(train_text, train_label) # Train the model on the training data\n",
    "                                                      \n",
    "predicted_categories3_svm2 = model3_svm2.predict(test_text) # Predict the categories of the test data\n",
    "print(\"Predicted:\",predicted_categories3_svm2.tolist()[0:10]) # Print the first 10 predictions\n",
    "print(\"Ground truth:\",test_label[0:10]) # Print the first 10 ground truth values"
   ]
  },
  {
   "cell_type": "code",
   "execution_count": 137,
   "metadata": {},
   "outputs": [
    {
     "data": {
      "image/png": "[encoded data removed]",
      "text/plain": [
       "<Figure size 432x288 with 2 Axes>"
      ]
     },
     "metadata": {},
     "output_type": "display_data"
    },
    {
     "name": "stdout",
     "output_type": "stream",
     "text": [
      "Accuracy:\t0.945783\n",
      "F1-score:\t0.863124\n",
      "Precision:\t0.914167\n",
      "Recall:\t\t0.826437\n",
      "\n",
      "Classification performance of SVM model (kernel=rbf):\n",
      "              precision    recall  f1-score   support\n",
      "\n",
      "       civil       0.95      0.99      0.97       145\n",
      "    criminal       0.88      0.67      0.76        21\n",
      "\n",
      "    accuracy                           0.95       166\n",
      "   macro avg       0.91      0.83      0.86       166\n",
      "weighted avg       0.94      0.95      0.94       166\n",
      "\n"
     ]
    }
   ],
   "source": [
    "#plot the confusion matrix for model 3: SVM, kernel=rbf\n",
    "mat3_svm2 = confusion_matrix(test_label, predicted_categories3_svm2)\n",
    "sns.heatmap(mat3_svm2.T, square = True, annot=True, fmt = \"d\")\n",
    "plt.xlabel(\"True label\")\n",
    "plt.ylabel(\"Predicted label\")\n",
    "plt.title(\"SVM [RBF]: 2-class Classification\")\n",
    "\n",
    "plt.savefig(\"SVM_rbf_2_Performance\")\n",
    "plt.show()\n",
    "\n",
    "# Compute and print classification performance metrics\n",
    "print(\"Accuracy:\\t%f\" % accuracy_score(test_label, predicted_categories3_svm2))\n",
    "print(\"F1-score:\\t%f\" % f1_score(test_label, predicted_categories3_svm2, average='macro'))\n",
    "print(\"Precision:\\t%f\" % precision_score(test_label, predicted_categories3_svm2, average='macro'))\n",
    "print(\"Recall:\\t\\t%f\" % recall_score(test_label, predicted_categories3_svm2, average='macro'))\n",
    "print(\"\\nClassification performance of SVM model (kernel=rbf):\\n%s\" % classification_report(test_label, predicted_categories3_svm2))"
   ]
  },
  {
   "cell_type": "code",
   "execution_count": 143,
   "metadata": {},
   "outputs": [
    {
     "name": "stdout",
     "output_type": "stream",
     "text": [
      "Predicted: ['civil', 'civil', 'civil', 'civil', 'civil', 'civil', 'civil', 'civil', 'civil', 'civil']\n",
      "Ground truth: ['civil', 'civil', 'civil', 'civil', 'civil', 'civil', 'civil', 'civil', 'civil', 'criminal']\n"
     ]
    }
   ],
   "source": [
    "#kernel=poly (polynomial) to test non-linearity between features and class\n",
    "model3_svm3 = make_pipeline(TfidfVectorizer(), svm.SVC(kernel=\"poly\"))\n",
    "\n",
    "model3_svm3.fit(train_text, train_label) # Train the model on the training data\n",
    "                                                      \n",
    "predicted_categories3_svm3 = model3_svm3.predict(valid_text) # Predict the categories of the test data\n",
    "print(\"Predicted:\",predicted_categories3_svm3.tolist()[0:10]) # Print the first 10 predictions\n",
    "print(\"Ground truth:\",valid_label[0:10]) # Print the first 10 ground truth values"
   ]
  },
  {
   "cell_type": "code",
   "execution_count": 144,
   "metadata": {},
   "outputs": [
    {
     "data": {
      "image/png": "[encoded data removed]",
      "text/plain": [
       "<Figure size 432x288 with 2 Axes>"
      ]
     },
     "metadata": {},
     "output_type": "display_data"
    },
    {
     "name": "stdout",
     "output_type": "stream",
     "text": [
      "Accuracy:\t0.924812\n",
      "F1-score:\t0.752235\n",
      "Precision:\t0.960630\n",
      "Recall:\t\t0.687500\n",
      "\n",
      "Classification performance of SVM model (kernel=poly):\n",
      "              precision    recall  f1-score   support\n",
      "\n",
      "       civil       0.92      1.00      0.96       117\n",
      "    criminal       1.00      0.38      0.55        16\n",
      "\n",
      "    accuracy                           0.92       133\n",
      "   macro avg       0.96      0.69      0.75       133\n",
      "weighted avg       0.93      0.92      0.91       133\n",
      "\n"
     ]
    }
   ],
   "source": [
    "#plot the confusion matrix for model 3: SVM, kernel=\"poly\"\n",
    "mat3_svm3 = confusion_matrix(valid_label, predicted_categories3_svm3)\n",
    "sns.heatmap(mat3_svm3.T, square = True, annot=True, fmt = \"d\")\n",
    "plt.xlabel(\"True label\")\n",
    "plt.ylabel(\"Predicted label\")\n",
    "plt.title(\"SVM [Polynomial]: 2-class Classification\")\n",
    "\n",
    "plt.savefig(\"SVM_poly_2_default_Performance\")\n",
    "plt.show()\n",
    "\n",
    "# Compute and print classification performance metrics\n",
    "print(\"Accuracy:\\t%f\" % accuracy_score(valid_label, predicted_categories3_svm3))\n",
    "print(\"F1-score:\\t%f\" % f1_score(valid_label, predicted_categories3_svm3, average='macro'))\n",
    "print(\"Precision:\\t%f\" % precision_score(valid_label, predicted_categories3_svm3, average='macro'))\n",
    "print(\"Recall:\\t\\t%f\" % recall_score(valid_label, predicted_categories3_svm3, average='macro'))\n",
    "print(\"\\nClassification performance of SVM model (kernel=poly):\\n%s\" % classification_report(valid_label, predicted_categories3_svm3))"
   ]
  },
  {
   "cell_type": "markdown",
   "metadata": {},
   "source": [
    "Using Grid Search to identify best number of degrees for kernel=poly"
   ]
  },
  {
   "cell_type": "code",
   "execution_count": 150,
   "metadata": {},
   "outputs": [],
   "source": [
    "#dict with hyperparameter values\n",
    "param_grid = {\n",
    "    'svc__C': [0.1, 1, 10],\n",
    "    'svc__degree': [2, 3, 4]\n",
    "}\n",
    "\n",
    "#svm with kernel=poly\n",
    "model3_svm3_poly = make_pipeline(TfidfVectorizer(), svm.SVC(kernel=\"poly\"))\n",
    "\n",
    "#grid search with cross-validation=5\n",
    "grid_search = GridSearchCV(model3_svm3_poly, param_grid, cv=5)\n",
    "grid_search.fit(train_text, train_label)\n",
    "\n",
    "best_degree = grid_search.best_params_['svc__degree']\n",
    "best_C = grid_search.best_params_['svc__C']\n",
    "\n",
    "#code guided by https://aneesha.medium.com/svm-parameter-tuning-in-scikit-learn-using-gridsearchcv-2413c02125a0"
   ]
  },
  {
   "cell_type": "code",
   "execution_count": 161,
   "metadata": {},
   "outputs": [
    {
     "name": "stdout",
     "output_type": "stream",
     "text": [
      "The best degree for SVM with Polynomial kernel:  4\n",
      "The best C for SVM with Polynomial kernel:  1\n"
     ]
    }
   ],
   "source": [
    "print(\"The best degree for SVM with Polynomial kernel: \", best_degree)\n",
    "print(\"The best C for SVM with Polynomial kernel: \", best_C)"
   ]
  },
  {
   "cell_type": "code",
   "execution_count": 162,
   "metadata": {},
   "outputs": [
    {
     "name": "stdout",
     "output_type": "stream",
     "text": [
      "Predicted: ['civil', 'civil', 'civil', 'civil', 'civil', 'civil', 'civil', 'civil', 'civil', 'civil']\n",
      "Ground truth: ['criminal', 'civil', 'civil', 'civil', 'civil', 'civil', 'criminal', 'civil', 'civil', 'civil']\n"
     ]
    }
   ],
   "source": [
    "#kernel=poly (polynomial) to test non-linearity between features and class\n",
    "#with 4 degrees\n",
    "model3_svm3 = make_pipeline(TfidfVectorizer(), svm.SVC(kernel=\"poly\", degree=4, C=1))\n",
    "\n",
    "model3_svm3.fit(train_text, train_label) # Train the model on the training data\n",
    "                                                      \n",
    "predicted_categories3_svm3 = model3_svm3.predict(test_text) # Predict the categories of the test data\n",
    "print(\"Predicted:\",predicted_categories3_svm3.tolist()[0:10]) # Print the first 10 predictions\n",
    "print(\"Ground truth:\",test_label[0:10]) # Print the first 10 ground truth values"
   ]
  },
  {
   "cell_type": "code",
   "execution_count": 163,
   "metadata": {},
   "outputs": [
    {
     "data": {
      "image/png": "[encoded data removed]",
      "text/plain": [
       "<Figure size 432x288 with 2 Axes>"
      ]
     },
     "metadata": {},
     "output_type": "display_data"
    },
    {
     "name": "stdout",
     "output_type": "stream",
     "text": [
      "Accuracy:\t0.903614\n",
      "F1-score:\t0.666164\n",
      "Precision:\t0.950311\n",
      "Recall:\t\t0.619048\n",
      "\n",
      "Classification performance of (tuned) SVM model (kernel=poly):\n",
      "              precision    recall  f1-score   support\n",
      "\n",
      "       civil       0.90      1.00      0.95       145\n",
      "    criminal       1.00      0.24      0.38        21\n",
      "\n",
      "    accuracy                           0.90       166\n",
      "   macro avg       0.95      0.62      0.67       166\n",
      "weighted avg       0.91      0.90      0.88       166\n",
      "\n"
     ]
    }
   ],
   "source": [
    "#plot the confusion matrix for model 3: SVM, kernel=\"poly\"\n",
    "mat3_svm3 = confusion_matrix(test_label, predicted_categories3_svm3)\n",
    "sns.heatmap(mat3_svm3.T, square = True, annot=True, fmt = \"d\")\n",
    "plt.xlabel(\"True label\")\n",
    "plt.ylabel(\"Predicted label\")\n",
    "plt.title(\"SVM [Polynomial]: 2-class Classification\")\n",
    "\n",
    "plt.savefig(\"SVM_poly_2_tuned_Performance\")\n",
    "plt.show()\n",
    "\n",
    "# Compute and print classification performance metrics\n",
    "print(\"Accuracy:\\t%f\" % accuracy_score(test_label, predicted_categories3_svm3))\n",
    "print(\"F1-score:\\t%f\" % f1_score(test_label, predicted_categories3_svm3, average='macro'))\n",
    "print(\"Precision:\\t%f\" % precision_score(test_label, predicted_categories3_svm3, average='macro'))\n",
    "print(\"Recall:\\t\\t%f\" % recall_score(test_label, predicted_categories3_svm3, average='macro'))\n",
    "print(\"\\nClassification performance of (tuned) SVM model (kernel=poly):\\n%s\" % classification_report(test_label, predicted_categories3_svm3))"
   ]
  },
  {
   "cell_type": "markdown",
   "metadata": {},
   "source": [
    "### Decision Tree"
   ]
  },
  {
   "cell_type": "code",
   "execution_count": 164,
   "metadata": {},
   "outputs": [
    {
     "name": "stdout",
     "output_type": "stream",
     "text": [
      "Predicted: ['criminal', 'civil', 'civil', 'civil', 'civil', 'civil', 'civil', 'civil', 'civil', 'criminal']\n",
      "Ground truth: ['civil', 'civil', 'civil', 'civil', 'civil', 'civil', 'civil', 'civil', 'civil', 'criminal']\n"
     ]
    }
   ],
   "source": [
    "#build the DCT model by setting a pipeline where the input is first converted to tfid\n",
    "#model built on default parameters, except criterion=\"entropy\"\n",
    "model6_dt = make_pipeline(TfidfVectorizer(), DecisionTreeClassifier(criterion=\"entropy\"))\n",
    "\n",
    "model6_dt.fit(train_text, train_label) # Train the model on the training data\n",
    "                                                      \n",
    "predicted_categories6_dt = model6_dt.predict(valid_text) # Predict the categories of the test data\n",
    "print(\"Predicted:\",predicted_categories6_dt.tolist()[0:10]) # Print the first 10 predictions\n",
    "print(\"Ground truth:\",valid_label[0:10]) # Print the first 10 ground truth values"
   ]
  },
  {
   "cell_type": "code",
   "execution_count": 165,
   "metadata": {},
   "outputs": [
    {
     "data": {
      "image/png": "[encoded data removed]",
      "text/plain": [
       "<Figure size 432x288 with 2 Axes>"
      ]
     },
     "metadata": {},
     "output_type": "display_data"
    },
    {
     "name": "stdout",
     "output_type": "stream",
     "text": [
      "Accuracy:\t0.894737\n",
      "F1-score:\t0.785088\n",
      "Precision:\t0.754709\n",
      "Recall:\t\t0.832265\n",
      "\n",
      "Classification performance of Decision Tree:\n",
      "              precision    recall  f1-score   support\n",
      "\n",
      "       civil       0.96      0.91      0.94       117\n",
      "    criminal       0.55      0.75      0.63        16\n",
      "\n",
      "    accuracy                           0.89       133\n",
      "   macro avg       0.75      0.83      0.79       133\n",
      "weighted avg       0.91      0.89      0.90       133\n",
      "\n"
     ]
    }
   ],
   "source": [
    "# Plot the confusion matrix for model 6: Decision Tree\n",
    "model6_dt = confusion_matrix(valid_label, predicted_categories6_dt)\n",
    "sns.heatmap(model6_dt.T, square = True, annot=True, fmt = \"d\")\n",
    "plt.xlabel(\"True label\")\n",
    "plt.ylabel(\"Predicted label\")\n",
    "plt.title(\"Decision Tree [Entropy]: 2-class Classification\")\n",
    "\n",
    "plt.savefig(\"4 DecisionT_EntropyDefault_2_Performance\")\n",
    "plt.show()\n",
    "\n",
    "# Compute and print classification performance metrics\n",
    "print(\"Accuracy:\\t%f\" % accuracy_score(valid_label, predicted_categories6_dt))\n",
    "print(\"F1-score:\\t%f\" % f1_score(valid_label, predicted_categories6_dt, average='macro'))\n",
    "print(\"Precision:\\t%f\" % precision_score(valid_label, predicted_categories6_dt, average='macro'))\n",
    "print(\"Recall:\\t\\t%f\" % recall_score(valid_label, predicted_categories6_dt, average='macro'))\n",
    "print(\"\\nClassification performance of Decision Tree:\\n%s\" % classification_report(valid_label, predicted_categories6_dt))"
   ]
  },
  {
   "cell_type": "code",
   "execution_count": 166,
   "metadata": {},
   "outputs": [
    {
     "name": "stdout",
     "output_type": "stream",
     "text": [
      "Predicted: ['criminal', 'civil', 'civil', 'civil', 'civil', 'civil', 'civil', 'civil', 'civil', 'criminal']\n",
      "Ground truth: ['civil', 'civil', 'civil', 'civil', 'civil', 'civil', 'civil', 'civil', 'civil', 'criminal']\n"
     ]
    }
   ],
   "source": [
    "#build the DCT model by setting a pipeline where the input is first converted to tfid\n",
    "#model built on all default parameters (criterion=\"gini\")\n",
    "model6_dt = make_pipeline(TfidfVectorizer(), DecisionTreeClassifier())\n",
    "\n",
    "model6_dt.fit(train_text, train_label) # Train the model on the training data\n",
    "                                                      \n",
    "predicted_categories6_dt = model6_dt.predict(valid_text) # Predict the categories of the test data\n",
    "print(\"Predicted:\",predicted_categories6_dt.tolist()[0:10]) # Print the first 10 predictions\n",
    "print(\"Ground truth:\",valid_label[0:10]) # Print the first 10 ground truth values"
   ]
  },
  {
   "cell_type": "code",
   "execution_count": 167,
   "metadata": {},
   "outputs": [
    {
     "data": {
      "image/png": "[encoded data removed]",
      "text/plain": [
       "<Figure size 432x288 with 2 Axes>"
      ]
     },
     "metadata": {},
     "output_type": "display_data"
    },
    {
     "name": "stdout",
     "output_type": "stream",
     "text": [
      "Accuracy:\t0.894737\n",
      "F1-score:\t0.775121\n",
      "Precision:\t0.752876\n",
      "Recall:\t\t0.805288\n",
      "\n",
      "Classification performance of Decision Tree:\n",
      "              precision    recall  f1-score   support\n",
      "\n",
      "       civil       0.96      0.92      0.94       117\n",
      "    criminal       0.55      0.69      0.61        16\n",
      "\n",
      "    accuracy                           0.89       133\n",
      "   macro avg       0.75      0.81      0.78       133\n",
      "weighted avg       0.91      0.89      0.90       133\n",
      "\n"
     ]
    }
   ],
   "source": [
    "# Plot the confusion matrix for model 6: Decision Tree\n",
    "model6_dt = confusion_matrix(valid_label, predicted_categories6_dt)\n",
    "sns.heatmap(model6_dt.T, square = True, annot=True, fmt = \"d\")\n",
    "plt.xlabel(\"True label\")\n",
    "plt.ylabel(\"Predicted label\")\n",
    "plt.title(\"Decision Tree [Gini]: 2-class Classification\")\n",
    "\n",
    "plt.savefig(\"4a DecisionT_Gini_2_Performance\")\n",
    "plt.show()\n",
    "\n",
    "# Compute and print classification performance metrics\n",
    "print(\"Accuracy:\\t%f\" % accuracy_score(valid_label, predicted_categories6_dt))\n",
    "print(\"F1-score:\\t%f\" % f1_score(valid_label, predicted_categories6_dt, average='macro'))\n",
    "print(\"Precision:\\t%f\" % precision_score(valid_label, predicted_categories6_dt, average='macro'))\n",
    "print(\"Recall:\\t\\t%f\" % recall_score(valid_label, predicted_categories6_dt, average='macro'))\n",
    "print(\"\\nClassification performance of Decision Tree:\\n%s\" % classification_report(valid_label, predicted_categories6_dt))"
   ]
  },
  {
   "cell_type": "code",
   "execution_count": 168,
   "metadata": {},
   "outputs": [
    {
     "data": {
      "text/plain": [
       "RandomizedSearchCV(cv=5,\n",
       "                   estimator=Pipeline(steps=[('tfidfvectorizer',\n",
       "                                              TfidfVectorizer()),\n",
       "                                             ('decisiontreeclassifier',\n",
       "                                              DecisionTreeClassifier())]),\n",
       "                   param_distributions={'decisiontreeclassifier__max_depth': <scipy.stats._distn_infrastructure.rv_frozen object at 0x7ff33e0a5d60>,\n",
       "                                        'decisiontreeclassifier__min_samples_leaf': <scipy.stats._distn_infrastructure.rv_frozen object at 0x7ff33ca54a90>,\n",
       "                                        'decisiontreeclassifier__min_samples_split': <scipy.stats._distn_infrastructure.rv_frozen object at 0x7ff33ca163d0>})"
      ]
     },
     "execution_count": 168,
     "metadata": {},
     "output_type": "execute_result"
    }
   ],
   "source": [
    "#hyperparameter tuning\n",
    "#specifying hyperparameter ranges\n",
    "param_dist = {'decisiontreeclassifier__max_depth': randint(1, 20),\n",
    "              'decisiontreeclassifier__min_samples_split': randint(2, 20),\n",
    "              'decisiontreeclassifier__min_samples_leaf': randint(1, 10)}\n",
    "\n",
    "dt_pipeline = make_pipeline(TfidfVectorizer(), DecisionTreeClassifier())\n",
    "\n",
    "#find best hyperparameters through random search\n",
    "rand_search = RandomizedSearchCV(dt_pipeline,\n",
    "                                 param_distributions=param_dist,\n",
    "                                 n_iter=10,\n",
    "                                 cv=5)\n",
    "\n",
    "#fit rand_search to the data\n",
    "rand_search.fit(train_text, train_label)\n",
    "\n",
    "#adapted from otaviomguerra/decision_tree_with_RandomizedSearch.py at https://gist.github.com/otaviomguerra/51df7a4cff28f92de7105f12a0724115\n",
    "#adapted from https://www.datacamp.com/tutorial/random-forests-classifier-python"
   ]
  },
  {
   "cell_type": "code",
   "execution_count": 169,
   "metadata": {},
   "outputs": [
    {
     "name": "stdout",
     "output_type": "stream",
     "text": [
      "Best hyperparameters: {'decisiontreeclassifier__max_depth': 9, 'decisiontreeclassifier__min_samples_leaf': 3, 'decisiontreeclassifier__min_samples_split': 5}\n"
     ]
    }
   ],
   "source": [
    "#creating variable for the best model\n",
    "best_dt = rand_search.best_estimator_\n",
    "\n",
    "#identify the best hyperparameters\n",
    "print('Best hyperparameters:',  rand_search.best_params_)\n",
    "\n",
    "#adapted from https://www.datacamp.com/tutorial/random-forests-classifier-python"
   ]
  },
  {
   "cell_type": "code",
   "execution_count": 170,
   "metadata": {},
   "outputs": [
    {
     "name": "stdout",
     "output_type": "stream",
     "text": [
      "Predicted: ['criminal', 'civil', 'civil', 'civil', 'civil', 'civil', 'civil', 'civil', 'civil', 'civil']\n",
      "Ground truth: ['criminal', 'civil', 'civil', 'civil', 'civil', 'civil', 'criminal', 'civil', 'civil', 'civil']\n"
     ]
    }
   ],
   "source": [
    "#rerunning Decision Tree algorithm with tuned parameters + gini\n",
    "\n",
    "model6_dt2 = make_pipeline(TfidfVectorizer(), DecisionTreeClassifier(max_depth=9, min_samples_leaf=3, min_samples_split=5))\n",
    "\n",
    "model6_dt2.fit(train_text, train_label) # Train the model on the training data\n",
    "                                                      \n",
    "predicted_categories6_dt2 = model6_dt2.predict(test_text) # Predict the categories of the test data\n",
    "print(\"Predicted:\",predicted_categories6_dt2.tolist()[0:10]) # Print the first 10 predictions\n",
    "print(\"Ground truth:\",test_label[0:10]) # Print the first 10 ground truth values"
   ]
  },
  {
   "cell_type": "code",
   "execution_count": 171,
   "metadata": {},
   "outputs": [
    {
     "data": {
      "image/png": "[encoded data removed]",
      "text/plain": [
       "<Figure size 432x288 with 2 Axes>"
      ]
     },
     "metadata": {},
     "output_type": "display_data"
    },
    {
     "name": "stdout",
     "output_type": "stream",
     "text": [
      "Accuracy:\t0.867470\n",
      "F1-score:\t0.732101\n",
      "Precision:\t0.711964\n",
      "Recall:\t\t0.761248\n",
      "\n",
      "Classification performance of (Tuned) Decision Tree:\n",
      "              precision    recall  f1-score   support\n",
      "\n",
      "       civil       0.94      0.90      0.92       145\n",
      "    criminal       0.48      0.62      0.54        21\n",
      "\n",
      "    accuracy                           0.87       166\n",
      "   macro avg       0.71      0.76      0.73       166\n",
      "weighted avg       0.88      0.87      0.87       166\n",
      "\n"
     ]
    }
   ],
   "source": [
    "# Plot the confusion matrix for model 6: tuned Decision Tree\n",
    "model6_dt2 = confusion_matrix(test_label, predicted_categories6_dt2)\n",
    "sns.heatmap(model6_dt2.T, square = True, annot=True, fmt = \"d\")\n",
    "plt.xlabel(\"True label\")\n",
    "plt.ylabel(\"Predicted label\")\n",
    "plt.title(\"[Tuned] Decision Tree: 2-class Classification\")\n",
    "plt.savefig(\"DecisionT_HyperGini_2_Performance\")\n",
    "plt.show()\n",
    "\n",
    "# Compute and print classification performance metrics\n",
    "print(\"Accuracy:\\t%f\" % accuracy_score(test_label, predicted_categories6_dt2))\n",
    "print(\"F1-score:\\t%f\" % f1_score(test_label, predicted_categories6_dt2, average='macro'))\n",
    "print(\"Precision:\\t%f\" % precision_score(test_label, predicted_categories6_dt2, average='macro'))\n",
    "print(\"Recall:\\t\\t%f\" % recall_score(test_label, predicted_categories6_dt2, average='macro'))\n",
    "print(\"\\nClassification performance of (Tuned) Decision Tree:\\n%s\" % classification_report(test_label, predicted_categories6_dt2))"
   ]
  },
  {
   "cell_type": "code",
   "execution_count": 172,
   "metadata": {},
   "outputs": [
    {
     "name": "stdout",
     "output_type": "stream",
     "text": [
      "Predicted: ['criminal', 'civil', 'civil', 'civil', 'civil', 'civil', 'civil', 'criminal', 'civil', 'civil']\n",
      "Ground truth: ['criminal', 'civil', 'civil', 'civil', 'civil', 'civil', 'criminal', 'civil', 'civil', 'civil']\n"
     ]
    }
   ],
   "source": [
    "#rerunning Decision Tree algorithm with tuned parameters + entropy\n",
    "\n",
    "model6_dt3 = make_pipeline(TfidfVectorizer(), DecisionTreeClassifier(max_depth=9, min_samples_leaf=3, min_samples_split=5, criterion=\"entropy\"))\n",
    "\n",
    "model6_dt3.fit(train_text, train_label) # Train the model on the training data\n",
    "                                                      \n",
    "predicted_categories6_dt3 = model6_dt3.predict(test_text) # Predict the categories of the test data\n",
    "print(\"Predicted:\",predicted_categories6_dt3.tolist()[0:10]) # Print the first 10 predictions\n",
    "print(\"Ground truth:\",test_label[0:10]) # Print the first 10 ground truth values"
   ]
  },
  {
   "cell_type": "code",
   "execution_count": 173,
   "metadata": {},
   "outputs": [
    {
     "data": {
      "image/png": "[encoded data removed]",
      "text/plain": [
       "<Figure size 432x288 with 2 Axes>"
      ]
     },
     "metadata": {},
     "output_type": "display_data"
    },
    {
     "name": "stdout",
     "output_type": "stream",
     "text": [
      "Accuracy:\t0.867470\n",
      "F1-score:\t0.732101\n",
      "Precision:\t0.711964\n",
      "Recall:\t\t0.761248\n",
      "\n",
      "Classification performance of (Tuned) Decision Tree (Entropy):\n",
      "              precision    recall  f1-score   support\n",
      "\n",
      "       civil       0.94      0.90      0.92       145\n",
      "    criminal       0.48      0.62      0.54        21\n",
      "\n",
      "    accuracy                           0.87       166\n",
      "   macro avg       0.71      0.76      0.73       166\n",
      "weighted avg       0.88      0.87      0.87       166\n",
      "\n"
     ]
    }
   ],
   "source": [
    "# Plot the confusion matrix for model 6: tuned Decision Tree + entropy\n",
    "model6_dt3 = confusion_matrix(test_label, predicted_categories6_dt2)\n",
    "sns.heatmap(model6_dt3.T, square = True, annot=True, fmt = \"d\")\n",
    "plt.xlabel(\"True label\")\n",
    "plt.ylabel(\"Predicted label\")\n",
    "plt.title(\"[Tuned] Decision Tree: 2-class Classification\")\n",
    "\n",
    "plt.savefig(\"DecisionT_Tuned_Entropy 2_Performance\")\n",
    "plt.show()\n",
    "\n",
    "# Compute and print classification performance metrics\n",
    "print(\"Accuracy:\\t%f\" % accuracy_score(test_label, predicted_categories6_dt3))\n",
    "print(\"F1-score:\\t%f\" % f1_score(test_label, predicted_categories6_dt3, average='macro'))\n",
    "print(\"Precision:\\t%f\" % precision_score(test_label, predicted_categories6_dt3, average='macro'))\n",
    "print(\"Recall:\\t\\t%f\" % recall_score(test_label, predicted_categories6_dt3, average='macro'))\n",
    "print(\"\\nClassification performance of (Tuned) Decision Tree (Entropy):\\n%s\" % classification_report(test_label, predicted_categories6_dt3))"
   ]
  },
  {
   "cell_type": "markdown",
   "metadata": {},
   "source": [
    "### Random Forest Classifier"
   ]
  },
  {
   "cell_type": "code",
   "execution_count": 180,
   "metadata": {},
   "outputs": [
    {
     "name": "stdout",
     "output_type": "stream",
     "text": [
      "Predicted: ['civil', 'civil', 'civil', 'civil', 'civil', 'civil', 'civil', 'civil', 'civil', 'civil']\n",
      "Ground truth: ['criminal', 'civil', 'civil', 'civil', 'civil', 'civil', 'criminal', 'civil', 'civil', 'civil']\n"
     ]
    }
   ],
   "source": [
    "# Build the RF model by setting a pipeline where the input is first converted\n",
    "#no number of trees is specified: modl is run using default (100)\n",
    "model4_rf = make_pipeline(TfidfVectorizer(), RandomForestClassifier())\n",
    "\n",
    "model4_rf.fit(train_text, train_label) # Train the model on the training data\n",
    "                                                      \n",
    "predicted_categories4_rf = model4_rf.predict(valid_label) # Predict the categories of the test data\n",
    "print(\"Predicted:\",predicted_categories4_rf.tolist()[0:10]) # Print the first 10 predictions\n",
    "print(\"Ground truth:\",valid_label[0:10]) # Print the first 10 ground truth values"
   ]
  },
  {
   "cell_type": "code",
   "execution_count": 181,
   "metadata": {},
   "outputs": [
    {
     "data": {
      "image/png": "[encoded data removed]",
      "text/plain": [
       "<Figure size 432x288 with 2 Axes>"
      ]
     },
     "metadata": {},
     "output_type": "display_data"
    },
    {
     "name": "stdout",
     "output_type": "stream",
     "text": [
      "Accuracy:\t0.873494\n",
      "F1-score:\t0.466238\n",
      "Precision:\t0.436747\n",
      "Recall:\t\t0.500000\n",
      "\n",
      "Classification performance of Random Forest Classifier:\n",
      "              precision    recall  f1-score   support\n",
      "\n",
      "       civil       0.87      1.00      0.93       145\n",
      "    criminal       0.00      0.00      0.00        21\n",
      "\n",
      "    accuracy                           0.87       166\n",
      "   macro avg       0.44      0.50      0.47       166\n",
      "weighted avg       0.76      0.87      0.81       166\n",
      "\n"
     ]
    },
    {
     "name": "stderr",
     "output_type": "stream",
     "text": [
      "/apps/jupyterhub/COMP42415/lib/python3.8/site-packages/sklearn/metrics/_classification.py:1221: UndefinedMetricWarning: Precision is ill-defined and being set to 0.0 in labels with no predicted samples. Use `zero_division` parameter to control this behavior.\n",
      "  _warn_prf(average, modifier, msg_start, len(result))\n",
      "/apps/jupyterhub/COMP42415/lib/python3.8/site-packages/sklearn/metrics/_classification.py:1221: UndefinedMetricWarning: Precision and F-score are ill-defined and being set to 0.0 in labels with no predicted samples. Use `zero_division` parameter to control this behavior.\n",
      "  _warn_prf(average, modifier, msg_start, len(result))\n"
     ]
    }
   ],
   "source": [
    "#plot the confusion matrix for model 4: Random Forest (default no.of trees)\n",
    "mat4_rf = confusion_matrix(valid_label, predicted_categories4_rf)\n",
    "sns.heatmap(mat4_rf.T, square = True, annot=True, fmt = \"d\")\n",
    "plt.xlabel(\"True label\")\n",
    "plt.ylabel(\"Predicted label\")\n",
    "plt.title(\"Random Forest: 2-class Classification\")\n",
    "\n",
    "plt.savefig(\"RF_2_testing_Performance\")\n",
    "plt.show()\n",
    "\n",
    "# Compute and print classification performance metrics\n",
    "print(\"Accuracy:\\t%f\" % accuracy_score(valid_label, predicted_categories4_rf))\n",
    "print(\"F1-score:\\t%f\" % f1_score(valid_label, predicted_categories4_rf, average='macro'))\n",
    "print(\"Precision:\\t%f\" % precision_score(valid_label, predicted_categories4_rf, average='macro'))\n",
    "print(\"Recall:\\t\\t%f\" % recall_score(valid_label, predicted_categories4_rf, average='macro'))\n",
    "print(\"\\nClassification performance of Random Forest Classifier:\\n%s\" % classification_report(valid_label, predicted_categories4_rf))\n"
   ]
  },
  {
   "cell_type": "code",
   "execution_count": 176,
   "metadata": {},
   "outputs": [
    {
     "data": {
      "text/plain": [
       "RandomizedSearchCV(cv=5,\n",
       "                   estimator=Pipeline(steps=[('tfidfvectorizer',\n",
       "                                              TfidfVectorizer()),\n",
       "                                             ('randomforestclassifier',\n",
       "                                              RandomForestClassifier())]),\n",
       "                   param_distributions={'randomforestclassifier__max_depth': <scipy.stats._distn_infrastructure.rv_frozen object at 0x7ff33cc5e220>,\n",
       "                                        'randomforestclassifier__n_estimators': <scipy.stats._distn_infrastructure.rv_frozen object at 0x7ff33c863220>})"
      ]
     },
     "execution_count": 176,
     "metadata": {},
     "output_type": "execute_result"
    }
   ],
   "source": [
    "#randomint to 1000 (50,1000)\n",
    "#define hyperparameter ranges\n",
    "param_dist = {'randomforestclassifier__n_estimators': randint(50, 1000),\n",
    "              'randomforestclassifier__max_depth': randint(1, 20)}\n",
    "\n",
    "# Create a random forest classifier pipeline\n",
    "rf_pipeline = make_pipeline(TfidfVectorizer(), RandomForestClassifier())\n",
    "\n",
    "# Use random search to find the best hyperparameters\n",
    "rand_search = RandomizedSearchCV(rf_pipeline,\n",
    "                                 param_distributions=param_dist,\n",
    "                                 n_iter=10,\n",
    "                                 cv=5)\n",
    "\n",
    "# Fit the random search object to the data\n",
    "rand_search.fit(train_text, train_label)"
   ]
  },
  {
   "cell_type": "code",
   "execution_count": 177,
   "metadata": {},
   "outputs": [
    {
     "name": "stdout",
     "output_type": "stream",
     "text": [
      "Best hyperparameters: {'randomforestclassifier__max_depth': 14, 'randomforestclassifier__n_estimators': 444}\n"
     ]
    }
   ],
   "source": [
    "#variable for the best model\n",
    "best_rf = rand_search.best_estimator_\n",
    "\n",
    "#print the best hyperparameters\n",
    "print('Best hyperparameters:',  rand_search.best_params_)"
   ]
  },
  {
   "cell_type": "code",
   "execution_count": 178,
   "metadata": {},
   "outputs": [
    {
     "name": "stdout",
     "output_type": "stream",
     "text": [
      "Predicted: ['criminal', 'civil', 'civil', 'civil', 'civil', 'civil', 'civil', 'civil', 'civil', 'civil']\n",
      "Ground truth: ['criminal', 'civil', 'civil', 'civil', 'civil', 'civil', 'criminal', 'civil', 'civil', 'civil']\n"
     ]
    }
   ],
   "source": [
    "#build the RF model by setting a pipeline where the input is first converted\n",
    "#no.of trees=444\n",
    "model4_rf2 = make_pipeline(TfidfVectorizer(), RandomForestClassifier(n_estimators=444, max_depth=14))\n",
    "\n",
    "model4_rf2.fit(train_text, train_label) # Train the model on the training data\n",
    "                                                      \n",
    "predicted_categories4_rf2 = model4_rf2.predict(test_text) # Predict the categories of the test data\n",
    "print(\"Predicted:\",predicted_categories4_rf2.tolist()[0:10]) # Print the first 10 predictions\n",
    "print(\"Ground truth:\",test_label[0:10]) # Print the first 10 ground truth values"
   ]
  },
  {
   "cell_type": "code",
   "execution_count": 182,
   "metadata": {},
   "outputs": [
    {
     "data": {
      "image/png": "[encoded data removed]",
      "text/plain": [
       "<Figure size 432x288 with 2 Axes>"
      ]
     },
     "metadata": {},
     "output_type": "display_data"
    },
    {
     "name": "stdout",
     "output_type": "stream",
     "text": [
      "Accuracy:\t0.921687\n",
      "F1-score:\t0.768728\n",
      "Precision:\t0.911538\n",
      "Recall:\t\t0.710837\n",
      "\n",
      "Classification performance of Random Forest Classifier (No.of Trees=444):\n",
      "              precision    recall  f1-score   support\n",
      "\n",
      "       civil       0.92      0.99      0.96       145\n",
      "    criminal       0.90      0.43      0.58        21\n",
      "\n",
      "    accuracy                           0.92       166\n",
      "   macro avg       0.91      0.71      0.77       166\n",
      "weighted avg       0.92      0.92      0.91       166\n",
      "\n"
     ]
    }
   ],
   "source": [
    "#plot the confusion matrix for model 4: Random Forest (no.of trees=444)\n",
    "mat4_rf2 = confusion_matrix(test_label, predicted_categories4_rf2)\n",
    "sns.heatmap(mat4_rf2.T, square = True, annot=True, fmt = \"d\")\n",
    "plt.xlabel(\"True label\")\n",
    "plt.ylabel(\"Predicted label\")\n",
    "plt.title(\"Random Forest [Tuned]: 2-class Classification\")\n",
    "\n",
    "plt.savefig(\"RF444_2_Performance\")\n",
    "plt.show()\n",
    "\n",
    "# Compute and print classification performance metrics\n",
    "print(\"Accuracy:\\t%f\" % accuracy_score(test_label, predicted_categories4_rf2))\n",
    "print(\"F1-score:\\t%f\" % f1_score(test_label, predicted_categories4_rf2, average='macro'))\n",
    "print(\"Precision:\\t%f\" % precision_score(test_label, predicted_categories4_rf2, average='macro'))\n",
    "print(\"Recall:\\t\\t%f\" % recall_score(test_label, predicted_categories4_rf2, average='macro'))\n",
    "print(\"\\nClassification performance of Random Forest Classifier (No.of Trees=444):\\n%s\" % classification_report(test_label, predicted_categories4_rf2))"
   ]
  },
  {
   "cell_type": "markdown",
   "metadata": {},
   "source": [
    "### Logistic Regression"
   ]
  },
  {
   "cell_type": "code",
   "execution_count": 183,
   "metadata": {},
   "outputs": [
    {
     "name": "stdout",
     "output_type": "stream",
     "text": [
      "Predicted: ['criminal', 'civil', 'civil', 'civil', 'civil', 'civil', 'civil', 'civil', 'civil', 'civil']\n",
      "Ground truth: ['criminal', 'civil', 'civil', 'civil', 'civil', 'civil', 'criminal', 'civil', 'civil', 'civil']\n"
     ]
    }
   ],
   "source": [
    "from sklearn.linear_model import LogisticRegression\n",
    "# Build the LR model by setting a pipeline where the input is first converted\n",
    "#to tfid\n",
    "model5_lr = make_pipeline(TfidfVectorizer(), LogisticRegression())\n",
    "\n",
    "model5_lr.fit(train_text, train_label) # Train the model on the training data\n",
    "                                                      \n",
    "predicted_categories5_lr = model5_lr.predict(test_text) # Predict the categories of the test data\n",
    "print(\"Predicted:\",predicted_categories5_lr.tolist()[0:10]) # Print the first 10 predictions\n",
    "print(\"Ground truth:\",test_label[0:10]) # Print the first 10 ground truth values"
   ]
  },
  {
   "cell_type": "code",
   "execution_count": 184,
   "metadata": {},
   "outputs": [
    {
     "data": {
      "image/png": "[encoded data removed]",
      "text/plain": [
       "<Figure size 432x288 with 2 Axes>"
      ]
     },
     "metadata": {},
     "output_type": "display_data"
    },
    {
     "name": "stdout",
     "output_type": "stream",
     "text": [
      "Accuracy:\t0.927711\n",
      "F1-score:\t0.842803\n",
      "Precision:\t0.830344\n",
      "Recall:\t\t0.856814\n",
      "\n",
      "Classification performance of Logistic Regression:\n",
      "              precision    recall  f1-score   support\n",
      "\n",
      "       civil       0.97      0.95      0.96       145\n",
      "    criminal       0.70      0.76      0.73        21\n",
      "\n",
      "    accuracy                           0.93       166\n",
      "   macro avg       0.83      0.86      0.84       166\n",
      "weighted avg       0.93      0.93      0.93       166\n",
      "\n"
     ]
    }
   ],
   "source": [
    "# Plot the confusion matrix for model 5: Logistic Regression\n",
    "mat5_lr = confusion_matrix(test_label, predicted_categories5_lr)\n",
    "sns.heatmap(mat5_lr.T, square = True, annot=True, fmt = \"d\")\n",
    "plt.xlabel(\"True label\")\n",
    "plt.ylabel(\"Predicted label\")\n",
    "plt.title(\"Logistic Regression: 2-class Classification\")\n",
    "\n",
    "plt.savefig(\"LogReg_2_Performance\")\n",
    "plt.show()\n",
    "\n",
    "# Compute and print classification performance metrics\n",
    "print(\"Accuracy:\\t%f\" % accuracy_score(test_label, predicted_categories5_lr))\n",
    "print(\"F1-score:\\t%f\" % f1_score(test_label, predicted_categories5_lr, average='macro'))\n",
    "print(\"Precision:\\t%f\" % precision_score(test_label, predicted_categories5_lr, average='macro'))\n",
    "print(\"Recall:\\t\\t%f\" % recall_score(test_label, predicted_categories5_lr, average='macro'))\n",
    "print(\"\\nClassification performance of Logistic Regression:\\n%s\" % classification_report(test_label, predicted_categories5_lr))"
   ]
  },
  {
   "cell_type": "markdown",
   "metadata": {},
   "source": [
    "### Gradient Boosting Classifier "
   ]
  },
  {
   "cell_type": "code",
   "execution_count": 54,
   "metadata": {},
   "outputs": [
    {
     "name": "stdout",
     "output_type": "stream",
     "text": [
      "Predicted: ['criminal', 'civil', 'criminal', 'civil', 'civil', 'civil', 'civil', 'civil', 'civil', 'civil']\n",
      "Ground truth: ['civil', 'civil', 'civil', 'civil', 'civil', 'civil', 'civil', 'civil', 'civil', 'criminal']\n"
     ]
    }
   ],
   "source": [
    "# Build the GB classifier by setting a pipeline where the input is first converted\n",
    "#to tfid\n",
    "model7_gbc = make_pipeline(TfidfVectorizer(), GradientBoostingClassifier())\n",
    "\n",
    "model7_gbc.fit(train_text, train_label) # Train the model on the training data\n",
    "                                                      \n",
    "predicted_categories7_gbc = model7_gbc.predict(valid_text) # Predict the categories of the test data\n",
    "print(\"Predicted:\",predicted_categories7_gbc.tolist()[0:10]) # Print the first 10 predictions\n",
    "print(\"Ground truth:\",valid_label[0:10]) # Print the first 10 ground truth values"
   ]
  },
  {
   "cell_type": "code",
   "execution_count": 56,
   "metadata": {},
   "outputs": [
    {
     "data": {
      "image/png": "[encoded data removed]",
      "text/plain": [
       "<Figure size 432x288 with 2 Axes>"
      ]
     },
     "metadata": {},
     "output_type": "display_data"
    },
    {
     "name": "stdout",
     "output_type": "stream",
     "text": [
      "Accuracy:\t0.872180\n",
      "F1-score:\t0.754905\n",
      "Precision:\t0.721481\n",
      "Recall:\t\t0.819444\n",
      "\n",
      "Classification performance of Gradient Boosting Classifier:\n",
      "              precision    recall  f1-score   support\n",
      "\n",
      "       civil       0.96      0.89      0.92       117\n",
      "    criminal       0.48      0.75      0.59        16\n",
      "\n",
      "    accuracy                           0.87       133\n",
      "   macro avg       0.72      0.82      0.75       133\n",
      "weighted avg       0.90      0.87      0.88       133\n",
      "\n"
     ]
    }
   ],
   "source": [
    "# Plot the confusion matrix for model 7: Gradient Boosting classifier\n",
    "model7_gbc = confusion_matrix(valid_label, predicted_categories7_gbc)\n",
    "sns.heatmap(model7_gbc.T, square = True, annot=True, fmt = \"d\")\n",
    "plt.xlabel(\"True label\")\n",
    "plt.ylabel(\"Predicted label\")\n",
    "plt.title(\"Gradient Boosting: 2-class Classification\")\n",
    "\n",
    "plt.savefig(\"GBC_default_2v_Performance\")\n",
    "plt.show()\n",
    "\n",
    "# Compute and print classification performance metrics\n",
    "print(\"Accuracy:\\t%f\" % accuracy_score(valid_label, predicted_categories7_gbc))\n",
    "print(\"F1-score:\\t%f\" % f1_score(valid_label, predicted_categories7_gbc, average='macro'))\n",
    "print(\"Precision:\\t%f\" % precision_score(valid_label, predicted_categories7_gbc, average='macro'))\n",
    "print(\"Recall:\\t\\t%f\" % recall_score(valid_label, predicted_categories7_gbc, average='macro'))\n",
    "print(\"\\nClassification performance of Gradient Boosting Classifier:\\n%s\" % classification_report(valid_label, predicted_categories7_gbc))"
   ]
  },
  {
   "cell_type": "code",
   "execution_count": 57,
   "metadata": {},
   "outputs": [
    {
     "data": {
      "text/plain": [
       "RandomizedSearchCV(cv=5,\n",
       "                   estimator=Pipeline(steps=[('tfidfvectorizer',\n",
       "                                              TfidfVectorizer()),\n",
       "                                             ('gradientboostingclassifier',\n",
       "                                              GradientBoostingClassifier())]),\n",
       "                   n_iter=5,\n",
       "                   param_distributions={'gradientboostingclassifier__max_depth': <scipy.stats._distn_infrastructure.rv_frozen object at 0x7f6956182670>,\n",
       "                                        'gradientboostingclassifier__min_samples_leaf': <scipy.stats._distn_infrastructure.rv_frozen object at 0x7f6957e70310>,\n",
       "                                        'gradientboostingclassifier__min_samples_split': <scipy.stats._distn_infrastructure.rv_frozen object at 0x7f69567c2e80>,\n",
       "                                        'gradientboostingclassifier__n_estimators': <scipy.stats._distn_infrastructure.rv_frozen object at 0x7f695425f700>})"
      ]
     },
     "execution_count": 57,
     "metadata": {},
     "output_type": "execute_result"
    }
   ],
   "source": [
    "#test data for hyperparameter tuning\n",
    "\n",
    "# Define hyperparameter ranges\n",
    "param_dist = {'gradientboostingclassifier__n_estimators': randint(50, 1000),\n",
    "              'gradientboostingclassifier__max_depth': randint(1, 20),\n",
    "              'gradientboostingclassifier__min_samples_split': randint(2, 20),\n",
    "              'gradientboostingclassifier__min_samples_leaf': randint(1, 10)\n",
    "             }\n",
    "\n",
    "# Create a random forest classifier pipeline\n",
    "gbc_pipeline = make_pipeline(TfidfVectorizer(), GradientBoostingClassifier())\n",
    "\n",
    "# Use random search to find the best hyperparameters\n",
    "rand_search = RandomizedSearchCV(gbc_pipeline,\n",
    "                                 param_distributions=param_dist,\n",
    "                                 n_iter=5,\n",
    "                                 cv=5)\n",
    "\n",
    "# Fit the random search object to the data\n",
    "rand_search.fit(train_text, train_label)"
   ]
  },
  {
   "cell_type": "code",
   "execution_count": 58,
   "metadata": {},
   "outputs": [
    {
     "name": "stdout",
     "output_type": "stream",
     "text": [
      "Best hyperparameters: {'gradientboostingclassifier__max_depth': 7, 'gradientboostingclassifier__min_samples_leaf': 9, 'gradientboostingclassifier__min_samples_split': 8, 'gradientboostingclassifier__n_estimators': 598}\n"
     ]
    }
   ],
   "source": [
    "#variable for the best model\n",
    "best_gbc = rand_search.best_estimator_\n",
    "\n",
    "#print the best hyperparameters\n",
    "print('Best hyperparameters:',  rand_search.best_params_)"
   ]
  },
  {
   "cell_type": "code",
   "execution_count": 59,
   "metadata": {},
   "outputs": [
    {
     "name": "stdout",
     "output_type": "stream",
     "text": [
      "Predicted: ['criminal', 'civil', 'civil', 'civil', 'civil', 'civil', 'civil', 'civil', 'civil', 'civil']\n",
      "Ground truth: ['criminal', 'civil', 'civil', 'civil', 'civil', 'civil', 'criminal', 'civil', 'civil', 'civil']\n"
     ]
    }
   ],
   "source": [
    "# Build the GB classifier by setting a pipeline where the input is first converted\n",
    "#to tfid\n",
    "#hyperparameters tuned\n",
    "model7_gbc2 = make_pipeline(TfidfVectorizer(), GradientBoostingClassifier(max_depth=7, min_samples_leaf=9, min_samples_split=8, n_estimators=598))\n",
    "\n",
    "model7_gbc2.fit(train_text, train_label) # Train the model on the training data\n",
    "                                                      \n",
    "predicted_categories7_gbc2 = model7_gbc2.predict(test_text) # Predict the categories of the test data\n",
    "print(\"Predicted:\",predicted_categories7_gbc2.tolist()[0:10]) # Print the first 10 predictions\n",
    "print(\"Ground truth:\",test_label[0:10]) # Print the first 10 ground truth values"
   ]
  },
  {
   "cell_type": "code",
   "execution_count": 61,
   "metadata": {},
   "outputs": [
    {
     "data": {
      "image/png": "[encoded data removed]",
      "text/plain": [
       "<Figure size 432x288 with 2 Axes>"
      ]
     },
     "metadata": {},
     "output_type": "display_data"
    },
    {
     "name": "stdout",
     "output_type": "stream",
     "text": [
      "Accuracy:\t0.921687\n",
      "F1-score:\t0.802290\n",
      "Precision:\t0.845000\n",
      "Recall:\t\t0.771921\n",
      "\n",
      "Classification performance of Tuned Gradient Boosting Classifier:\n",
      "              precision    recall  f1-score   support\n",
      "\n",
      "       civil       0.94      0.97      0.96       145\n",
      "    criminal       0.75      0.57      0.65        21\n",
      "\n",
      "    accuracy                           0.92       166\n",
      "   macro avg       0.84      0.77      0.80       166\n",
      "weighted avg       0.92      0.92      0.92       166\n",
      "\n"
     ]
    }
   ],
   "source": [
    "# Plot the confusion matrix for model 7: tuned Gradient Boosting classifier\n",
    "model7_gbc2 = confusion_matrix(test_label, predicted_categories7_gbc2)\n",
    "sns.heatmap(model7_gbc2.T, square = True, annot=True, fmt = \"d\")\n",
    "plt.xlabel(\"True label\")\n",
    "plt.ylabel(\"Predicted label\")\n",
    "plt.title(\"Gradient Boosting: 15-class Classification\")\n",
    "\n",
    "plt.savefig(\"GBC_tuned_2_Performance\")\n",
    "plt.show()\n",
    "\n",
    "# Compute and print classification performance metrics\n",
    "print(\"Accuracy:\\t%f\" % accuracy_score(test_label, predicted_categories7_gbc2))\n",
    "print(\"F1-score:\\t%f\" % f1_score(test_label, predicted_categories7_gbc2, average='macro'))\n",
    "print(\"Precision:\\t%f\" % precision_score(test_label, predicted_categories7_gbc2, average='macro'))\n",
    "print(\"Recall:\\t\\t%f\" % recall_score(test_label, predicted_categories7_gbc2, average='macro'))\n",
    "print(\"\\nClassification performance of Tuned Gradient Boosting Classifier:\\n%s\" % classification_report(test_label, predicted_categories7_gbc2))"
   ]
  },
  {
   "cell_type": "markdown",
   "metadata": {},
   "source": [
    "### Implementing Deep Learning: Neural Networks"
   ]
  },
  {
   "cell_type": "code",
   "execution_count": 11,
   "metadata": {},
   "outputs": [],
   "source": [
    "import torch\n",
    "from torchtext.legacy import data #For handling text data\n",
    "from nltk import word_tokenize # Import the word_tokenize function from NLTK\n",
    "import torch.nn as nn\n",
    "import torch.nn.functional as F\n",
    "import torch.optim as optim\n",
    "import torch.optim as optim\n",
    "\n",
    "import time"
   ]
  },
  {
   "cell_type": "markdown",
   "metadata": {},
   "source": [
    "#### Data Preprocessing"
   ]
  },
  {
   "cell_type": "code",
   "execution_count": 47,
   "metadata": {},
   "outputs": [],
   "source": [
    "TEXT = data.Field(tokenize=word_tokenize,batch_first=True,include_lengths=True) # Create text field for dataset\n",
    "LABEL = data.LabelField(dtype = torch.float,batch_first=True) # Create label field for dataset\n",
    "\n",
    "fields = [('text',TEXT),('label', LABEL)]"
   ]
  },
  {
   "cell_type": "code",
   "execution_count": null,
   "metadata": {},
   "outputs": [],
   "source": [
    "# Load dataset from csv file\n",
    "dataset=data.TabularDataset(path = 'UKSC_training_data_NN_2labels.csv',format = 'csv',fields = fields,skip_header = True)\n",
    "#print(vars(dataset.examples[0])) # Print first text as an example"
   ]
  },
  {
   "cell_type": "code",
   "execution_count": 49,
   "metadata": {},
   "outputs": [
    {
     "name": "stdout",
     "output_type": "stream",
     "text": [
      "Training samples: 930\n",
      "Test samples: 232\n"
     ]
    }
   ],
   "source": [
    "#dividing data into training and test sets\n",
    "\n",
    "import random\n",
    "RANDOM_SEED = 42 # Set random seed for reproducibility.\n",
    "\n",
    "# Divide dataset into a training set (80%) and a test set (20%)\n",
    "training_data, test_data = dataset.split(split_ratio=0.8, random_state = random.seed(RANDOM_SEED))\n",
    "\n",
    "print(\"Training samples:\",len(training_data))\n",
    "print(\"Test samples:\",len(test_data))"
   ]
  },
  {
   "cell_type": "code",
   "execution_count": 50,
   "metadata": {},
   "outputs": [
    {
     "name": "stdout",
     "output_type": "stream",
     "text": [
      "Size of TEXT vocabulary: 43600\n",
      "Size of LABEL vocabulary: 2 \n",
      "\n",
      "Most common tokens: [('court', 74965), ('section', 56363), ('would', 52616), ('case', 50195), ('lord', 44759), ('act', 41560), ('para', 40587), ('v', 37104), ('appeal', 35251), ('law', 34747)] \n",
      "\n",
      "Index of unknown word <unk>: 0\n",
      "Index of padding word <pad>: 1\n",
      "\n",
      "Number assigned to label: defaultdict(None, {'civil': 0, 'criminal': 1})\n"
     ]
    }
   ],
   "source": [
    "#creating vocabulary using training set\n",
    "\n",
    "TEXT.build_vocab(training_data,min_freq=1) # Build vocabulary from training set. Consider words that occur at least 1 time\n",
    "LABEL.build_vocab(training_data) # Build vocabulary for labels\n",
    "\n",
    "print(\"Size of TEXT vocabulary:\",len(TEXT.vocab)) # Number of unique tokens in vocabulary\n",
    "print(\"Size of LABEL vocabulary:\",len(LABEL.vocab),\"\\n\") # Number of unique labels\n",
    "print(\"Most common tokens:\",TEXT.vocab.freqs.most_common(10),\"\\n\") # Print the 10 most common tokens in the training set\n",
    "\n",
    "# Print the index number for the unknown token (<unk>) and the token used for padding (<pad>)\n",
    "print(\"Index of unknown word <unk>:\",TEXT.vocab.stoi['<unk>'])\n",
    "print(\"Index of padding word <pad>:\",TEXT.vocab.stoi['<pad>'])\n",
    "print()\n",
    "print(\"Number assigned to label:\", LABEL.vocab.stoi) #number assigned to each label\n"
   ]
  },
  {
   "cell_type": "markdown",
   "metadata": {},
   "source": [
    "#### Defining Model Architecture"
   ]
  },
  {
   "cell_type": "code",
   "execution_count": 51,
   "metadata": {},
   "outputs": [
    {
     "name": "stdout",
     "output_type": "stream",
     "text": [
      "Device: cpu\n"
     ]
    }
   ],
   "source": [
    "#defining model architecture \n",
    "#create two iterators for training and test data\n",
    "\n",
    "device = torch.device('cuda' if torch.cuda.is_available() else 'cpu') #Set device to GPU if cuda available, else CPU\n",
    "print(\"Device:\",device)\n",
    "\n",
    "torch.manual_seed(RANDOM_SEED)\n",
    "\n",
    "BATCH_SIZE = 32 #set batch size for training #why 32?\n",
    "\n",
    "# Create data iterator for training and test sets\n",
    "training_iterator, test_iterator = data.BucketIterator.splits(\n",
    "    (training_data, test_data),\n",
    "    batch_size = BATCH_SIZE,\n",
    "    sort_key = lambda x: len(x.text), #telling the BucketIterator the function it should use to group the data\n",
    "    sort_within_batch=True, #sorts data within each mini batch\n",
    "    device = device)"
   ]
  },
  {
   "cell_type": "code",
   "execution_count": 52,
   "metadata": {},
   "outputs": [],
   "source": [
    "#define multi-class accuracy metric\n",
    "#accuracy is calculated by performing argmax to get the index of the max.value\n",
    "#in the prediction for each element, and counting no.of times this equals the actual label\n",
    "#the values are then averaged across the batch.\n",
    "def binary_accuracy(preds, y):\n",
    "    rounded_preds = torch.round(torch.sigmoid(preds)) # Round predictions to the closest integer\n",
    "    correct = (rounded_preds == y).float()\n",
    "    acc = correct.sum() / len(correct)\n",
    "    return acc"
   ]
  },
  {
   "cell_type": "code",
   "execution_count": 53,
   "metadata": {},
   "outputs": [
    {
     "data": {
      "text/plain": [
       "<torchtext.legacy.data.iterator.BucketIterator at 0x7ff34c9a3dc0>"
      ]
     },
     "execution_count": 53,
     "metadata": {},
     "output_type": "execute_result"
    }
   ],
   "source": [
    "training_iterator"
   ]
  },
  {
   "cell_type": "code",
   "execution_count": 60,
   "metadata": {},
   "outputs": [
    {
     "name": "stdout",
     "output_type": "stream",
     "text": [
      "\n",
      "[torchtext.legacy.data.batch.Batch of size 32]\n",
      "\t[.text]:('[torch.LongTensor of size 32x15947]', '[torch.LongTensor of size 32]')\n",
      "\t[.label]:[torch.FloatTensor of size 32]\n",
      "\n",
      "dict_keys(['batch_size', 'dataset', 'fields', 'input_fields', 'target_fields', 'text', 'label'])\n"
     ]
    }
   ],
   "source": [
    "batch = next(training_iterator.__iter__())\n",
    "print(batch)\n",
    "print()\n",
    "\n",
    "#use batch as wrapper to bundle all attributes to one variable dictionary\n",
    "print(batch.__dict__.keys())"
   ]
  },
  {
   "cell_type": "code",
   "execution_count": 61,
   "metadata": {},
   "outputs": [
    {
     "data": {
      "text/plain": [
       "(<torchtext.legacy.data.dataset.Dataset at 0x7f89cdfff7f0>,\n",
       " <torchtext.legacy.data.dataset.Dataset at 0x7f89cdfff7f0>,\n",
       " True)"
      ]
     },
     "execution_count": 61,
     "metadata": {},
     "output_type": "execute_result"
    }
   ],
   "source": [
    "#check whether the dataset attribute of \"batch\" variable == the training_data variable\n",
    "batch.__dict__['dataset'], training_data, batch.__dict__['dataset']==training_data"
   ]
  },
  {
   "cell_type": "code",
   "execution_count": 63,
   "metadata": {},
   "outputs": [
    {
     "data": {
      "text/plain": [
       "dict_keys(['text', 'label'])"
      ]
     },
     "execution_count": 63,
     "metadata": {},
     "output_type": "execute_result"
    }
   ],
   "source": [
    "training_data[0].__dict__.keys()"
   ]
  },
  {
   "cell_type": "code",
   "execution_count": 64,
   "metadata": {},
   "outputs": [
    {
     "data": {
      "text/plain": [
       "['michaelmas', 'term', 'uksc', 'appeal', 'ewca']"
      ]
     },
     "execution_count": 64,
     "metadata": {},
     "output_type": "execute_result"
    }
   ],
   "source": [
    "training_data[0].__dict__['text'][:5]"
   ]
  },
  {
   "cell_type": "markdown",
   "metadata": {},
   "source": [
    "### Deploying a Convolutional Neural Network"
   ]
  },
  {
   "cell_type": "code",
   "execution_count": 54,
   "metadata": {},
   "outputs": [],
   "source": [
    "class LegalAreaCNN(nn.Module):\n",
    "    def __init__(self, \n",
    "                 vocab_size, \n",
    "                 embedding_dim, \n",
    "                 n_filters, \n",
    "                 filter_sizes, \n",
    "                 output_dim, \n",
    "                 dropout, \n",
    "                 pad_idx):\n",
    "        \n",
    "        super().__init__()\n",
    "        \n",
    "        #embedding layer\n",
    "        self.embedding = nn.Embedding(vocab_size, \n",
    "                                      embedding_dim, \n",
    "                                      padding_idx = pad_idx)\n",
    "        #convolutional layers\n",
    "        self.convs = nn.ModuleList([\n",
    "                                    nn.Conv2d(in_channels = 1, \n",
    "                                              out_channels = n_filters, \n",
    "                                              kernel_size = (fs, embedding_dim)) \n",
    "                                    for fs in filter_sizes\n",
    "                                    ])\n",
    "        #fully connected layer\n",
    "        self.fc = nn.Linear(len(filter_sizes) * n_filters, output_dim)\n",
    "        \n",
    "        #dropout layer\n",
    "        self.dropout = nn.Dropout(dropout)\n",
    "        \n",
    "    def forward(self, text):   \n",
    "        #text = text.permute(1, 0)\n",
    "        embedded = self.embedding(text)     \n",
    "        embedded = embedded.unsqueeze(1)       \n",
    "        conved = [F.relu(conv(embedded)).squeeze(3) for conv in self.convs]                \n",
    "        pooled = [F.max_pool1d(conv, conv.shape[2]).squeeze(2) for conv in conved]    \n",
    "        cat = self.dropout(torch.cat(pooled, dim = 1))\n",
    "        return self.fc(cat)\n",
    "    \n",
    "#code adapted from: https://github.com/bentrevett/pytorch-sentiment-analysis/blob/master/4%20-%20Convolutional%20Sentiment%20Analysis.ipynb"
   ]
  },
  {
   "cell_type": "code",
   "execution_count": 55,
   "metadata": {},
   "outputs": [],
   "source": [
    "INPUT_DIM = len(TEXT.vocab)\n",
    "EMBEDDING_DIM = 100\n",
    "N_FILTERS = 100\n",
    "FILTER_SIZES = [3,4,5]\n",
    "OUTPUT_DIM = 1\n",
    "DROPOUT = 0.5\n",
    "PAD_IDX = TEXT.vocab.stoi[TEXT.pad_token]\n",
    "\n",
    "model = LegalAreaCNN(INPUT_DIM, EMBEDDING_DIM, N_FILTERS, FILTER_SIZES, OUTPUT_DIM, DROPOUT, PAD_IDX)\n"
   ]
  },
  {
   "cell_type": "code",
   "execution_count": 56,
   "metadata": {},
   "outputs": [
    {
     "name": "stdout",
     "output_type": "stream",
     "text": [
      "LegalAreaCNN(\n",
      "  (embedding): Embedding(43600, 100, padding_idx=1)\n",
      "  (convs): ModuleList(\n",
      "    (0): Conv2d(1, 100, kernel_size=(3, 100), stride=(1, 1))\n",
      "    (1): Conv2d(1, 100, kernel_size=(4, 100), stride=(1, 1))\n",
      "    (2): Conv2d(1, 100, kernel_size=(5, 100), stride=(1, 1))\n",
      "  )\n",
      "  (fc): Linear(in_features=300, out_features=1, bias=True)\n",
      "  (dropout): Dropout(p=0.5, inplace=False)\n",
      ")\n",
      "\n",
      " CNN model trainable parameters: 4480601\n"
     ]
    }
   ],
   "source": [
    "print(model)\n",
    "def parameters(model):\n",
    "    return sum(p.numel() for p in model.parameters() if p.requires_grad)\n",
    "print(\"\\n CNN model trainable parameters:\",parameters(model))"
   ]
  },
  {
   "cell_type": "code",
   "execution_count": 57,
   "metadata": {},
   "outputs": [],
   "source": [
    "#identify optimizer and loss criterion\n",
    "optimizer = optim.Adam(model.parameters()) # Use the Adam optimiser\n",
    "criterion = nn.BCEWithLogitsLoss() # Use Binary Cross Entropy between the target and the output as the loss function\n",
    "#criterion = nn.CrossEntropyLoss()"
   ]
  },
  {
   "cell_type": "code",
   "execution_count": 58,
   "metadata": {},
   "outputs": [],
   "source": [
    "#send model to device\n",
    "model = model.to(device)\n",
    "criterion = criterion.to(device)"
   ]
  },
  {
   "cell_type": "code",
   "execution_count": 59,
   "metadata": {},
   "outputs": [
    {
     "name": "stdout",
     "output_type": "stream",
     "text": [
      "Epoch   0: Train loss: 0.872 | Train acuracy: 0.5177 | Validation loss: 0.510 | Validation acuracy: 0.6719 - 669.27 s\n",
      "Epoch   1: Train loss: 0.494 | Train acuracy: 0.7594 | Validation loss: 0.340 | Validation acuracy: 0.9727 - 672.11 s\n",
      "Epoch   2: Train loss: 0.378 | Train acuracy: 0.8438 | Validation loss: 0.260 | Validation acuracy: 0.9492 - 721.79 s\n",
      "Epoch   3: Train loss: 0.275 | Train acuracy: 0.9031 | Validation loss: 0.192 | Validation acuracy: 0.9648 - 659.35 s\n",
      "Epoch   4: Train loss: 0.223 | Train acuracy: 0.9271 | Validation loss: 0.165 | Validation acuracy: 0.9531 - 662.64 s\n",
      "Epoch   5: Train loss: 0.172 | Train acuracy: 0.9469 | Validation loss: 0.156 | Validation acuracy: 0.9531 - 645.15 s\n",
      "Epoch   6: Train loss: 0.131 | Train acuracy: 0.9573 | Validation loss: 0.120 | Validation acuracy: 0.9727 - 654.55 s\n",
      "Epoch   7: Train loss: 0.123 | Train acuracy: 0.9573 | Validation loss: 0.095 | Validation acuracy: 0.9766 - 646.27 s\n",
      "Epoch   8: Train loss: 0.126 | Train acuracy: 0.9646 | Validation loss: 0.125 | Validation acuracy: 0.9531 - 666.77 s\n",
      "Epoch   9: Train loss: 0.106 | Train acuracy: 0.9688 | Validation loss: 0.121 | Validation acuracy: 0.9531 - 650.38 s\n",
      "\n",
      "Best performance at epoch 7 | Loss: 0.095 | Accuracy: 0.9766\n"
     ]
    }
   ],
   "source": [
    "#defining a training function\n",
    "def train(model, iterator, optimizer, criterion):\n",
    "    epoch_loss = 0\n",
    "    epoch_acc = 0\n",
    "    model.train()\n",
    "    for batch in iterator:\n",
    "        optimizer.zero_grad()\n",
    "        text, _ = batch.text  #unpack the tuple\n",
    "        predictions = model(text).squeeze(1)\n",
    "        loss = criterion(predictions, batch.label) \n",
    "        acc = binary_accuracy(predictions, batch.label)\n",
    "        loss.backward()\n",
    "        optimizer.step()\n",
    "        epoch_loss += loss.item()\n",
    "        epoch_acc += acc.item()\n",
    "    return epoch_loss / len(iterator), epoch_acc / len(iterator)\n",
    "\n",
    "#defining an evaluation function\n",
    "def evaluate(model, iterator, criterion):\n",
    "    epoch_loss = 0\n",
    "    epoch_acc = 0\n",
    "    model.eval()\n",
    "    with torch.no_grad():\n",
    "         for batch in iterator:\n",
    "            text, _ = batch.text  #unpack the tuple\n",
    "            predictions = model(text).squeeze(1)\n",
    "            loss = criterion(predictions, batch.label)\n",
    "            acc = binary_accuracy(predictions, batch.label)\n",
    "            epoch_loss += loss.item()\n",
    "            epoch_acc += acc.item()\n",
    "    return epoch_loss / len(iterator), epoch_acc / len(iterator)\n",
    "\n",
    "#training and evaluating performance of CNN over 10 epochs\n",
    "N_EPOCHS = 10 # 10 epochs\n",
    "best_valid_loss = float('inf')\n",
    "best_valid_acc = float('inf')\n",
    "best_epoch = 0\n",
    "\n",
    "#lists to store the loss and accuracy for training and validation for each epoch\n",
    "epoch_loss_train = []\n",
    "epoch_loss_valid = []\n",
    "epoch_accuracy_train = []\n",
    "epoch_accuracy_valid = []\n",
    "\n",
    "for epoch in range(N_EPOCHS):\n",
    "    print(\"Epoch %3d:\" % epoch,end='')\n",
    "    start = time.time()\n",
    "    \n",
    "    #train the model\n",
    "    train_loss, train_acc = train(model, training_iterator, optimizer, criterion)\n",
    "    epoch_loss_train.append(train_loss) #append training loss for each epoch\n",
    "    epoch_accuracy_train.append(train_acc) #append training accuracy of each epoch\n",
    "    \n",
    "    #evaluate the model\n",
    "    valid_loss, valid_acc = evaluate(model, test_iterator, criterion)\n",
    "    epoch_loss_valid.append(valid_loss) #append validation loss for each epoch\n",
    "    epoch_accuracy_valid.append(valid_acc) #append validation accuracy of each epoch\n",
    "    \n",
    "    #save the best model\n",
    "    if valid_loss < best_valid_loss:\n",
    "        best_valid_loss = valid_loss\n",
    "        best_valid_acc = valid_acc\n",
    "        best_epoch = epoch\n",
    "        torch.save(model.state_dict(), 'CNN2_saved_weights.pt')\n",
    "    print(\" Train loss: %.3f | Train acuracy: %3.4f \" % (train_loss,train_acc),end='')\n",
    "    print(\"| Validation loss: %.3f | Validation acuracy: %3.4f\" % (valid_loss,valid_acc),end='')\n",
    "    print(\" - %3.2f s\" % (time.time()-start))\n",
    "    \n",
    "print(\"\\nBest performance at epoch %d | Loss: %.3f | Accuracy: %3.4f\" %\n",
    "      (best_epoch,best_valid_loss,best_valid_acc))"
   ]
  },
  {
   "cell_type": "code",
   "execution_count": 60,
   "metadata": {},
   "outputs": [
    {
     "data": {
      "image/png": "[encoded data removed]",
      "text/plain": [
       "<Figure size 720x576 with 2 Axes>"
      ]
     },
     "metadata": {},
     "output_type": "display_data"
    }
   ],
   "source": [
    "#one plot showing the training loss and validation loss\n",
    "#another plot showing the training accuracy and validation accuracy\n",
    "\n",
    "import numpy as np\n",
    "import matplotlib.pyplot as plt\n",
    "\n",
    "eps = np.arange(N_EPOCHS)\n",
    "\n",
    "fig, (ax1, ax2) = plt.subplots(2, figsize=(10, 8), sharex=True)\n",
    "\n",
    "#ax1.set_ylim([0, 1])\n",
    "#to make the loss plot more visible\n",
    "ax1.set_ylim([0, max(max(epoch_loss_train), max(epoch_loss_valid)) + 0.1])\n",
    "\n",
    "ax1.plot(epoch_loss_train,'b')\n",
    "ax1.plot(epoch_loss_valid,'r')\n",
    "ax1.set_ylabel(\"Loss per epoch\")\n",
    "ax1.legend([\"Training\",\"Validation\"])\n",
    "\n",
    "ax2.set_ylim([0, 1])\n",
    "ax2.plot(epoch_accuracy_train,'b')\n",
    "ax2.plot(epoch_accuracy_valid,'r')\n",
    "ax2.set_ylabel(\"Accuracy per epoch\")\n",
    "ax2.set_xlabel(\"Epochs\");\n",
    "ax2.legend([\"Training\",\"Validation\"])\n",
    "\n",
    "plt.savefig(\"Epoch loss_BinaryCNN\")\n",
    "plt.show()"
   ]
  },
  {
   "cell_type": "code",
   "execution_count": 61,
   "metadata": {},
   "outputs": [
    {
     "name": "stdout",
     "output_type": "stream",
     "text": [
      "There are a maximum of 33654 words in each training text\n"
     ]
    }
   ],
   "source": [
    "max_words = 0\n",
    "for sentence in train_text :\n",
    "    max_words = max(len(sentence.split()), max_words )\n",
    "print(\"There are a maximum of\", max_words, \"words in each training text\")\n"
   ]
  },
  {
   "cell_type": "code",
   "execution_count": 62,
   "metadata": {},
   "outputs": [
    {
     "name": "stdout",
     "output_type": "stream",
     "text": [
      "Test Loss: 0.095 | Test Acc: 97.66%\n"
     ]
    }
   ],
   "source": [
    "model.load_state_dict(torch.load('CNN2_saved_weights.pt'))\n",
    "\n",
    "test_loss, test_acc = evaluate(model, test_iterator, criterion)\n",
    "\n",
    "print(f'Test Loss: {test_loss:.3f} | Test Acc: {test_acc*100:.2f}%')"
   ]
  },
  {
   "cell_type": "code",
   "execution_count": 63,
   "metadata": {},
   "outputs": [],
   "source": [
    "def LegalAreaCNN_predict(model, sentence, min_len = max_words):\n",
    "    model.eval()\n",
    "    #preprocess \n",
    "    tokenised = [token for token in word_tokenize(sentence)] # Tokenise text\n",
    "    indexed = [TEXT.vocab.stoi[token] for token in tokenised]\n",
    "    tensor = torch.LongTensor(indexed).to(device) # Convert to PyTorch tensor\n",
    "    \n",
    "    tensor = tensor.unsqueeze(0) # Reshape in form of batch,number of words\n",
    "    prediction = model(tensor)\n",
    "    prediction = prediction.argmax(dim = 1)\n",
    "    return int(round(prediction.item()))\n",
    "\n",
    "#code adapted from: https://github.com/bentrevett/pytorch-sentiment-analysis/blob/master/4%20-%20Convolutional%20Sentiment%20Analysis.ipynb"
   ]
  },
  {
   "cell_type": "code",
   "execution_count": 64,
   "metadata": {},
   "outputs": [
    {
     "name": "stdout",
     "output_type": "stream",
     "text": [
      "Predicted Label: ['civil', 'civil', 'civil', 'civil', 'civil', 'civil', 'civil', 'civil', 'civil', 'civil']\n",
      "Ground Truth Label: ['criminal', 'civil', 'civil', 'civil', 'civil', 'civil', 'criminal', 'civil', 'civil', 'civil']\n"
     ]
    }
   ],
   "source": [
    "label_names = {1:\"criminal\", 0: \"civil\"}\n",
    "#Number assigned to label: defaultdict(None, {'civil': 0, 'criminal': 1})\n",
    "\n",
    "predict_CNN2 = []\n",
    "\n",
    "for i in test_text:\n",
    "    predict_label = label_names[LegalAreaCNN_predict(model, i)]\n",
    "    predict_CNN2.append(predict_label)\n",
    "    \n",
    "print(\"Predicted Label:\",predict_CNN2[0:10])\n",
    "print(\"Ground Truth Label:\",test_label[0:10])"
   ]
  },
  {
   "cell_type": "code",
   "execution_count": 65,
   "metadata": {},
   "outputs": [
    {
     "data": {
      "image/png": "[encoded data removed]",
      "text/plain": [
       "<Figure size 432x288 with 2 Axes>"
      ]
     },
     "metadata": {},
     "output_type": "display_data"
    },
    {
     "name": "stdout",
     "output_type": "stream",
     "text": [
      "Accuracy:\t0.873494\n",
      "F1-score:\t0.466238\n",
      "Precision:\t0.436747\n",
      "Recall:\t\t0.500000\n",
      "\n",
      "Classification performance of CNN:\n",
      "              precision    recall  f1-score   support\n",
      "\n",
      "       civil       0.87      1.00      0.93       145\n",
      "    criminal       0.00      0.00      0.00        21\n",
      "\n",
      "    accuracy                           0.87       166\n",
      "   macro avg       0.44      0.50      0.47       166\n",
      "weighted avg       0.76      0.87      0.81       166\n",
      "\n"
     ]
    },
    {
     "name": "stderr",
     "output_type": "stream",
     "text": [
      "/apps/jupyterhub/COMP42415/lib/python3.8/site-packages/sklearn/metrics/_classification.py:1221: UndefinedMetricWarning: Precision is ill-defined and being set to 0.0 in labels with no predicted samples. Use `zero_division` parameter to control this behavior.\n",
      "  _warn_prf(average, modifier, msg_start, len(result))\n",
      "/apps/jupyterhub/COMP42415/lib/python3.8/site-packages/sklearn/metrics/_classification.py:1221: UndefinedMetricWarning: Precision and F-score are ill-defined and being set to 0.0 in labels with no predicted samples. Use `zero_division` parameter to control this behavior.\n",
      "  _warn_prf(average, modifier, msg_start, len(result))\n"
     ]
    }
   ],
   "source": [
    "#plot the confusion matrix: CNN\n",
    "mat_cnn = confusion_matrix(test_label, predict_CNN2)\n",
    "sns.heatmap(mat_cnn.T, square = True, annot=True, fmt = \"d\")\n",
    "plt.xlabel(\"True label\")\n",
    "plt.ylabel(\"Predicted label\")\n",
    "plt.title(\"Convolutional Neural Network: 2-Class Classification\")\n",
    "plt.savefig(\"CNN_70000_2_Performance\")\n",
    "plt.show()\n",
    "\n",
    "# Compute and print classification performance metrics\n",
    "print(\"Accuracy:\\t%f\" % accuracy_score(test_label, predict_CNN2))\n",
    "print(\"F1-score:\\t%f\" % f1_score(test_label, predict_CNN2, average='macro'))\n",
    "print(\"Precision:\\t%f\" % precision_score(test_label, predict_CNN2, average='macro'))\n",
    "print(\"Recall:\\t\\t%f\" % recall_score(test_label, predict_CNN2, average='macro'))\n",
    "print(\"\\nClassification performance of CNN:\\n%s\" % classification_report(test_label, predict_CNN2))"
   ]
  }
 ],
 "metadata": {
  "kernelspec": {
   "display_name": "Python 3",
   "language": "python",
   "name": "python3"
  },
  "language_info": {
   "codemirror_mode": {
    "name": "ipython",
    "version": 3
   },
   "file_extension": ".py",
   "mimetype": "text/x-python",
   "name": "python",
   "nbconvert_exporter": "python",
   "pygments_lexer": "ipython3",
   "version": "3.8.11"
  }
 },
 "nbformat": 4,
 "nbformat_minor": 5
}
