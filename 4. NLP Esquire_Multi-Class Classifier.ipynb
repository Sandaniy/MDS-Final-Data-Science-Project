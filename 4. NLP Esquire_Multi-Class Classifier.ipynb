{
 "cells": [
  {
   "cell_type": "markdown",
   "metadata": {},
   "source": [
    "#### Master of Data Science (Digital Humanities), Durham University\n",
    "#### Final Project Notebooks\n",
    "\n",
    "### DATA40345 Data Science Research Project\n",
    "\n",
    "#### NLP Esquire: A Data-Driven Analysis and Categorisation of the Judgments of the United Kingdom Supreme Court"
   ]
  },
  {
   "cell_type": "markdown",
   "metadata": {},
   "source": [
    "## Notebook 4: Multi-Class Classification "
   ]
  },
  {
   "cell_type": "code",
   "execution_count": 1,
   "metadata": {},
   "outputs": [],
   "source": [
    "#libraries for data processing, cleaning, manipulation, sampling\n",
    "import pandas as pd\n",
    "import numpy as np\n",
    "\n",
    "from nltk import word_tokenize\n",
    "from nltk.corpus import stopwords\n",
    "import re\n",
    "from sklearn.utils import resample\n",
    "\n",
    "#library for training/testing\n",
    "from sklearn.model_selection import train_test_split\n",
    "import random\n",
    "\n",
    "#libraries/packages for implementing traditional classifiers\n",
    "from sklearn.feature_extraction.text import TfidfVectorizer\n",
    "from sklearn.pipeline import make_pipeline\n",
    "\n",
    "from sklearn.naive_bayes import MultinomialNB\n",
    "from sklearn.neighbors import KNeighborsClassifier\n",
    "from sklearn import svm\n",
    "from sklearn.tree import DecisionTreeClassifier\n",
    "from sklearn.ensemble import RandomForestClassifier\n",
    "from sklearn.ensemble import GradientBoostingClassifier\n",
    "from sklearn.linear_model import LogisticRegression\n",
    "\n",
    "from sklearn.model_selection import GridSearchCV\n",
    "from sklearn.model_selection import RandomizedSearchCV, train_test_split\n",
    "from scipy.stats import randint\n",
    "from sklearn.model_selection import cross_val_score\n",
    "\n",
    "#libraries/packages for implementing deep learning architectures\n",
    "import torch\n",
    "from torchtext.legacy import data #For handling text data\n",
    "import torch.nn as nn\n",
    "import torch.nn.functional as F\n",
    "import torch.optim as optim\n",
    "import torch.optim as optim\n",
    "\n",
    "#libraries for evaluation metrics of classifiers\n",
    "from sklearn.metrics import confusion_matrix, accuracy_score, f1_score,precision_score,recall_score,classification_report\n",
    "from sklearn.metrics import accuracy_score, confusion_matrix, precision_score, recall_score, ConfusionMatrixDisplay\n",
    "import time\n",
    "import tqdm\n",
    "\n",
    "#visualisation libraries\n",
    "import matplotlib.pyplot as plt\n",
    "import seaborn as sns"
   ]
  },
  {
   "cell_type": "code",
   "execution_count": 2,
   "metadata": {},
   "outputs": [
    {
     "data": {
      "text/html": [
       "<div>\n",
       "<style scoped>\n",
       "    .dataframe tbody tr th:only-of-type {\n",
       "        vertical-align: middle;\n",
       "    }\n",
       "\n",
       "    .dataframe tbody tr th {\n",
       "        vertical-align: top;\n",
       "    }\n",
       "\n",
       "    .dataframe thead th {\n",
       "        text-align: right;\n",
       "    }\n",
       "</style>\n",
       "<table border=\"1\" class=\"dataframe\">\n",
       "  <thead>\n",
       "    <tr style=\"text-align: right;\">\n",
       "      <th></th>\n",
       "      <th>title</th>\n",
       "      <th>label</th>\n",
       "    </tr>\n",
       "  </thead>\n",
       "  <tbody>\n",
       "    <tr>\n",
       "      <th>0</th>\n",
       "      <td>uksc-2009-0015-judgment-01</td>\n",
       "      <td>human rights</td>\n",
       "    </tr>\n",
       "    <tr>\n",
       "      <th>1</th>\n",
       "      <td>uksc-2009-0019-judgment</td>\n",
       "      <td>family</td>\n",
       "    </tr>\n",
       "    <tr>\n",
       "      <th>2</th>\n",
       "      <td>uksc-2009-0020-judgment</td>\n",
       "      <td>human rights</td>\n",
       "    </tr>\n",
       "    <tr>\n",
       "      <th>3</th>\n",
       "      <td>uksc-2009-0022-judgment</td>\n",
       "      <td>immigration</td>\n",
       "    </tr>\n",
       "    <tr>\n",
       "      <th>4</th>\n",
       "      <td>uksc-2009-0031-judgment</td>\n",
       "      <td>family</td>\n",
       "    </tr>\n",
       "    <tr>\n",
       "      <th>5</th>\n",
       "      <td>uksc-2009-0032-judgment</td>\n",
       "      <td>tort</td>\n",
       "    </tr>\n",
       "    <tr>\n",
       "      <th>6</th>\n",
       "      <td>uksc-2009-0034-judgment</td>\n",
       "      <td>family</td>\n",
       "    </tr>\n",
       "    <tr>\n",
       "      <th>7</th>\n",
       "      <td>uksc-2009-0036-judgment</td>\n",
       "      <td>international</td>\n",
       "    </tr>\n",
       "    <tr>\n",
       "      <th>8</th>\n",
       "      <td>uksc-2009-0037-judgment</td>\n",
       "      <td>land</td>\n",
       "    </tr>\n",
       "    <tr>\n",
       "      <th>9</th>\n",
       "      <td>uksc-2009-0038-judgment</td>\n",
       "      <td>land</td>\n",
       "    </tr>\n",
       "  </tbody>\n",
       "</table>\n",
       "</div>"
      ],
      "text/plain": [
       "                        title          label\n",
       "0  uksc-2009-0015-judgment-01   human rights\n",
       "1     uksc-2009-0019-judgment         family\n",
       "2     uksc-2009-0020-judgment   human rights\n",
       "3     uksc-2009-0022-judgment    immigration\n",
       "4     uksc-2009-0031-judgment         family\n",
       "5     uksc-2009-0032-judgment           tort\n",
       "6     uksc-2009-0034-judgment         family\n",
       "7     uksc-2009-0036-judgment  international\n",
       "8     uksc-2009-0037-judgment           land\n",
       "9     uksc-2009-0038-judgment           land"
      ]
     },
     "execution_count": 2,
     "metadata": {},
     "output_type": "execute_result"
    }
   ],
   "source": [
    "#loading the dataset with the case id and labels using pandas\n",
    "labels = pd.read_csv(\"UKSC_Labelled_FINAL for ML.csv\", names=[\"title\", \"label\"])\n",
    "labels.head(10)\n",
    "\n",
    "#https://pandas.pydata.org/docs/reference/api/pandas.read_csv.html"
   ]
  },
  {
   "cell_type": "code",
   "execution_count": 3,
   "metadata": {},
   "outputs": [
    {
     "data": {
      "text/plain": [
       "criminal                    99\n",
       "immigration                 98\n",
       "admin                       95\n",
       "human rights                76\n",
       "international               65\n",
       "tax                         62\n",
       "labour                      51\n",
       "contract                    49\n",
       "land                        47\n",
       "tort                        46\n",
       "company                     45\n",
       "family                      37\n",
       "insurance                   25\n",
       "procedure                   20\n",
       "constitutional              19\n",
       "intellectual property       19\n",
       "shipping                     7\n",
       "mental capacity              6\n",
       "arbitration                  6\n",
       "equity                       5\n",
       "competition                  5\n",
       "banking                      4\n",
       "civil                        4\n",
       "trust                        3\n",
       "damages                      3\n",
       "security                     3\n",
       "mental health                2\n",
       "public                       2\n",
       "contempt                     2\n",
       "jurisdiction                 2\n",
       "private                      1\n",
       "public health                1\n",
       "medical                      1\n",
       "consumer protection          1\n",
       "fishing                      1\n",
       "construction                 1\n",
       "statutory interpretation     1\n",
       "fraud                        1\n",
       "telecom                      1\n",
       "legal aid                    1\n",
       "communications               1\n",
       "Name: label, dtype: int64"
      ]
     },
     "execution_count": 3,
     "metadata": {},
     "output_type": "execute_result"
    }
   ],
   "source": [
    "counts = labels[\"label\"].value_counts()\n",
    "counts"
   ]
  },
  {
   "cell_type": "code",
   "execution_count": 4,
   "metadata": {},
   "outputs": [
    {
     "data": {
      "text/html": [
       "<div>\n",
       "<style scoped>\n",
       "    .dataframe tbody tr th:only-of-type {\n",
       "        vertical-align: middle;\n",
       "    }\n",
       "\n",
       "    .dataframe tbody tr th {\n",
       "        vertical-align: top;\n",
       "    }\n",
       "\n",
       "    .dataframe thead th {\n",
       "        text-align: right;\n",
       "    }\n",
       "</style>\n",
       "<table border=\"1\" class=\"dataframe\">\n",
       "  <thead>\n",
       "    <tr style=\"text-align: right;\">\n",
       "      <th></th>\n",
       "      <th>title</th>\n",
       "      <th>text</th>\n",
       "    </tr>\n",
       "  </thead>\n",
       "  <tbody>\n",
       "    <tr>\n",
       "      <th>0</th>\n",
       "      <td>uksc-2009-0015-judgment-01</td>\n",
       "      <td>Hilary Term \\n[2010] UKSC 1 \\n\\nJUDGMENT \\n\\nA...</td>\n",
       "    </tr>\n",
       "    <tr>\n",
       "      <th>1</th>\n",
       "      <td>uksc-2009-0019-judgment</td>\n",
       "      <td>Michaelmas Term \\n[2009] UKSC 5 \\nOn appeal fr...</td>\n",
       "    </tr>\n",
       "    <tr>\n",
       "      <th>2</th>\n",
       "      <td>uksc-2009-0020-judgment</td>\n",
       "      <td>Michaelmas Term \\n[2009] UKSC 12 \\nOn appeal f...</td>\n",
       "    </tr>\n",
       "    <tr>\n",
       "      <th>3</th>\n",
       "      <td>uksc-2009-0022-judgment</td>\n",
       "      <td>Easter Term \\n[2011] UKSC 23 \\nOn appeal from:...</td>\n",
       "    </tr>\n",
       "  </tbody>\n",
       "</table>\n",
       "</div>"
      ],
      "text/plain": [
       "                        title  \\\n",
       "0  uksc-2009-0015-judgment-01   \n",
       "1     uksc-2009-0019-judgment   \n",
       "2     uksc-2009-0020-judgment   \n",
       "3     uksc-2009-0022-judgment   \n",
       "\n",
       "                                                text  \n",
       "0  Hilary Term \\n[2010] UKSC 1 \\n\\nJUDGMENT \\n\\nA...  \n",
       "1  Michaelmas Term \\n[2009] UKSC 5 \\nOn appeal fr...  \n",
       "2  Michaelmas Term \\n[2009] UKSC 12 \\nOn appeal f...  \n",
       "3  Easter Term \\n[2011] UKSC 23 \\nOn appeal from:...  "
      ]
     },
     "execution_count": 4,
     "metadata": {},
     "output_type": "execute_result"
    }
   ],
   "source": [
    "#loading the dataset with the case id and the judgment text\n",
    "text = pd.read_csv(\"UKSC Judgments.csv\")\n",
    "text.head(4)"
   ]
  },
  {
   "cell_type": "code",
   "execution_count": 5,
   "metadata": {},
   "outputs": [
    {
     "name": "stdout",
     "output_type": "stream",
     "text": [
      "<class 'pandas.core.frame.DataFrame'>\n",
      "RangeIndex: 918 entries, 0 to 917\n",
      "Data columns (total 2 columns):\n",
      " #   Column  Non-Null Count  Dtype \n",
      "---  ------  --------------  ----- \n",
      " 0   title   918 non-null    object\n",
      " 1   label   918 non-null    object\n",
      "dtypes: object(2)\n",
      "memory usage: 14.5+ KB\n",
      "\n",
      "<class 'pandas.core.frame.DataFrame'>\n",
      "RangeIndex: 918 entries, 0 to 917\n",
      "Data columns (total 2 columns):\n",
      " #   Column  Non-Null Count  Dtype \n",
      "---  ------  --------------  ----- \n",
      " 0   title   918 non-null    object\n",
      " 1   text    918 non-null    object\n",
      "dtypes: object(2)\n",
      "memory usage: 14.5+ KB\n"
     ]
    }
   ],
   "source": [
    "labels.info()\n",
    "print()\n",
    "text.info()"
   ]
  },
  {
   "cell_type": "markdown",
   "metadata": {},
   "source": [
    "Merge the two dataframes on \"title\" column"
   ]
  },
  {
   "cell_type": "code",
   "execution_count": 6,
   "metadata": {},
   "outputs": [
    {
     "name": "stdout",
     "output_type": "stream",
     "text": [
      "<class 'pandas.core.frame.DataFrame'>\n",
      "Int64Index: 918 entries, 0 to 917\n",
      "Data columns (total 3 columns):\n",
      " #   Column  Non-Null Count  Dtype \n",
      "---  ------  --------------  ----- \n",
      " 0   title   918 non-null    object\n",
      " 1   text    918 non-null    object\n",
      " 2   label   918 non-null    object\n",
      "dtypes: object(3)\n",
      "memory usage: 28.7+ KB\n"
     ]
    }
   ],
   "source": [
    "#merge on title using merge() method\n",
    "merge_df = text.merge(labels, on=\"title\")\n",
    "merge_df.info()"
   ]
  },
  {
   "cell_type": "code",
   "execution_count": 7,
   "metadata": {},
   "outputs": [
    {
     "data": {
      "text/html": [
       "<div>\n",
       "<style scoped>\n",
       "    .dataframe tbody tr th:only-of-type {\n",
       "        vertical-align: middle;\n",
       "    }\n",
       "\n",
       "    .dataframe tbody tr th {\n",
       "        vertical-align: top;\n",
       "    }\n",
       "\n",
       "    .dataframe thead th {\n",
       "        text-align: right;\n",
       "    }\n",
       "</style>\n",
       "<table border=\"1\" class=\"dataframe\">\n",
       "  <thead>\n",
       "    <tr style=\"text-align: right;\">\n",
       "      <th></th>\n",
       "      <th>title</th>\n",
       "      <th>text</th>\n",
       "      <th>label</th>\n",
       "    </tr>\n",
       "  </thead>\n",
       "  <tbody>\n",
       "    <tr>\n",
       "      <th>0</th>\n",
       "      <td>uksc-2009-0015-judgment-01</td>\n",
       "      <td>Hilary Term \\n[2010] UKSC 1 \\n\\nJUDGMENT \\n\\nA...</td>\n",
       "      <td>human rights</td>\n",
       "    </tr>\n",
       "    <tr>\n",
       "      <th>1</th>\n",
       "      <td>uksc-2009-0019-judgment</td>\n",
       "      <td>Michaelmas Term \\n[2009] UKSC 5 \\nOn appeal fr...</td>\n",
       "      <td>family</td>\n",
       "    </tr>\n",
       "    <tr>\n",
       "      <th>2</th>\n",
       "      <td>uksc-2009-0020-judgment</td>\n",
       "      <td>Michaelmas Term \\n[2009] UKSC 12 \\nOn appeal f...</td>\n",
       "      <td>human rights</td>\n",
       "    </tr>\n",
       "    <tr>\n",
       "      <th>3</th>\n",
       "      <td>uksc-2009-0022-judgment</td>\n",
       "      <td>Easter Term \\n[2011] UKSC 23 \\nOn appeal from:...</td>\n",
       "      <td>immigration</td>\n",
       "    </tr>\n",
       "    <tr>\n",
       "      <th>4</th>\n",
       "      <td>uksc-2009-0031-judgment</td>\n",
       "      <td>Michaelmas Term \\n[2010] UKSC 42 \\nOn appeal f...</td>\n",
       "      <td>family</td>\n",
       "    </tr>\n",
       "  </tbody>\n",
       "</table>\n",
       "</div>"
      ],
      "text/plain": [
       "                        title  \\\n",
       "0  uksc-2009-0015-judgment-01   \n",
       "1     uksc-2009-0019-judgment   \n",
       "2     uksc-2009-0020-judgment   \n",
       "3     uksc-2009-0022-judgment   \n",
       "4     uksc-2009-0031-judgment   \n",
       "\n",
       "                                                text         label  \n",
       "0  Hilary Term \\n[2010] UKSC 1 \\n\\nJUDGMENT \\n\\nA...  human rights  \n",
       "1  Michaelmas Term \\n[2009] UKSC 5 \\nOn appeal fr...        family  \n",
       "2  Michaelmas Term \\n[2009] UKSC 12 \\nOn appeal f...  human rights  \n",
       "3  Easter Term \\n[2011] UKSC 23 \\nOn appeal from:...   immigration  \n",
       "4  Michaelmas Term \\n[2010] UKSC 42 \\nOn appeal f...        family  "
      ]
     },
     "execution_count": 7,
     "metadata": {},
     "output_type": "execute_result"
    }
   ],
   "source": [
    "merge_df.head(5)"
   ]
  },
  {
   "cell_type": "code",
   "execution_count": 8,
   "metadata": {},
   "outputs": [],
   "source": [
    "#save as csv for future use\n",
    "merge_df.to_csv(\"UKSC_FINAL Labelled Judgments_918.csv\", index=False)"
   ]
  },
  {
   "cell_type": "markdown",
   "metadata": {},
   "source": [
    "There are more than 40 labels. Some of the linked areas of law are collated together. To simplify the classification process, the following steps are taken: \n",
    "\n",
    "1. The labels \"corporate\", \"intellectual property\", \"arbitration\" are collated under/replaced by label \"corporate\".\n",
    "\n",
    "\n",
    "2. The label \"fraud\" is collated under/replaced by label \"criminal\" as fraud is a criminal offence.\n",
    "\n",
    "\n",
    "3. The labels \"procedure\", \"shipping\", \"mental capacity\", \"competition\", \"equity\", \"banking\", \"civil\", \"trust\", \"damages\", \"security\", \"public\", \"jurisdiction\",\"contempt\", \"mental health\", \"legal aid\", \"consumer protection\",\"private\", \"statutory interpretation\", \"medical \", \"public health\",\"fishing\", \"communications\", \"telecom\", and \"construction\" are collated under/replaced by label \"other\". "
   ]
  },
  {
   "cell_type": "code",
   "execution_count": 8,
   "metadata": {},
   "outputs": [
    {
     "data": {
      "text/plain": [
       "criminal          100\n",
       "immigration        98\n",
       "admin              95\n",
       "other              78\n",
       "human rights       76\n",
       "corporate          70\n",
       "international      65\n",
       "tax                62\n",
       "labour             51\n",
       "contract           49\n",
       "land               47\n",
       "tort               46\n",
       "family             37\n",
       "insurance          25\n",
       "constitutional     19\n",
       "Name: label, dtype: int64"
      ]
     },
     "execution_count": 8,
     "metadata": {},
     "output_type": "execute_result"
    }
   ],
   "source": [
    "#identify labels to replace\n",
    "label_replace_corporate = ['company', 'intellectual property', 'arbitration']\n",
    "label_replace_other = [\"procedure\", \"shipping\", \"mental capacity\", \"competition\", \"equity\",\n",
    "                      \"banking\", \"civil\", \"trust\", \"damages\", \"security\", \"public\", \"jurisdiction\",\n",
    "                      \"contempt\", \"mental health\", \"legal aid\", \"consumer protection\",\n",
    "                      \"private\", \"statutory interpretation\", \"medical \", \"public health\",\n",
    "                      \"fishing\", \"communications\", \"telecom\", \"construction\"]\n",
    "label_replace_fraud = [\"fraud\"]\n",
    "\n",
    "#replace the relevant labels with \"corporate\"\n",
    "merge_df[\"label\"] = merge_df[\"label\"].apply(lambda x: \"corporate\" if x in label_replace_corporate else x)\n",
    "\n",
    "#replace the relevant labels with \"other\"\n",
    "merge_df[\"label\"] = merge_df[\"label\"].apply(lambda x: \"other\" if x in label_replace_other else x)\n",
    "\n",
    "#replace the relevant labels with \"criminal\"\n",
    "merge_df[\"label\"] = merge_df[\"label\"].apply(lambda x: \"criminal\" if x in label_replace_fraud else x)\n",
    "\n",
    "#check if it has been properly done\n",
    "counts = merge_df[\"label\"].value_counts()\n",
    "counts"
   ]
  },
  {
   "cell_type": "code",
   "execution_count": 10,
   "metadata": {},
   "outputs": [],
   "source": [
    "#save as csv for future use\n",
    "merge_df.to_csv(\"UKSC_15_FINAL Labelled Judgments_918.csv\", index=False)"
   ]
  },
  {
   "cell_type": "markdown",
   "metadata": {},
   "source": [
    "Exploratory Data Analysis"
   ]
  },
  {
   "cell_type": "code",
   "execution_count": 9,
   "metadata": {},
   "outputs": [],
   "source": [
    "df = merge_df"
   ]
  },
  {
   "cell_type": "code",
   "execution_count": 10,
   "metadata": {},
   "outputs": [
    {
     "name": "stdout",
     "output_type": "stream",
     "text": [
      "The dataset has 918 rows and 3 columns\n"
     ]
    }
   ],
   "source": [
    "df.shape\n",
    "print(\"The dataset has\", df.shape[0], \"rows and\", df.shape[1], \"columns\")"
   ]
  },
  {
   "cell_type": "code",
   "execution_count": 11,
   "metadata": {
    "scrolled": true
   },
   "outputs": [
    {
     "name": "stdout",
     "output_type": "stream",
     "text": [
      "criminal          100\n",
      "immigration        98\n",
      "admin              95\n",
      "other              78\n",
      "human rights       76\n",
      "corporate          70\n",
      "international      65\n",
      "tax                62\n",
      "labour             51\n",
      "contract           49\n",
      "land               47\n",
      "tort               46\n",
      "family             37\n",
      "insurance          25\n",
      "constitutional     19\n",
      "Name: label, dtype: int64\n",
      "\n"
     ]
    }
   ],
   "source": [
    "#assess the no. of labels available \n",
    "counts = df[\"label\"].value_counts()\n",
    "print(counts)\n",
    "print()"
   ]
  },
  {
   "cell_type": "code",
   "execution_count": 14,
   "metadata": {},
   "outputs": [
    {
     "name": "stdout",
     "output_type": "stream",
     "text": [
      "There are 15 unique labels in the dataset\n"
     ]
    }
   ],
   "source": [
    "#verify how many labels are available\n",
    "unique = df[\"label\"].nunique()\n",
    "\n",
    "print(\"There are\", unique, \"unique labels in the dataset\")"
   ]
  },
  {
   "cell_type": "markdown",
   "metadata": {},
   "source": [
    "### Selecting a Subset of Labelled Judgments\n",
    "\n",
    "Rationale: a subset of 8 areas of law, namely, criminal, immigration, human rights, corporate, international, tax, labour are selected for the following reasons: \n",
    "\n",
    "1. These areas of law involve frequent interactions between individuals, organisations, and the State.\n",
    "2. They address matters at both individual and collective levels.\n",
    "3. The other areas of law tend to apply in more individualised circumstances, and possibly in specific situations. \n",
    "4. They also, comparatively, occur or are appealed to the UKSC, less frequently. "
   ]
  },
  {
   "cell_type": "code",
   "execution_count": 12,
   "metadata": {},
   "outputs": [],
   "source": [
    "specific_labels = [\"immigration\", \"human rights\", \"criminal\", \"admin\",\n",
    "                  \"corporate\", \"international\", \"tax\", \"labour\"]\n",
    "new_df = df[df[\"label\"].isin(specific_labels)]"
   ]
  },
  {
   "cell_type": "code",
   "execution_count": 13,
   "metadata": {},
   "outputs": [
    {
     "data": {
      "text/html": [
       "<div>\n",
       "<style scoped>\n",
       "    .dataframe tbody tr th:only-of-type {\n",
       "        vertical-align: middle;\n",
       "    }\n",
       "\n",
       "    .dataframe tbody tr th {\n",
       "        vertical-align: top;\n",
       "    }\n",
       "\n",
       "    .dataframe thead th {\n",
       "        text-align: right;\n",
       "    }\n",
       "</style>\n",
       "<table border=\"1\" class=\"dataframe\">\n",
       "  <thead>\n",
       "    <tr style=\"text-align: right;\">\n",
       "      <th></th>\n",
       "      <th>title</th>\n",
       "      <th>text</th>\n",
       "      <th>label</th>\n",
       "    </tr>\n",
       "  </thead>\n",
       "  <tbody>\n",
       "    <tr>\n",
       "      <th>0</th>\n",
       "      <td>uksc-2009-0015-judgment-01</td>\n",
       "      <td>Hilary Term \\n[2010] UKSC 1 \\n\\nJUDGMENT \\n\\nA...</td>\n",
       "      <td>human rights</td>\n",
       "    </tr>\n",
       "    <tr>\n",
       "      <th>2</th>\n",
       "      <td>uksc-2009-0020-judgment</td>\n",
       "      <td>Michaelmas Term \\n[2009] UKSC 12 \\nOn appeal f...</td>\n",
       "      <td>human rights</td>\n",
       "    </tr>\n",
       "    <tr>\n",
       "      <th>3</th>\n",
       "      <td>uksc-2009-0022-judgment</td>\n",
       "      <td>Easter Term \\n[2011] UKSC 23 \\nOn appeal from:...</td>\n",
       "      <td>immigration</td>\n",
       "    </tr>\n",
       "    <tr>\n",
       "      <th>7</th>\n",
       "      <td>uksc-2009-0036-judgment</td>\n",
       "      <td>Michaelmas Term \\n[2012] UKSC 54 \\nOn appeal f...</td>\n",
       "      <td>international</td>\n",
       "    </tr>\n",
       "  </tbody>\n",
       "</table>\n",
       "</div>"
      ],
      "text/plain": [
       "                        title  \\\n",
       "0  uksc-2009-0015-judgment-01   \n",
       "2     uksc-2009-0020-judgment   \n",
       "3     uksc-2009-0022-judgment   \n",
       "7     uksc-2009-0036-judgment   \n",
       "\n",
       "                                                text          label  \n",
       "0  Hilary Term \\n[2010] UKSC 1 \\n\\nJUDGMENT \\n\\nA...   human rights  \n",
       "2  Michaelmas Term \\n[2009] UKSC 12 \\nOn appeal f...   human rights  \n",
       "3  Easter Term \\n[2011] UKSC 23 \\nOn appeal from:...    immigration  \n",
       "7  Michaelmas Term \\n[2012] UKSC 54 \\nOn appeal f...  international  "
      ]
     },
     "execution_count": 13,
     "metadata": {},
     "output_type": "execute_result"
    }
   ],
   "source": [
    "new_df.head(4)"
   ]
  },
  {
   "cell_type": "code",
   "execution_count": 14,
   "metadata": {},
   "outputs": [
    {
     "name": "stdout",
     "output_type": "stream",
     "text": [
      "<class 'pandas.core.frame.DataFrame'>\n",
      "Int64Index: 617 entries, 0 to 916\n",
      "Data columns (total 3 columns):\n",
      " #   Column  Non-Null Count  Dtype \n",
      "---  ------  --------------  ----- \n",
      " 0   title   617 non-null    object\n",
      " 1   text    617 non-null    object\n",
      " 2   label   617 non-null    object\n",
      "dtypes: object(3)\n",
      "memory usage: 19.3+ KB\n"
     ]
    }
   ],
   "source": [
    "multi_labels = new_df\n",
    "multi_labels.info()"
   ]
  },
  {
   "cell_type": "code",
   "execution_count": 15,
   "metadata": {},
   "outputs": [
    {
     "data": {
      "text/html": [
       "<div>\n",
       "<style scoped>\n",
       "    .dataframe tbody tr th:only-of-type {\n",
       "        vertical-align: middle;\n",
       "    }\n",
       "\n",
       "    .dataframe tbody tr th {\n",
       "        vertical-align: top;\n",
       "    }\n",
       "\n",
       "    .dataframe thead th {\n",
       "        text-align: right;\n",
       "    }\n",
       "</style>\n",
       "<table border=\"1\" class=\"dataframe\">\n",
       "  <thead>\n",
       "    <tr style=\"text-align: right;\">\n",
       "      <th></th>\n",
       "      <th>title</th>\n",
       "      <th>text</th>\n",
       "      <th>label</th>\n",
       "    </tr>\n",
       "  </thead>\n",
       "  <tbody>\n",
       "    <tr>\n",
       "      <th>0</th>\n",
       "      <td>uksc-2009-0015-judgment-01</td>\n",
       "      <td>Hilary Term \\n[2010] UKSC 1 \\n\\nJUDGMENT \\n\\nA...</td>\n",
       "      <td>human rights</td>\n",
       "    </tr>\n",
       "    <tr>\n",
       "      <th>2</th>\n",
       "      <td>uksc-2009-0020-judgment</td>\n",
       "      <td>Michaelmas Term \\n[2009] UKSC 12 \\nOn appeal f...</td>\n",
       "      <td>human rights</td>\n",
       "    </tr>\n",
       "    <tr>\n",
       "      <th>3</th>\n",
       "      <td>uksc-2009-0022-judgment</td>\n",
       "      <td>Easter Term \\n[2011] UKSC 23 \\nOn appeal from:...</td>\n",
       "      <td>immigration</td>\n",
       "    </tr>\n",
       "    <tr>\n",
       "      <th>7</th>\n",
       "      <td>uksc-2009-0036-judgment</td>\n",
       "      <td>Michaelmas Term \\n[2012] UKSC 54 \\nOn appeal f...</td>\n",
       "      <td>international</td>\n",
       "    </tr>\n",
       "    <tr>\n",
       "      <th>10</th>\n",
       "      <td>uksc-2009-0042-judgment</td>\n",
       "      <td>Michaelmas Term \\n[2012] UKSC 43 \\nOn appeal f...</td>\n",
       "      <td>labour</td>\n",
       "    </tr>\n",
       "    <tr>\n",
       "      <th>...</th>\n",
       "      <td>...</td>\n",
       "      <td>...</td>\n",
       "      <td>...</td>\n",
       "    </tr>\n",
       "    <tr>\n",
       "      <th>910</th>\n",
       "      <td>uksc-2021-0195-judgment</td>\n",
       "      <td>Trinity Term \\n[2023] UKSC 23 \\nOn appeal from...</td>\n",
       "      <td>human rights</td>\n",
       "    </tr>\n",
       "    <tr>\n",
       "      <th>912</th>\n",
       "      <td>uksc-2021-0216-judgment</td>\n",
       "      <td>Hilary Term \\n[2023] UKSC 12 \\nOn appeal from:...</td>\n",
       "      <td>tax</td>\n",
       "    </tr>\n",
       "    <tr>\n",
       "      <th>913</th>\n",
       "      <td>uksc-2022-0052-judgment</td>\n",
       "      <td>Hilary Term \\n[2023] UKSC 13 \\nOn appeal from:...</td>\n",
       "      <td>admin</td>\n",
       "    </tr>\n",
       "    <tr>\n",
       "      <th>914</th>\n",
       "      <td>uksc-2022-0056-judgment</td>\n",
       "      <td>Easter Term \\n[2023] UKSC 14 \\nOn appeal from:...</td>\n",
       "      <td>human rights</td>\n",
       "    </tr>\n",
       "    <tr>\n",
       "      <th>916</th>\n",
       "      <td>uksc-2022-0089-0093-judgment</td>\n",
       "      <td>Hilary Term \\n[2023] UKSC 5 \\nOn appeal from: ...</td>\n",
       "      <td>international</td>\n",
       "    </tr>\n",
       "  </tbody>\n",
       "</table>\n",
       "<p>617 rows × 3 columns</p>\n",
       "</div>"
      ],
      "text/plain": [
       "                            title  \\\n",
       "0      uksc-2009-0015-judgment-01   \n",
       "2         uksc-2009-0020-judgment   \n",
       "3         uksc-2009-0022-judgment   \n",
       "7         uksc-2009-0036-judgment   \n",
       "10        uksc-2009-0042-judgment   \n",
       "..                            ...   \n",
       "910       uksc-2021-0195-judgment   \n",
       "912       uksc-2021-0216-judgment   \n",
       "913       uksc-2022-0052-judgment   \n",
       "914       uksc-2022-0056-judgment   \n",
       "916  uksc-2022-0089-0093-judgment   \n",
       "\n",
       "                                                  text          label  \n",
       "0    Hilary Term \\n[2010] UKSC 1 \\n\\nJUDGMENT \\n\\nA...   human rights  \n",
       "2    Michaelmas Term \\n[2009] UKSC 12 \\nOn appeal f...   human rights  \n",
       "3    Easter Term \\n[2011] UKSC 23 \\nOn appeal from:...    immigration  \n",
       "7    Michaelmas Term \\n[2012] UKSC 54 \\nOn appeal f...  international  \n",
       "10   Michaelmas Term \\n[2012] UKSC 43 \\nOn appeal f...         labour  \n",
       "..                                                 ...            ...  \n",
       "910  Trinity Term \\n[2023] UKSC 23 \\nOn appeal from...   human rights  \n",
       "912  Hilary Term \\n[2023] UKSC 12 \\nOn appeal from:...            tax  \n",
       "913  Hilary Term \\n[2023] UKSC 13 \\nOn appeal from:...          admin  \n",
       "914  Easter Term \\n[2023] UKSC 14 \\nOn appeal from:...   human rights  \n",
       "916  Hilary Term \\n[2023] UKSC 5 \\nOn appeal from: ...  international  \n",
       "\n",
       "[617 rows x 3 columns]"
      ]
     },
     "execution_count": 15,
     "metadata": {},
     "output_type": "execute_result"
    }
   ],
   "source": [
    "multi_labels"
   ]
  },
  {
   "cell_type": "markdown",
   "metadata": {},
   "source": [
    "Evaluate Class Balance in Dataset"
   ]
  },
  {
   "cell_type": "code",
   "execution_count": 16,
   "metadata": {},
   "outputs": [
    {
     "name": "stdout",
     "output_type": "stream",
     "text": [
      "No.of Judgments labelled 'criminal'     :  100\n",
      "No.of Judgments labelled 'immigration'  :  98\n",
      "No.of Judgments labelled 'admin'        :  95\n",
      "No.of Judgments labelled 'human rights' :  76\n",
      "No.of Judgments labelled 'corporate'    :  70\n",
      "No.of Judgments labelled 'international':  65\n",
      "No.of Judgments labelled 'tax'          :  62\n",
      "No.of Judgments labelled 'labour'       :  51\n"
     ]
    }
   ],
   "source": [
    "#assess the class balance of the three labels selected\n",
    "counts = multi_labels[\"label\"].value_counts()\n",
    "\n",
    "print(\"No.of Judgments labelled 'criminal'     : \", counts[0])\n",
    "print(\"No.of Judgments labelled 'immigration'  : \", counts[1])\n",
    "print(\"No.of Judgments labelled 'admin'        : \", counts[2])\n",
    "print(\"No.of Judgments labelled 'human rights' : \", counts[3])\n",
    "print(\"No.of Judgments labelled 'corporate'    : \", counts[4])\n",
    "print(\"No.of Judgments labelled 'international': \", counts[5])\n",
    "print(\"No.of Judgments labelled 'tax'          : \", counts[6])\n",
    "print(\"No.of Judgments labelled 'labour'       : \", counts[7])"
   ]
  },
  {
   "cell_type": "code",
   "execution_count": 17,
   "metadata": {},
   "outputs": [
    {
     "data": {
      "text/html": [
       "<div>\n",
       "<style scoped>\n",
       "    .dataframe tbody tr th:only-of-type {\n",
       "        vertical-align: middle;\n",
       "    }\n",
       "\n",
       "    .dataframe tbody tr th {\n",
       "        vertical-align: top;\n",
       "    }\n",
       "\n",
       "    .dataframe thead th {\n",
       "        text-align: right;\n",
       "    }\n",
       "</style>\n",
       "<table border=\"1\" class=\"dataframe\">\n",
       "  <thead>\n",
       "    <tr style=\"text-align: right;\">\n",
       "      <th></th>\n",
       "      <th>label</th>\n",
       "      <th>Count</th>\n",
       "    </tr>\n",
       "  </thead>\n",
       "  <tbody>\n",
       "    <tr>\n",
       "      <th>0</th>\n",
       "      <td>admin</td>\n",
       "      <td>95</td>\n",
       "    </tr>\n",
       "    <tr>\n",
       "      <th>1</th>\n",
       "      <td>corporate</td>\n",
       "      <td>70</td>\n",
       "    </tr>\n",
       "    <tr>\n",
       "      <th>2</th>\n",
       "      <td>criminal</td>\n",
       "      <td>100</td>\n",
       "    </tr>\n",
       "    <tr>\n",
       "      <th>3</th>\n",
       "      <td>human rights</td>\n",
       "      <td>76</td>\n",
       "    </tr>\n",
       "    <tr>\n",
       "      <th>4</th>\n",
       "      <td>immigration</td>\n",
       "      <td>98</td>\n",
       "    </tr>\n",
       "    <tr>\n",
       "      <th>5</th>\n",
       "      <td>international</td>\n",
       "      <td>65</td>\n",
       "    </tr>\n",
       "    <tr>\n",
       "      <th>6</th>\n",
       "      <td>labour</td>\n",
       "      <td>51</td>\n",
       "    </tr>\n",
       "    <tr>\n",
       "      <th>7</th>\n",
       "      <td>tax</td>\n",
       "      <td>62</td>\n",
       "    </tr>\n",
       "  </tbody>\n",
       "</table>\n",
       "</div>"
      ],
      "text/plain": [
       "           label  Count\n",
       "0          admin     95\n",
       "1      corporate     70\n",
       "2       criminal    100\n",
       "3   human rights     76\n",
       "4    immigration     98\n",
       "5  international     65\n",
       "6         labour     51\n",
       "7            tax     62"
      ]
     },
     "execution_count": 17,
     "metadata": {},
     "output_type": "execute_result"
    }
   ],
   "source": [
    "#use groupby to collate judgments based on label\n",
    "class_bal = multi_labels.groupby([\"label\"]).size()\n",
    "\n",
    "#name the column with the counts\n",
    "class_bal = class_bal.rename(\"Count\").reset_index()\n",
    "class_bal"
   ]
  },
  {
   "cell_type": "code",
   "execution_count": 22,
   "metadata": {},
   "outputs": [
    {
     "data": {
      "image/png": "[encoded data removed]",
      "text/plain": [
       "<Figure size 800x400 with 1 Axes>"
      ]
     },
     "metadata": {},
     "output_type": "display_data"
    }
   ],
   "source": [
    "#visualise class balance\n",
    "sns.set(style=\"darkgrid\")\n",
    "plt.figure(figsize=(8,4))\n",
    "\n",
    "color= sns.color_palette(\"RdYlGn\", 10)\n",
    "\n",
    "sns.barplot(x=\"label\", y=\"Count\", data=class_bal, palette=color ).set(title=\"Class Balance of Labels\")\n",
    "plt.xticks(rotation=30, ha='right')\n",
    "\n",
    "plt.xlabel(\"Label\")\n",
    "plt.ylabel(\"No.of Judgments\")\n",
    "plt.savefig(\"ClassBal_Original_8\")"
   ]
  },
  {
   "cell_type": "markdown",
   "metadata": {},
   "source": [
    "Prepare dataset for training"
   ]
  },
  {
   "cell_type": "code",
   "execution_count": 18,
   "metadata": {},
   "outputs": [
    {
     "data": {
      "text/html": [
       "<div>\n",
       "<style scoped>\n",
       "    .dataframe tbody tr th:only-of-type {\n",
       "        vertical-align: middle;\n",
       "    }\n",
       "\n",
       "    .dataframe tbody tr th {\n",
       "        vertical-align: top;\n",
       "    }\n",
       "\n",
       "    .dataframe thead th {\n",
       "        text-align: right;\n",
       "    }\n",
       "</style>\n",
       "<table border=\"1\" class=\"dataframe\">\n",
       "  <thead>\n",
       "    <tr style=\"text-align: right;\">\n",
       "      <th></th>\n",
       "      <th>text</th>\n",
       "      <th>label</th>\n",
       "    </tr>\n",
       "  </thead>\n",
       "  <tbody>\n",
       "    <tr>\n",
       "      <th>0</th>\n",
       "      <td>Hilary Term \\n[2010] UKSC 1 \\n\\nJUDGMENT \\n\\nA...</td>\n",
       "      <td>human rights</td>\n",
       "    </tr>\n",
       "    <tr>\n",
       "      <th>2</th>\n",
       "      <td>Michaelmas Term \\n[2009] UKSC 12 \\nOn appeal f...</td>\n",
       "      <td>human rights</td>\n",
       "    </tr>\n",
       "    <tr>\n",
       "      <th>3</th>\n",
       "      <td>Easter Term \\n[2011] UKSC 23 \\nOn appeal from:...</td>\n",
       "      <td>immigration</td>\n",
       "    </tr>\n",
       "    <tr>\n",
       "      <th>7</th>\n",
       "      <td>Michaelmas Term \\n[2012] UKSC 54 \\nOn appeal f...</td>\n",
       "      <td>international</td>\n",
       "    </tr>\n",
       "    <tr>\n",
       "      <th>10</th>\n",
       "      <td>Michaelmas Term \\n[2012] UKSC 43 \\nOn appeal f...</td>\n",
       "      <td>labour</td>\n",
       "    </tr>\n",
       "    <tr>\n",
       "      <th>...</th>\n",
       "      <td>...</td>\n",
       "      <td>...</td>\n",
       "    </tr>\n",
       "    <tr>\n",
       "      <th>910</th>\n",
       "      <td>Trinity Term \\n[2023] UKSC 23 \\nOn appeal from...</td>\n",
       "      <td>human rights</td>\n",
       "    </tr>\n",
       "    <tr>\n",
       "      <th>912</th>\n",
       "      <td>Hilary Term \\n[2023] UKSC 12 \\nOn appeal from:...</td>\n",
       "      <td>tax</td>\n",
       "    </tr>\n",
       "    <tr>\n",
       "      <th>913</th>\n",
       "      <td>Hilary Term \\n[2023] UKSC 13 \\nOn appeal from:...</td>\n",
       "      <td>admin</td>\n",
       "    </tr>\n",
       "    <tr>\n",
       "      <th>914</th>\n",
       "      <td>Easter Term \\n[2023] UKSC 14 \\nOn appeal from:...</td>\n",
       "      <td>human rights</td>\n",
       "    </tr>\n",
       "    <tr>\n",
       "      <th>916</th>\n",
       "      <td>Hilary Term \\n[2023] UKSC 5 \\nOn appeal from: ...</td>\n",
       "      <td>international</td>\n",
       "    </tr>\n",
       "  </tbody>\n",
       "</table>\n",
       "<p>617 rows × 2 columns</p>\n",
       "</div>"
      ],
      "text/plain": [
       "                                                  text          label\n",
       "0    Hilary Term \\n[2010] UKSC 1 \\n\\nJUDGMENT \\n\\nA...   human rights\n",
       "2    Michaelmas Term \\n[2009] UKSC 12 \\nOn appeal f...   human rights\n",
       "3    Easter Term \\n[2011] UKSC 23 \\nOn appeal from:...    immigration\n",
       "7    Michaelmas Term \\n[2012] UKSC 54 \\nOn appeal f...  international\n",
       "10   Michaelmas Term \\n[2012] UKSC 43 \\nOn appeal f...         labour\n",
       "..                                                 ...            ...\n",
       "910  Trinity Term \\n[2023] UKSC 23 \\nOn appeal from...   human rights\n",
       "912  Hilary Term \\n[2023] UKSC 12 \\nOn appeal from:...            tax\n",
       "913  Hilary Term \\n[2023] UKSC 13 \\nOn appeal from:...          admin\n",
       "914  Easter Term \\n[2023] UKSC 14 \\nOn appeal from:...   human rights\n",
       "916  Hilary Term \\n[2023] UKSC 5 \\nOn appeal from: ...  international\n",
       "\n",
       "[617 rows x 2 columns]"
      ]
     },
     "execution_count": 18,
     "metadata": {},
     "output_type": "execute_result"
    }
   ],
   "source": [
    "#drop title column\n",
    "multi_label_final = multi_labels.drop(columns=[\"title\"])\n",
    "multi_label_final"
   ]
  },
  {
   "cell_type": "markdown",
   "metadata": {},
   "source": [
    "Splitting the data to training and test sets"
   ]
  },
  {
   "cell_type": "code",
   "execution_count": 19,
   "metadata": {},
   "outputs": [
    {
     "name": "stdout",
     "output_type": "stream",
     "text": [
      "Size of Training samples:  493\n",
      "Size of Test samples    :  124\n",
      "\n"
     ]
    }
   ],
   "source": [
    "#training set: 80% of the samples\n",
    "#test set: 20% of the samples\n",
    "#this is so that the test set can be kept separate only to evaluate performance\n",
    "from sklearn.model_selection import train_test_split\n",
    "\n",
    "x = multi_label_final.drop(\"label\", axis=1)\n",
    "y = multi_label_final[\"label\"]\n",
    "\n",
    "training_data, test_data = train_test_split(multi_label_final, test_size=0.2, stratify=y, random_state=42)\n",
    "\n",
    "#check size of each set\n",
    "print(\"Size of Training samples: \", len(training_data))\n",
    "print(\"Size of Test samples    : \", len(test_data))\n",
    "print()\n",
    "\n",
    "#check class distribution across both sets\n",
    "train_count = training_data[\"label\"].value_counts()\n",
    "test_count = test_data[\"label\"].value_counts()"
   ]
  },
  {
   "cell_type": "code",
   "execution_count": 25,
   "metadata": {},
   "outputs": [
    {
     "name": "stdout",
     "output_type": "stream",
     "text": [
      "The Number of classes in in Training Samples are:\n",
      "criminal         80\n",
      "immigration      78\n",
      "admin            76\n",
      "human rights     61\n",
      "corporate        56\n",
      "international    52\n",
      "tax              49\n",
      "labour           41\n",
      "Name: label, dtype: int64\n"
     ]
    }
   ],
   "source": [
    "print(\"The Number of classes in in Training Samples are:\")\n",
    "print(train_count)"
   ]
  },
  {
   "cell_type": "code",
   "execution_count": 26,
   "metadata": {},
   "outputs": [
    {
     "name": "stdout",
     "output_type": "stream",
     "text": [
      "The Number of classes in in Test Samples are:\n",
      "immigration      20\n",
      "criminal         20\n",
      "admin            19\n",
      "human rights     15\n",
      "corporate        14\n",
      "international    13\n",
      "tax              13\n",
      "labour           10\n",
      "Name: label, dtype: int64\n"
     ]
    }
   ],
   "source": [
    "print(\"The Number of classes in in Test Samples are:\")\n",
    "print(test_count)"
   ]
  },
  {
   "cell_type": "code",
   "execution_count": 27,
   "metadata": {},
   "outputs": [
    {
     "name": "stdout",
     "output_type": "stream",
     "text": [
      "Data types in Training set :\n",
      " text     string\n",
      "label    object\n",
      "dtype: object\n",
      "\n",
      "Data types in Test set :\n",
      " text     string\n",
      "label    object\n",
      "dtype: object\n"
     ]
    }
   ],
   "source": [
    "#convert object type to string for preprocessing\n",
    "training_data = training_data.astype({\"text\":\"string\"})\n",
    "test_data = test_data.astype({\"text\":\"string\"})\n",
    "\n",
    "#check data types\n",
    "print(\"Data types in Training set :\\n\", training_data.dtypes)\n",
    "print()\n",
    "print(\"Data types in Test set :\\n\", test_data.dtypes)"
   ]
  },
  {
   "cell_type": "code",
   "execution_count": 28,
   "metadata": {},
   "outputs": [
    {
     "name": "stdout",
     "output_type": "stream",
     "text": [
      "Missing data in Training Set: \n",
      " text     0\n",
      "label    0\n",
      "dtype: int64\n",
      "\n",
      "Missing data in Test Set: \n",
      " text     0\n",
      "label    0\n",
      "dtype: int64\n"
     ]
    }
   ],
   "source": [
    "#check for missing data\n",
    "print(\"Missing data in Training Set: \\n\", training_data.isna().sum())\n",
    "print()\n",
    "print(\"Missing data in Test Set: \\n\", test_data.isna().sum())"
   ]
  },
  {
   "cell_type": "markdown",
   "metadata": {},
   "source": [
    "Now that the training and test samples are prepared, the two samples need to be tokenised. "
   ]
  },
  {
   "cell_type": "code",
   "execution_count": 21,
   "metadata": {},
   "outputs": [
    {
     "name": "stdout",
     "output_type": "stream",
     "text": [
      "No.of judgments in Training set:  493\n",
      "No.of labels in Training set:  493\n",
      "No.of judgments in Test set:  124\n",
      "No.of labels in Training set:  124\n"
     ]
    }
   ],
   "source": [
    "#in order to tokenise:\n",
    "\n",
    "#create a list of articles + labels for both training and test samples\n",
    "training_text = training_data[\"text\"].tolist()\n",
    "training_label = training_data[\"label\"].tolist()\n",
    "\n",
    "test_text = test_data[\"text\"].tolist()\n",
    "test_label = test_data[\"label\"].tolist()\n",
    "\n",
    "#confirm the same no.of articles and labels in both samples\n",
    "print(\"No.of judgments in Training set: \", len(training_text))\n",
    "print(\"No.of labels in Training set: \", len(training_label))\n",
    "print(\"No.of judgments in Test set: \", len(test_text))\n",
    "print(\"No.of labels in Training set: \", len(test_label))"
   ]
  },
  {
   "cell_type": "code",
   "execution_count": 22,
   "metadata": {},
   "outputs": [
    {
     "name": "stdout",
     "output_type": "stream",
     "text": [
      "Total no. of training samples:  493\n",
      "Total no. of training labels:  493\n",
      "Total no. of test samples:  124\n",
      "Total no. of test labels:  124\n"
     ]
    }
   ],
   "source": [
    "#tokenize each article to its lowercase words\n",
    "\n",
    "training_tokens = []\n",
    "training_label_final = []\n",
    "test_tokens = []\n",
    "test_label_final = []\n",
    "\n",
    "for i in range(len(training_text)):\n",
    "    try: \n",
    "        tokens = word_tokenize(training_text[i].lower()) #tokenise+lowercase\n",
    "        training_tokens.append(tokens)\n",
    "        training_label_final.append(training_label[i])\n",
    "    except:\n",
    "        pass\n",
    "\n",
    "for x in range(len(test_text)):\n",
    "    try: \n",
    "        tokens = word_tokenize(test_text[x].lower()) #tokenise+lowercase\n",
    "        test_tokens.append(tokens)\n",
    "        test_label_final.append(test_label[x])\n",
    "    except:\n",
    "        pass\n",
    "\n",
    "#confirm the same no.of articles and labels in both samples\n",
    "print(\"Total no. of training samples: \", len(training_tokens))\n",
    "print(\"Total no. of training labels: \", len(training_label_final))\n",
    "print(\"Total no. of test samples: \", len(test_tokens))\n",
    "print(\"Total no. of test labels: \", len(test_label_final))"
   ]
  },
  {
   "cell_type": "code",
   "execution_count": null,
   "metadata": {},
   "outputs": [],
   "source": [
    "#print(\"Training sample 1: \", training_tokens[0])"
   ]
  },
  {
   "cell_type": "code",
   "execution_count": 24,
   "metadata": {},
   "outputs": [
    {
     "name": "stdout",
     "output_type": "stream",
     "text": [
      "Total no. of training samples:  493\n",
      "Total no. of training labels:  493\n",
      "Total no. of test samples:  124\n",
      "Total no. of test labels:  124\n"
     ]
    }
   ],
   "source": [
    "#remove stopwords and punctuation\n",
    "\n",
    "pTraining_articles = training_tokens\n",
    "pTraining_label = training_label_final\n",
    "pTest_articles = test_tokens\n",
    "pTest_label = test_label_final\n",
    "\n",
    "stopwords_english = stopwords.words('english') # Load the stop words list for English in variable\n",
    "\n",
    "for i in range(len(pTraining_articles)):\n",
    "    new_tokens = []\n",
    "    for word in pTraining_articles[i]:\n",
    "        word = word.replace(\"-\", \"\") #remove hyphens\n",
    "        word = word.replace(\".\", \"\") #remove dots to normalise abbreiviations\n",
    "        #select only tokens with letters a to z\n",
    "        regex_check = re.match(\"[a-z]+\", word)\n",
    "        if (regex_check!=None):\n",
    "            if((regex_check.group()==word) and (word not in stopwords_english)): # Check regex and stopwords\n",
    "                new_tokens.append(word)\n",
    "    pTraining_articles[i] = new_tokens\n",
    "\n",
    "for x in range(len(pTest_articles)):\n",
    "    new_tokens = []\n",
    "    for word in pTest_articles[x]:\n",
    "        word = word.replace(\"-\", \"\") #remove hyphens\n",
    "        word = word.replace(\".\", \"\") #remove dots to normalise abbreiviations\n",
    "        #select only tokens with letters a to z\n",
    "        regex_check = re.match(\"[a-z]+\", word)\n",
    "        if (regex_check!=None):\n",
    "            if((regex_check.group()==word) and (word not in stopwords_english)): # Check regex and stopwords\n",
    "                new_tokens.append(word)\n",
    "    pTest_articles[x] = new_tokens\n",
    "    \n",
    "print(\"Total no. of training samples: \", len(pTraining_articles))\n",
    "print(\"Total no. of training labels: \", len(pTraining_label))\n",
    "print(\"Total no. of test samples: \", len(pTest_articles))\n",
    "print(\"Total no. of test labels: \", len(pTest_label))\n",
    "\n",
    "#https://www.freecodecamp.org/news/list-index-out-of-range-python-error-solved/\n",
    "#citation for else: i +=1"
   ]
  },
  {
   "cell_type": "code",
   "execution_count": null,
   "metadata": {},
   "outputs": [],
   "source": [
    "#print(\"Training sample 1 [lowercase,no symbols,no numbers,no punctuation]: \\n \", pTraining_articles[0])"
   ]
  },
  {
   "cell_type": "code",
   "execution_count": 26,
   "metadata": {},
   "outputs": [
    {
     "name": "stdout",
     "output_type": "stream",
     "text": [
      "Snippet of cleaned training data: \n",
      "                                              alltext   label\n",
      "0  court ordered one shall publish reveal name ad...   admin\n",
      "1  hilary term uksc appeal ewca civ judgment dunc...  labour\n",
      "2  hilary term uksc appeal ewca civ judgment morg...   admin\n",
      "3  trinity term uksc appeal ewca civ judgment hay...  labour\n",
      "4  trinity term uksc appeal ewca civ judgment r a...   admin\n",
      "\n",
      "Snippet of cleaned test data: \n",
      "                                              alltext          label\n",
      "0  easter term uksc appeal ewca civ judgment mini...  international\n",
      "1  court ordered one shall publish reveal names a...   human rights\n",
      "2  hilary term uksc appeal ewca civ judgment r ap...   human rights\n",
      "3  trinity term uksc appeal csih judgment commiss...            tax\n",
      "4  hilary term uksc appeal csih judgment kennedy ...         labour\n"
     ]
    }
   ],
   "source": [
    "pp_training_text = pTraining_articles\n",
    "pp_test_text = pTest_articles\n",
    "\n",
    "training_label_final = pTraining_label\n",
    "test_label_final = pTest_label\n",
    "\n",
    "#save training and test data as dataframes\n",
    "\n",
    "#create two dataframes\n",
    "clean_training_data = pd.DataFrame(columns=[\"alltext\",\"label\"])\n",
    "clean_test_data = pd.DataFrame(columns=[\"alltext\", \"label\"])\n",
    "\n",
    "#loop text and labels into each dataframe\n",
    "for i in range(len(training_label_final)):\n",
    "    clean_training_data.loc[i,\"alltext\"] = pp_training_text[i]\n",
    "    clean_training_data.loc[i,\"label\"] = training_label_final[i]\n",
    "    \n",
    "for i in range(len(test_label_final)):\n",
    "    clean_test_data.loc[i, \"alltext\"] = pp_test_text[i]\n",
    "    clean_test_data.loc[i,\"label\"] = test_label_final[i]\n",
    "\n",
    "#convert list of strings using .join\n",
    "clean_training_data[\"alltext\"] = clean_training_data[\"alltext\"].apply(\" \".join)\n",
    "clean_test_data[\"alltext\"] = clean_test_data[\"alltext\"].apply(\" \".join)\n",
    "\n",
    "print(\"Snippet of cleaned training data: \\n\", clean_training_data.head())\n",
    "print()\n",
    "print(\"Snippet of cleaned test data: \\n\", clean_test_data.head())"
   ]
  },
  {
   "cell_type": "code",
   "execution_count": 27,
   "metadata": {},
   "outputs": [
    {
     "name": "stdout",
     "output_type": "stream",
     "text": [
      "Samples in Training Set:  493\n",
      "Labels in Training Set:  493\n",
      "Samples in Test Set:  124\n",
      "Labels in Test Set:  124\n"
     ]
    }
   ],
   "source": [
    "#remove texts that are less than 50 characters long to remove noise (as it would not add much to the learning process)\n",
    "#should remove texts that are empty as well.\n",
    "clean_training_data.drop(clean_training_data[clean_training_data.alltext.str.len() < 50].index, inplace=True)\n",
    "clean_test_data.drop(clean_test_data[clean_test_data.alltext.str.len() < 50].index, inplace=True)\n",
    "\n",
    "\n",
    "#reduce the no.of words to be considered for each text to 200 (for faster performance)\n",
    "def truncate_text_to_max_words(text,max_words): # Keep only the first max_words of each text\n",
    "    text = text.split(maxsplit=max_words)\n",
    "    text = ' '.join(text[:max_words])\n",
    "    return text\n",
    "\n",
    "max_words = 70000 # Set the maximum number of words to be considered for each document \n",
    "\n",
    "# Truncate text to first 70000 words\n",
    "clean_training_data['alltext'] = clean_training_data['alltext'].apply(truncate_text_to_max_words,args=(max_words,))\n",
    "clean_test_data['alltext'] = clean_test_data['alltext'].apply(truncate_text_to_max_words,args=(max_words,))\n",
    "\n",
    "print(\"Samples in Training Set: \", len(clean_training_data[\"alltext\"]))\n",
    "print(\"Labels in Training Set: \", len(clean_training_data[\"label\"]))\n",
    "print(\"Samples in Test Set: \", len(clean_test_data[\"alltext\"]))\n",
    "print(\"Labels in Test Set: \", len(clean_test_data[\"label\"]))"
   ]
  },
  {
   "cell_type": "code",
   "execution_count": 28,
   "metadata": {},
   "outputs": [],
   "source": [
    "final_training = clean_training_data\n",
    "final_test = clean_test_data"
   ]
  },
  {
   "cell_type": "code",
   "execution_count": 29,
   "metadata": {},
   "outputs": [
    {
     "name": "stdout",
     "output_type": "stream",
     "text": [
      "Samples in Training Set:  493\n",
      "Labels in Training Set:  493\n",
      "Samples in Test Set:  124\n",
      "Labels in Test Set:  124\n"
     ]
    }
   ],
   "source": [
    "#convert training and test texts to list\n",
    "training_text_final = final_training[\"alltext\"].tolist()\n",
    "training_label_final = final_training[\"label\"].tolist()\n",
    "\n",
    "test_text_final = final_test[\"alltext\"].tolist()\n",
    "test_label_final = final_test[\"label\"].tolist()\n",
    "\n",
    "print(\"Samples in Training Set: \", len(training_text_final))\n",
    "print(\"Labels in Training Set: \", len(training_label_final))\n",
    "print(\"Samples in Test Set: \", len(test_text_final))\n",
    "print(\"Labels in Test Set: \", len(test_label_final))"
   ]
  },
  {
   "cell_type": "markdown",
   "metadata": {},
   "source": [
    "### Rebalance Classes"
   ]
  },
  {
   "cell_type": "markdown",
   "metadata": {},
   "source": [
    "Now that the training and test samples have been preprocessed and cleaned, it is necessary to evaluate class balance."
   ]
  },
  {
   "cell_type": "code",
   "execution_count": 30,
   "metadata": {},
   "outputs": [
    {
     "name": "stdout",
     "output_type": "stream",
     "text": [
      "The Number of training classes are:\n",
      "criminal         80\n",
      "immigration      78\n",
      "admin            76\n",
      "human rights     61\n",
      "corporate        56\n",
      "international    52\n",
      "tax              49\n",
      "labour           41\n",
      "Name: label, dtype: int64\n"
     ]
    }
   ],
   "source": [
    "#check the class balance\n",
    "print(\"The Number of training classes are:\")\n",
    "print(clean_training_data['label'].value_counts())"
   ]
  },
  {
   "cell_type": "code",
   "execution_count": 31,
   "metadata": {},
   "outputs": [],
   "source": [
    "#there is a clear imbalance of classes\n",
    "#to rebalance classes, prepare each class as follows: \n",
    "\n",
    "df_majority_crim = clean_training_data[clean_training_data['label']=='criminal']\n",
    "\n",
    "df_minority_imm = clean_training_data[clean_training_data['label']=='immigration']\n",
    "df_minority_admin = clean_training_data[clean_training_data['label']=='admin']\n",
    "df_minority_hr =clean_training_data[clean_training_data['label']=='human rights']\n",
    "df_minority_corp = clean_training_data[clean_training_data['label']=='corporate']\n",
    "df_minority_intl = clean_training_data[clean_training_data['label']=='international']\n",
    "df_minority_tax = clean_training_data[clean_training_data['label']=='tax']\n",
    "df_minority_labour = clean_training_data[clean_training_data['label']=='labour']"
   ]
  },
  {
   "cell_type": "code",
   "execution_count": 32,
   "metadata": {},
   "outputs": [
    {
     "ename": "SyntaxError",
     "evalue": "invalid syntax (<ipython-input-32-4f37902350c4>, line 2)",
     "output_type": "error",
     "traceback": [
      "\u001b[0;36m  File \u001b[0;32m\"<ipython-input-32-4f37902350c4>\"\u001b[0;36m, line \u001b[0;32m2\u001b[0m\n\u001b[0;31m    df_minority_upsampled_admin = resample(df_minority_admin, , replace=True, n_samples=80)\u001b[0m\n\u001b[0m                                                              ^\u001b[0m\n\u001b[0;31mSyntaxError\u001b[0m\u001b[0;31m:\u001b[0m invalid syntax\n"
     ]
    }
   ],
   "source": [
    "df_minority_upsampled_imm = resample(df_minority_imm, replace=True, n_samples=80)\n",
    "df_minority_upsampled_admin = resample(df_minority_admin, , replace=True, n_samples=80)\n",
    "df_minority_upsampled_hr = resample(df_minority_hr, replace=True, n_samples=80)\n",
    "df_minority_upsampled_corp = resample(df_minority_corp, replace=True, n_samples=80)\n",
    "df_minority_upsampled_intl = resample(df_minority_intl, replace=True, n_samples=80)\n",
    "df_minority_upsampled_tax = resample(df_minority_tax, replace=True, n_samples=80)\n",
    "df_minority_upsampled_labour = resample(df_minority_labour, replace=True, n_samples=80)\n",
    "\n",
    "#https://stackoverflow.com/questions/52735334/python-pandas-resample-dataset-to-have-balanced-classes"
   ]
  },
  {
   "cell_type": "code",
   "execution_count": null,
   "metadata": {},
   "outputs": [],
   "source": [
    "#code to get minority classes upsamplped\n",
    "df_upsampled = pd.concat([df_majority_crim, df_minority_upsampled_hr,df_minority_upsampled_imm, \n",
    "                          df_minority_upsampled_admin, df_minority_upsampled_corp, df_minority_upsampled_intl, \n",
    "                          df_minority_upsampled_tax, df_minority_upsampled_labour])\n",
    "\n",
    "#ensure that the classes are now balanced\n",
    "print(\"The Number of classes are:\")\n",
    "print(df_upsampled['label'].value_counts())"
   ]
  },
  {
   "cell_type": "code",
   "execution_count": null,
   "metadata": {},
   "outputs": [],
   "source": [
    "train = df_upsampled"
   ]
  },
  {
   "cell_type": "code",
   "execution_count": 44,
   "metadata": {},
   "outputs": [
    {
     "name": "stdout",
     "output_type": "stream",
     "text": [
      "640\n",
      "640\n",
      "124\n",
      "124\n"
     ]
    }
   ],
   "source": [
    "train_text = train[\"alltext\"].tolist()\n",
    "train_label = train[\"label\"].tolist()\n",
    "\n",
    "test_text = clean_test_data[\"alltext\"].tolist()\n",
    "test_label = clean_test_data[\"label\"].tolist()\n",
    "\n",
    "# Check lengths\n",
    "print(len(train_text))\n",
    "print(len(train_label))\n",
    "\n",
    "print(len(test_text))\n",
    "print(len(test_label))"
   ]
  },
  {
   "cell_type": "code",
   "execution_count": 45,
   "metadata": {},
   "outputs": [
    {
     "data": {
      "text/plain": [
       "criminal         80\n",
       "human rights     80\n",
       "immigration      80\n",
       "admin            80\n",
       "corporate        80\n",
       "international    80\n",
       "tax              80\n",
       "labour           80\n",
       "dtype: int64"
      ]
     },
     "execution_count": 45,
     "metadata": {},
     "output_type": "execute_result"
    }
   ],
   "source": [
    "pd.value_counts(np.array(train_label))"
   ]
  },
  {
   "cell_type": "code",
   "execution_count": 46,
   "metadata": {},
   "outputs": [],
   "source": [
    "###create training and test dataframes\n",
    "final_training = pd.DataFrame({\"training_text\": train_text, \"training_label\": train_label})"
   ]
  },
  {
   "cell_type": "code",
   "execution_count": 47,
   "metadata": {},
   "outputs": [
    {
     "name": "stdout",
     "output_type": "stream",
     "text": [
      "<class 'pandas.core.frame.DataFrame'>\n",
      "RangeIndex: 640 entries, 0 to 639\n",
      "Data columns (total 2 columns):\n",
      " #   Column          Non-Null Count  Dtype \n",
      "---  ------          --------------  ----- \n",
      " 0   training_text   640 non-null    object\n",
      " 1   training_label  640 non-null    object\n",
      "dtypes: object(2)\n",
      "memory usage: 10.1+ KB\n"
     ]
    }
   ],
   "source": [
    "final_training.info()"
   ]
  },
  {
   "cell_type": "code",
   "execution_count": 49,
   "metadata": {},
   "outputs": [],
   "source": [
    "#save df for future use\n",
    "final_training.to_csv(\"UKSC_training_data_NN_8labels.csv\", index=False)"
   ]
  },
  {
   "cell_type": "markdown",
   "metadata": {},
   "source": [
    "### Implementing Traditional Classifiers"
   ]
  },
  {
   "cell_type": "code",
   "execution_count": 62,
   "metadata": {},
   "outputs": [
    {
     "name": "stdout",
     "output_type": "stream",
     "text": [
      "Predicted: ['international', 'human rights', 'human rights', 'tax', 'human rights', 'human rights', 'immigration', 'criminal', 'labour', 'criminal']\n",
      "Ground truth: ['international', 'human rights', 'human rights', 'tax', 'labour', 'admin', 'immigration', 'criminal', 'labour', 'admin']\n"
     ]
    }
   ],
   "source": [
    "#NAIVE BAYES\n",
    "#text classification using a Multinomial Naive Bayes\n",
    "\n",
    "from sklearn.feature_extraction.text import TfidfVectorizer\n",
    "from sklearn.naive_bayes import MultinomialNB\n",
    "from sklearn.pipeline import make_pipeline\n",
    "\n",
    "# Build the Naive Bayes model by setting a pipeline where the input is first converted\n",
    "# to TF-IDF vectors and then a Multinomial Naive Bayes is used\n",
    "model1_nb = make_pipeline(TfidfVectorizer(), MultinomialNB())\n",
    "model1_nb.fit(train_text, train_label) # Train the model on the training data\n",
    "\n",
    "predicted_categories1_nb = model1_nb.predict(test_text) # Predict the categories of the test data\n",
    "print(\"Predicted:\",predicted_categories1_nb.tolist()[0:10]) # Print the first 10 predictions\n",
    "print(\"Ground truth:\",test_label[0:10]) # Print the first 10 ground truth values"
   ]
  },
  {
   "cell_type": "code",
   "execution_count": 65,
   "metadata": {},
   "outputs": [
    {
     "data": {
      "image/png": "[encoded data removed]",
      "text/plain": [
       "<Figure size 432x288 with 2 Axes>"
      ]
     },
     "metadata": {},
     "output_type": "display_data"
    },
    {
     "name": "stdout",
     "output_type": "stream",
     "text": [
      "Accuracy:\t0.701613\n",
      "F1-score:\t0.699433\n",
      "Precision:\t0.738177\n",
      "Recall:\t\t0.699220\n",
      "\n",
      "Classification performance of [Multinomial] Naives Bayes Model:\n",
      "               precision    recall  f1-score   support\n",
      "\n",
      "        admin       0.89      0.42      0.57        19\n",
      "    corporate       0.89      0.57      0.70        14\n",
      "     criminal       0.59      0.80      0.68        20\n",
      " human rights       0.56      0.67      0.61        15\n",
      "  immigration       0.73      0.95      0.83        20\n",
      "international       0.62      0.62      0.62        13\n",
      "       labour       0.80      0.80      0.80        10\n",
      "          tax       0.83      0.77      0.80        13\n",
      "\n",
      "     accuracy                           0.70       124\n",
      "    macro avg       0.74      0.70      0.70       124\n",
      " weighted avg       0.73      0.70      0.70       124\n",
      "\n"
     ]
    }
   ],
   "source": [
    "# Plot the confusion matrix for model 1: Multinomial Naive Bayes classifier\n",
    "mat1_nb = confusion_matrix(test_label, predicted_categories1_nb)\n",
    "sns.heatmap(mat1_nb.T, square = True, annot=True, fmt = \"d\")\n",
    "plt.xlabel(\"True label\")\n",
    "plt.ylabel(\"Predicted label\")\n",
    "plt.title(\"Naive Bayes [Multinomial]: 8-class Classification\")\n",
    "plt.savefig(\"NB8_Multinomial_Performance\")\n",
    "plt.show()\n",
    "\n",
    "# Compute and print classification performance metrics\n",
    "print(\"Accuracy:\\t%f\" % accuracy_score(test_label, predicted_categories1_nb))\n",
    "print(\"F1-score:\\t%f\" % f1_score(test_label, predicted_categories1_nb, average='macro'))\n",
    "print(\"Precision:\\t%f\" % precision_score(test_label, predicted_categories1_nb, average='macro'))\n",
    "print(\"Recall:\\t\\t%f\" % recall_score(test_label, predicted_categories1_nb, average='macro'))\n",
    "print(\"\\nClassification performance of [Multinomial] Naives Bayes Model:\\n%s\" % classification_report(test_label, predicted_categories1_nb))"
   ]
  },
  {
   "cell_type": "markdown",
   "metadata": {},
   "source": [
    "### KNN CLASSIFIER"
   ]
  },
  {
   "cell_type": "code",
   "execution_count": 49,
   "metadata": {},
   "outputs": [
    {
     "name": "stdout",
     "output_type": "stream",
     "text": [
      "Predicted: ['international', 'human rights', 'admin', 'tax', 'labour', 'admin', 'immigration', 'criminal', 'labour', 'criminal']\n",
      "Ground truth: ['international', 'human rights', 'human rights', 'tax', 'labour', 'admin', 'immigration', 'criminal', 'labour', 'admin']\n"
     ]
    }
   ],
   "source": [
    "# Build the kNN model by setting a pipeline where the input is first converted\n",
    "# to TF-IDF vectors and then a kNN classifier (default parameters) is deployed\n",
    "model2_knn1 = make_pipeline(TfidfVectorizer(), KNeighborsClassifier())\n",
    "model2_knn1.fit(train_text, train_label) # Train the model on the training data\n",
    "predicted_categories2_knn1 = model2_knn1.predict(test_text) # Predict the categories of the test data\n",
    "print(\"Predicted:\",predicted_categories2_knn1.tolist()[0:10]) # Print the first 10 predictions\n",
    "print(\"Ground truth:\",test_label[0:10]) # Print the first 10 ground truth values"
   ]
  },
  {
   "cell_type": "code",
   "execution_count": 50,
   "metadata": {},
   "outputs": [
    {
     "data": {
      "image/png": "[encoded data removed]",
      "text/plain": [
       "<Figure size 432x288 with 2 Axes>"
      ]
     },
     "metadata": {},
     "output_type": "display_data"
    },
    {
     "name": "stdout",
     "output_type": "stream",
     "text": [
      "Accuracy:\t0.548387\n",
      "F1-score:\t0.538736\n",
      "Precision:\t0.535552\n",
      "Recall:\t\t0.551882\n",
      "\n",
      "Classification performance of KNN model (default):\n",
      "               precision    recall  f1-score   support\n",
      "\n",
      "        admin       0.43      0.32      0.36        19\n",
      "    corporate       0.69      0.64      0.67        14\n",
      "     criminal       0.50      0.50      0.50        20\n",
      " human rights       0.29      0.33      0.31        15\n",
      "  immigration       0.78      0.90      0.84        20\n",
      "international       0.40      0.31      0.35        13\n",
      "       labour       0.57      0.80      0.67        10\n",
      "          tax       0.62      0.62      0.62        13\n",
      "\n",
      "     accuracy                           0.55       124\n",
      "    macro avg       0.54      0.55      0.54       124\n",
      " weighted avg       0.54      0.55      0.54       124\n",
      "\n"
     ]
    }
   ],
   "source": [
    "# Plot the confusion matrix for model 2: KNN Classifier (KNN=1)\n",
    "mat2_knn1 = confusion_matrix(test_label, predicted_categories2_knn1)\n",
    "sns.heatmap(mat2_knn1.T, square = True, annot=True, fmt = \"d\")\n",
    "plt.xlabel(\"True label\")\n",
    "plt.ylabel(\"Predicted label\")\n",
    "plt.title(\"KNN: 8-class Classification\")\n",
    "\n",
    "plt.savefig(\"KNN_default_8_Performance\")\n",
    "plt.show()\n",
    "\n",
    "# Compute and print classification performance metrics\n",
    "print(\"Accuracy:\\t%f\" % accuracy_score(test_label, predicted_categories2_knn1))\n",
    "print(\"F1-score:\\t%f\" % f1_score(test_label, predicted_categories2_knn1, average='macro'))\n",
    "print(\"Precision:\\t%f\" % precision_score(test_label, predicted_categories2_knn1, average='macro'))\n",
    "print(\"Recall:\\t\\t%f\" % recall_score(test_label, predicted_categories2_knn1, average='macro'))\n",
    "print(\"\\nClassification performance of KNN model (default):\\n%s\" % classification_report(test_label, predicted_categories2_knn1))"
   ]
  },
  {
   "cell_type": "code",
   "execution_count": 66,
   "metadata": {},
   "outputs": [
    {
     "name": "stdout",
     "output_type": "stream",
     "text": [
      "k: 1 Score: 0.8203125\n",
      "k: 2 Score: 0.78125\n",
      "k: 3 Score: 0.765625\n",
      "k: 4 Score: 0.7421875\n",
      "k: 5 Score: 0.7203125\n",
      "k: 6 Score: 0.6984375\n",
      "k: 7 Score: 0.715625\n",
      "k: 8 Score: 0.709375\n",
      "k: 9 Score: 0.71875\n",
      "k: 10 Score: 0.7046875\n",
      "k: 11 Score: 0.70625\n",
      "k: 12 Score: 0.6984375\n",
      "k: 13 Score: 0.696875\n",
      "k: 14 Score: 0.6984375\n",
      "k: 15 Score: 0.696875\n",
      "k: 16 Score: 0.6921875\n",
      "k: 17 Score: 0.6984375\n",
      "k: 18 Score: 0.696875\n",
      "k: 19 Score: 0.703125\n"
     ]
    }
   ],
   "source": [
    "#selecting optimum k value\n",
    "#creating a pipeline for vectorizing the data\n",
    "vectorizer = TfidfVectorizer()\n",
    "train_text_vectorized = vectorizer.fit_transform(train_text)\n",
    "\n",
    "#originally the same pipeline was used for fitting and cross validation.\n",
    "#this resulted in identical KNN scores for increasing k values.\n",
    "#this was debugged by separating the pipeline into two: \n",
    "### 1. the data was vectorized using TfidfVectorizer()\n",
    "### 2. it was vectorized again to fit and cross-validate the KNN model.\n",
    "\n",
    "k_values = range(1, 20)\n",
    "mean_scores = []\n",
    "\n",
    "for k in k_values:\n",
    "    knn = KNeighborsClassifier(n_neighbors=k)\n",
    "    score = cross_val_score(knn, train_text_vectorized, train_label, cv=5, error_score=\"raise\")\n",
    "    print(\"k:\", k, \"Score:\", score.mean())\n",
    "    mean_scores.append(score.mean())\n",
    "    \n",
    "#code adapted from: https://www.datacamp.com/tutorial/k-nearest-neighbor-classification-scikit-learn"
   ]
  },
  {
   "cell_type": "code",
   "execution_count": 67,
   "metadata": {},
   "outputs": [
    {
     "data": {
      "image/png": "[encoded data removed]",
      "text/plain": [
       "<Figure size 432x288 with 1 Axes>"
      ]
     },
     "metadata": {},
     "output_type": "display_data"
    }
   ],
   "source": [
    "#to plot the highest performing k value\n",
    "max_score = np.argmax(mean_scores)\n",
    "high_k = k_values[max_score]\n",
    "\n",
    "sns.set(style=\"dark\")\n",
    "sns.lineplot(x=k_values, y=mean_scores, marker='o', color=\"green\")\n",
    "\n",
    "plt.axvline(x=high_k, color='blue', linestyle='--', label=f'Best k={high_k}')\n",
    "plt.legend()\n",
    "\n",
    "plt.title('KNN Performance')\n",
    "plt.xlabel('Number of Neighbors (k)')\n",
    "plt.ylabel('Mean Cross-Validation Score')\n",
    "plt.savefig('optimal_k_8_performance.png')\n",
    "\n",
    "plt.grid(True)\n",
    "plt.show()"
   ]
  },
  {
   "cell_type": "code",
   "execution_count": 68,
   "metadata": {},
   "outputs": [
    {
     "name": "stdout",
     "output_type": "stream",
     "text": [
      "Predicted: ['immigration', 'human rights', 'admin', 'tax', 'criminal', 'human rights', 'immigration', 'criminal', 'labour', 'criminal']\n",
      "Ground truth: ['international', 'human rights', 'human rights', 'tax', 'labour', 'admin', 'immigration', 'criminal', 'labour', 'admin']\n"
     ]
    }
   ],
   "source": [
    "# Build the kNN model by setting a pipeline where the input is first converted\n",
    "# to TF-IDF vectors and then a kNN classifier for k=1 is used\n",
    "model2_knn1 = make_pipeline(TfidfVectorizer(), KNeighborsClassifier(n_neighbors=1))\n",
    "model2_knn1.fit(train_text, train_label) # Train the model on the training data\n",
    "predicted_categories2_knn1 = model2_knn1.predict(test_text) # Predict the categories of the test data\n",
    "print(\"Predicted:\",predicted_categories2_knn1.tolist()[0:10]) # Print the first 10 predictions\n",
    "print(\"Ground truth:\",test_label[0:10]) # Print the first 10 ground truth values"
   ]
  },
  {
   "cell_type": "code",
   "execution_count": 69,
   "metadata": {},
   "outputs": [
    {
     "data": {
      "image/png": "[encoded data removed]",
      "text/plain": [
       "<Figure size 432x288 with 2 Axes>"
      ]
     },
     "metadata": {},
     "output_type": "display_data"
    },
    {
     "name": "stdout",
     "output_type": "stream",
     "text": [
      "Accuracy:\t0.564516\n",
      "F1-score:\t0.559508\n",
      "Precision:\t0.563897\n",
      "Recall:\t\t0.571113\n",
      "\n",
      "Classification performance of KNN model (k=1):\n",
      "               precision    recall  f1-score   support\n",
      "\n",
      "        admin       0.50      0.32      0.39        19\n",
      "    corporate       0.75      0.64      0.69        14\n",
      "     criminal       0.42      0.55      0.48        20\n",
      " human rights       0.36      0.33      0.34        15\n",
      "  immigration       0.81      0.85      0.83        20\n",
      "international       0.50      0.38      0.43        13\n",
      "       labour       0.57      0.80      0.67        10\n",
      "          tax       0.60      0.69      0.64        13\n",
      "\n",
      "     accuracy                           0.56       124\n",
      "    macro avg       0.56      0.57      0.56       124\n",
      " weighted avg       0.56      0.56      0.56       124\n",
      "\n"
     ]
    }
   ],
   "source": [
    "# Plot the confusion matrix for model 2: KNN Classifier (KNN=1)\n",
    "mat2_knn1 = confusion_matrix(test_label, predicted_categories2_knn1)\n",
    "sns.heatmap(mat2_knn1.T, square = True, annot=True, fmt = \"d\")\n",
    "plt.xlabel(\"True label\")\n",
    "plt.ylabel(\"Predicted label\")\n",
    "plt.title(\"KNN (k=1): 8-class Classification\")\n",
    "\n",
    "plt.savefig(\"KNN1_8_Performance\")\n",
    "plt.show()\n",
    "\n",
    "# Compute and print classification performance metrics\n",
    "print(\"Accuracy:\\t%f\" % accuracy_score(test_label, predicted_categories2_knn1))\n",
    "print(\"F1-score:\\t%f\" % f1_score(test_label, predicted_categories2_knn1, average='macro'))\n",
    "print(\"Precision:\\t%f\" % precision_score(test_label, predicted_categories2_knn1, average='macro'))\n",
    "print(\"Recall:\\t\\t%f\" % recall_score(test_label, predicted_categories2_knn1, average='macro'))\n",
    "print(\"\\nClassification performance of KNN model (k=1):\\n%s\" % classification_report(test_label, predicted_categories2_knn1))"
   ]
  },
  {
   "cell_type": "markdown",
   "metadata": {},
   "source": [
    "### SVM Classifier"
   ]
  },
  {
   "cell_type": "code",
   "execution_count": 70,
   "metadata": {},
   "outputs": [
    {
     "name": "stdout",
     "output_type": "stream",
     "text": [
      "Predicted: ['international', 'human rights', 'admin', 'tax', 'admin', 'human rights', 'international', 'criminal', 'labour', 'criminal']\n",
      "Ground truth: ['international', 'human rights', 'human rights', 'tax', 'labour', 'admin', 'immigration', 'criminal', 'labour', 'admin']\n"
     ]
    }
   ],
   "source": [
    "# Build the SVM model by setting a pipeline where the input is first converted\n",
    "#kernel=linear which is recommended for text classification\n",
    "model3_svm = make_pipeline(TfidfVectorizer(), svm.SVC(kernel=\"linear\"))\n",
    "\n",
    "model3_svm.fit(train_text, train_label) # Train the model on the training data\n",
    "                                                      \n",
    "predicted_categories3_svm = model3_svm.predict(test_text) # Predict the categories of the test data\n",
    "print(\"Predicted:\",predicted_categories3_svm.tolist()[0:10]) # Print the first 10 predictions\n",
    "print(\"Ground truth:\",test_label[0:10]) # Print the first 10 ground truth values"
   ]
  },
  {
   "cell_type": "code",
   "execution_count": 71,
   "metadata": {},
   "outputs": [
    {
     "data": {
      "image/png": "[encoded data removed]",
      "text/plain": [
       "<Figure size 432x288 with 2 Axes>"
      ]
     },
     "metadata": {},
     "output_type": "display_data"
    },
    {
     "name": "stdout",
     "output_type": "stream",
     "text": [
      "Accuracy:\t0.661290\n",
      "F1-score:\t0.665720\n",
      "Precision:\t0.699574\n",
      "Recall:\t\t0.656603\n",
      "\n",
      "Classification performance of SVM (kernel=linear):\n",
      "               precision    recall  f1-score   support\n",
      "\n",
      "        admin       0.60      0.63      0.62        19\n",
      "    corporate       0.71      0.86      0.77        14\n",
      "     criminal       0.62      0.80      0.70        20\n",
      " human rights       0.50      0.53      0.52        15\n",
      "  immigration       0.86      0.60      0.71        20\n",
      "international       0.50      0.54      0.52        13\n",
      "       labour       1.00      0.60      0.75        10\n",
      "          tax       0.82      0.69      0.75        13\n",
      "\n",
      "     accuracy                           0.66       124\n",
      "    macro avg       0.70      0.66      0.67       124\n",
      " weighted avg       0.69      0.66      0.66       124\n",
      "\n"
     ]
    }
   ],
   "source": [
    "#plot the confusion matrix for model 3: SVM, kernel=linear\n",
    "mat3_svm = confusion_matrix(test_label, predicted_categories3_svm)\n",
    "sns.heatmap(mat3_svm.T, square = True, annot=True, fmt = \"d\")\n",
    "plt.xlabel(\"True label\")\n",
    "plt.ylabel(\"Predicted label\")\n",
    "plt.title(\"SVM [Linear]: 8-class Classification\")\n",
    "plt.savefig(\"SVM_Linear_8_Performance\")\n",
    "plt.show()\n",
    "\n",
    "#compute and print classification performance metrics\n",
    "print(\"Accuracy:\\t%f\" % accuracy_score(test_label, predicted_categories3_svm))\n",
    "print(\"F1-score:\\t%f\" % f1_score(test_label, predicted_categories3_svm, average='macro'))\n",
    "print(\"Precision:\\t%f\" % precision_score(test_label, predicted_categories3_svm, average='macro'))\n",
    "print(\"Recall:\\t\\t%f\" % recall_score(test_label, predicted_categories3_svm, average='macro'))\n",
    "print(\"\\nClassification performance of SVM (kernel=linear):\\n%s\" % classification_report(test_label, predicted_categories3_svm))"
   ]
  },
  {
   "cell_type": "code",
   "execution_count": 72,
   "metadata": {},
   "outputs": [
    {
     "name": "stdout",
     "output_type": "stream",
     "text": [
      "Predicted: ['international', 'human rights', 'admin', 'tax', 'criminal', 'criminal', 'international', 'criminal', 'labour', 'criminal']\n",
      "Ground truth: ['international', 'human rights', 'human rights', 'tax', 'labour', 'admin', 'immigration', 'criminal', 'labour', 'admin']\n"
     ]
    }
   ],
   "source": [
    "#kernel=rbf to test non-linearity between features and class\n",
    "model3_svm2 = make_pipeline(TfidfVectorizer(), svm.SVC(kernel=\"rbf\"))\n",
    "\n",
    "model3_svm2.fit(train_text, train_label) # Train the model on the training data\n",
    "                                                      \n",
    "predicted_categories3_svm2 = model3_svm2.predict(test_text) # Predict the categories of the test data\n",
    "print(\"Predicted:\",predicted_categories3_svm2.tolist()[0:10]) # Print the first 10 predictions\n",
    "print(\"Ground truth:\",test_label[0:10]) # Print the first 10 ground truth values"
   ]
  },
  {
   "cell_type": "code",
   "execution_count": 73,
   "metadata": {},
   "outputs": [
    {
     "data": {
      "image/png": "[encoded data removed]",
      "text/plain": [
       "<Figure size 432x288 with 2 Axes>"
      ]
     },
     "metadata": {},
     "output_type": "display_data"
    },
    {
     "name": "stdout",
     "output_type": "stream",
     "text": [
      "Accuracy:\t0.661290\n",
      "F1-score:\t0.672842\n",
      "Precision:\t0.725536\n",
      "Recall:\t\t0.656603\n",
      "\n",
      "Classification performance of SVM model (kernel=rbf):\n",
      "               precision    recall  f1-score   support\n",
      "\n",
      "        admin       0.57      0.63      0.60        19\n",
      "    corporate       0.80      0.86      0.83        14\n",
      "     criminal       0.52      0.80      0.63        20\n",
      " human rights       0.57      0.53      0.55        15\n",
      "  immigration       0.92      0.60      0.73        20\n",
      "international       0.53      0.62      0.57        13\n",
      "       labour       1.00      0.60      0.75        10\n",
      "          tax       0.89      0.62      0.73        13\n",
      "\n",
      "     accuracy                           0.66       124\n",
      "    macro avg       0.73      0.66      0.67       124\n",
      " weighted avg       0.71      0.66      0.67       124\n",
      "\n"
     ]
    }
   ],
   "source": [
    "#plot the confusion matrix for model 3: SVM, kernel=rbf\n",
    "mat3_svm2 = confusion_matrix(test_label, predicted_categories3_svm2)\n",
    "sns.heatmap(mat3_svm2.T, square = True, annot=True, fmt = \"d\")\n",
    "plt.xlabel(\"True label\")\n",
    "plt.ylabel(\"Predicted label\")\n",
    "plt.title(\"SVM [RBF]: 8-class Classification\")\n",
    "\n",
    "plt.savefig(\"SVM_rbf_8_Performance\")\n",
    "plt.show()\n",
    "\n",
    "# Compute and print classification performance metrics\n",
    "print(\"Accuracy:\\t%f\" % accuracy_score(test_label, predicted_categories3_svm2))\n",
    "print(\"F1-score:\\t%f\" % f1_score(test_label, predicted_categories3_svm2, average='macro'))\n",
    "print(\"Precision:\\t%f\" % precision_score(test_label, predicted_categories3_svm2, average='macro'))\n",
    "print(\"Recall:\\t\\t%f\" % recall_score(test_label, predicted_categories3_svm2, average='macro'))\n",
    "print(\"\\nClassification performance of SVM model (kernel=rbf):\\n%s\" % classification_report(test_label, predicted_categories3_svm2))"
   ]
  },
  {
   "cell_type": "code",
   "execution_count": 74,
   "metadata": {},
   "outputs": [
    {
     "name": "stdout",
     "output_type": "stream",
     "text": [
      "Predicted: ['criminal', 'human rights', 'admin', 'tax', 'criminal', 'criminal', 'criminal', 'criminal', 'criminal', 'criminal']\n",
      "Ground truth: ['international', 'human rights', 'human rights', 'tax', 'labour', 'admin', 'immigration', 'criminal', 'labour', 'admin']\n"
     ]
    }
   ],
   "source": [
    "#kernel=poly (polynomial) to test non-linearity between features and class\n",
    "model3_svm3 = make_pipeline(TfidfVectorizer(), svm.SVC(kernel=\"poly\"))\n",
    "\n",
    "model3_svm3.fit(train_text, train_label) # Train the model on the training data\n",
    "                                                      \n",
    "predicted_categories3_svm3 = model3_svm3.predict(test_text) # Predict the categories of the test data\n",
    "print(\"Predicted:\",predicted_categories3_svm3.tolist()[0:10]) # Print the first 10 predictions\n",
    "print(\"Ground truth:\",test_label[0:10]) # Print the first 10 ground truth values"
   ]
  },
  {
   "cell_type": "code",
   "execution_count": 75,
   "metadata": {},
   "outputs": [
    {
     "data": {
      "image/png": "[encoded data removed]",
      "text/plain": [
       "<Figure size 432x288 with 2 Axes>"
      ]
     },
     "metadata": {},
     "output_type": "display_data"
    },
    {
     "name": "stdout",
     "output_type": "stream",
     "text": [
      "Accuracy:\t0.387097\n",
      "F1-score:\t0.395319\n",
      "Precision:\t0.753819\n",
      "Recall:\t\t0.356126\n",
      "\n",
      "Classification performance of SVM model (kernel=poly):\n",
      "               precision    recall  f1-score   support\n",
      "\n",
      "        admin       0.78      0.37      0.50        19\n",
      "    corporate       1.00      0.29      0.44        14\n",
      "     criminal       0.21      0.95      0.35        20\n",
      " human rights       0.67      0.13      0.22        15\n",
      "  immigration       0.88      0.35      0.50        20\n",
      "international       0.50      0.08      0.13        13\n",
      "       labour       1.00      0.30      0.46        10\n",
      "          tax       1.00      0.38      0.56        13\n",
      "\n",
      "     accuracy                           0.39       124\n",
      "    macro avg       0.75      0.36      0.40       124\n",
      " weighted avg       0.73      0.39      0.40       124\n",
      "\n"
     ]
    }
   ],
   "source": [
    "#plot the confusion matrix for model 3: SVM, kernel=\"poly\"\n",
    "mat3_svm3 = confusion_matrix(test_label, predicted_categories3_svm3)\n",
    "sns.heatmap(mat3_svm3.T, square = True, annot=True, fmt = \"d\")\n",
    "plt.xlabel(\"True label\")\n",
    "plt.ylabel(\"Predicted label\")\n",
    "plt.title(\"SVM [Polynomial]: 8-class Classification\")\n",
    "\n",
    "plt.savefig(\"SVM_poly_8_Performance\")\n",
    "plt.show()\n",
    "\n",
    "# Compute and print classification performance metrics\n",
    "print(\"Accuracy:\\t%f\" % accuracy_score(test_label, predicted_categories3_svm3))\n",
    "print(\"F1-score:\\t%f\" % f1_score(test_label, predicted_categories3_svm3, average='macro'))\n",
    "print(\"Precision:\\t%f\" % precision_score(test_label, predicted_categories3_svm3, average='macro'))\n",
    "print(\"Recall:\\t\\t%f\" % recall_score(test_label, predicted_categories3_svm3, average='macro'))\n",
    "print(\"\\nClassification performance of SVM model (kernel=poly):\\n%s\" % classification_report(test_label, predicted_categories3_svm3))"
   ]
  },
  {
   "cell_type": "code",
   "execution_count": 53,
   "metadata": {},
   "outputs": [],
   "source": [
    "#dict with hyperparameter values\n",
    "param_grid = {\n",
    "    'svc__C': [0.1, 1, 10],\n",
    "    'svc__degree': [2, 3, 4]\n",
    "}\n",
    "\n",
    "#svm with kernel=poly\n",
    "model3_svm3_poly = make_pipeline(TfidfVectorizer(), svm.SVC(kernel=\"poly\"))\n",
    "\n",
    "#grid search with cross-validation=5\n",
    "grid_search = GridSearchCV(model3_svm3_poly, param_grid, cv=5)\n",
    "grid_search.fit(train_text, train_label)\n",
    "\n",
    "best_degree = grid_search.best_params_['svc__degree']\n",
    "best_C = grid_search.best_params_['svc__C']\n",
    "\n",
    "#code guided by https://aneesha.medium.com/svm-parameter-tuning-in-scikit-learn-using-gridsearchcv-2413c02125a0"
   ]
  },
  {
   "cell_type": "code",
   "execution_count": 54,
   "metadata": {},
   "outputs": [
    {
     "name": "stdout",
     "output_type": "stream",
     "text": [
      "The best degree for SVM with Polynomial kernel:  2\n",
      "The best C for SVM with Polynomial kernel:  10\n"
     ]
    }
   ],
   "source": [
    "print(\"The best degree for SVM with Polynomial kernel: \", best_degree)\n",
    "print(\"The best C for SVM with Polynomial kernel: \", best_C)"
   ]
  },
  {
   "cell_type": "code",
   "execution_count": 55,
   "metadata": {},
   "outputs": [
    {
     "name": "stdout",
     "output_type": "stream",
     "text": [
      "Predicted: ['international', 'human rights', 'admin', 'tax', 'criminal', 'admin', 'immigration', 'criminal', 'labour', 'criminal']\n",
      "Ground truth: ['international', 'human rights', 'human rights', 'tax', 'labour', 'admin', 'immigration', 'criminal', 'labour', 'admin']\n"
     ]
    }
   ],
   "source": [
    "#kernel=poly (polynomial) to test non-linearity between features and class\n",
    "#with 4 degrees\n",
    "model3_svm3 = make_pipeline(TfidfVectorizer(), svm.SVC(kernel=\"poly\", degree=2, C=10))\n",
    "\n",
    "model3_svm3.fit(train_text, train_label) # Train the model on the training data\n",
    "                                                      \n",
    "predicted_categories3_svm3 = model3_svm3.predict(test_text) # Predict the categories of the test data\n",
    "print(\"Predicted:\",predicted_categories3_svm3.tolist()[0:10]) # Print the first 10 predictions\n",
    "print(\"Ground truth:\",test_label[0:10]) # Print the first 10 ground truth values"
   ]
  },
  {
   "cell_type": "code",
   "execution_count": 56,
   "metadata": {},
   "outputs": [
    {
     "data": {
      "image/png": "[encoded data removed]",
      "text/plain": [
       "<Figure size 432x288 with 2 Axes>"
      ]
     },
     "metadata": {},
     "output_type": "display_data"
    },
    {
     "name": "stdout",
     "output_type": "stream",
     "text": [
      "Accuracy:\t0.620968\n",
      "F1-score:\t0.635198\n",
      "Precision:\t0.726080\n",
      "Recall:\t\t0.605261\n",
      "\n",
      "Classification performance of (tuned) SVM model (kernel=poly):\n",
      "               precision    recall  f1-score   support\n",
      "\n",
      "        admin       0.42      0.68      0.52        19\n",
      "    corporate       1.00      0.71      0.83        14\n",
      "     criminal       0.49      0.85      0.62        20\n",
      " human rights       0.40      0.27      0.32        15\n",
      "  immigration       0.93      0.65      0.76        20\n",
      "international       0.70      0.54      0.61        13\n",
      "       labour       1.00      0.60      0.75        10\n",
      "          tax       0.88      0.54      0.67        13\n",
      "\n",
      "     accuracy                           0.62       124\n",
      "    macro avg       0.73      0.61      0.64       124\n",
      " weighted avg       0.70      0.62      0.63       124\n",
      "\n"
     ]
    }
   ],
   "source": [
    "#plot the confusion matrix for model 3: SVM, kernel=\"poly\"\n",
    "mat3_svm3 = confusion_matrix(test_label, predicted_categories3_svm3)\n",
    "sns.heatmap(mat3_svm3.T, square = True, annot=True, fmt = \"d\")\n",
    "plt.xlabel(\"True label\")\n",
    "plt.ylabel(\"Predicted label\")\n",
    "plt.title(\"SVM [Polynomial]: 8-class Classification\")\n",
    "\n",
    "plt.savefig(\"SVM_poly_8_tuned_Performance\")\n",
    "plt.show()\n",
    "\n",
    "# Compute and print classification performance metrics\n",
    "print(\"Accuracy:\\t%f\" % accuracy_score(test_label, predicted_categories3_svm3))\n",
    "print(\"F1-score:\\t%f\" % f1_score(test_label, predicted_categories3_svm3, average='macro'))\n",
    "print(\"Precision:\\t%f\" % precision_score(test_label, predicted_categories3_svm3, average='macro'))\n",
    "print(\"Recall:\\t\\t%f\" % recall_score(test_label, predicted_categories3_svm3, average='macro'))\n",
    "print(\"\\nClassification performance of (tuned) SVM model (kernel=poly):\\n%s\" % classification_report(test_label, predicted_categories3_svm3))"
   ]
  },
  {
   "cell_type": "markdown",
   "metadata": {},
   "source": [
    "### Decision Tree"
   ]
  },
  {
   "cell_type": "code",
   "execution_count": 76,
   "metadata": {},
   "outputs": [
    {
     "name": "stdout",
     "output_type": "stream",
     "text": [
      "Predicted: ['corporate', 'human rights', 'criminal', 'tax', 'corporate', 'corporate', 'human rights', 'criminal', 'international', 'criminal']\n",
      "Ground truth: ['international', 'human rights', 'human rights', 'tax', 'labour', 'admin', 'immigration', 'criminal', 'labour', 'admin']\n"
     ]
    }
   ],
   "source": [
    "#build the DCT model by setting a pipeline where the input is first converted to tfid\n",
    "#model built on default parameters, except criterion=\"entropy\"\n",
    "model6_dt = make_pipeline(TfidfVectorizer(), DecisionTreeClassifier(criterion=\"entropy\"))\n",
    "\n",
    "model6_dt.fit(train_text, train_label) # Train the model on the training data\n",
    "                                                      \n",
    "predicted_categories6_dt = model6_dt.predict(test_text) # Predict the categories of the test data\n",
    "print(\"Predicted:\",predicted_categories6_dt.tolist()[0:10]) # Print the first 10 predictions\n",
    "print(\"Ground truth:\",test_label[0:10]) # Print the first 10 ground truth values"
   ]
  },
  {
   "cell_type": "code",
   "execution_count": 77,
   "metadata": {},
   "outputs": [
    {
     "data": {
      "image/png": "[encoded data removed]",
      "text/plain": [
       "<Figure size 432x288 with 2 Axes>"
      ]
     },
     "metadata": {},
     "output_type": "display_data"
    },
    {
     "name": "stdout",
     "output_type": "stream",
     "text": [
      "Accuracy:\t0.475806\n",
      "F1-score:\t0.473583\n",
      "Precision:\t0.495147\n",
      "Recall:\t\t0.463941\n",
      "\n",
      "Classification performance of Decision Tree:\n",
      "               precision    recall  f1-score   support\n",
      "\n",
      "        admin       0.57      0.42      0.48        19\n",
      "    corporate       0.28      0.36      0.31        14\n",
      "     criminal       0.42      0.55      0.48        20\n",
      " human rights       0.42      0.33      0.37        15\n",
      "  immigration       0.72      0.65      0.68        20\n",
      "international       0.25      0.31      0.28        13\n",
      "       labour       0.40      0.40      0.40        10\n",
      "          tax       0.90      0.69      0.78        13\n",
      "\n",
      "     accuracy                           0.48       124\n",
      "    macro avg       0.50      0.46      0.47       124\n",
      " weighted avg       0.51      0.48      0.49       124\n",
      "\n"
     ]
    }
   ],
   "source": [
    "# Plot the confusion matrix for model 6: Decision Tree\n",
    "model6_dt = confusion_matrix(test_label, predicted_categories6_dt)\n",
    "sns.heatmap(model6_dt.T, square = True, annot=True, fmt = \"d\")\n",
    "plt.xlabel(\"True label\")\n",
    "plt.ylabel(\"Predicted label\")\n",
    "plt.title(\"Decision Tree [Entropy]: 8-class Classification\")\n",
    "\n",
    "plt.savefig(\"4 DecisionT_EntropyDefault_8_Performance\")\n",
    "plt.show()\n",
    "\n",
    "# Compute and print classification performance metrics\n",
    "print(\"Accuracy:\\t%f\" % accuracy_score(test_label, predicted_categories6_dt))\n",
    "print(\"F1-score:\\t%f\" % f1_score(test_label, predicted_categories6_dt, average='macro'))\n",
    "print(\"Precision:\\t%f\" % precision_score(test_label, predicted_categories6_dt, average='macro'))\n",
    "print(\"Recall:\\t\\t%f\" % recall_score(test_label, predicted_categories6_dt, average='macro'))\n",
    "print(\"\\nClassification performance of Decision Tree:\\n%s\" % classification_report(test_label, predicted_categories6_dt))"
   ]
  },
  {
   "cell_type": "code",
   "execution_count": 78,
   "metadata": {},
   "outputs": [
    {
     "name": "stdout",
     "output_type": "stream",
     "text": [
      "Predicted: ['admin', 'international', 'criminal', 'tax', 'labour', 'international', 'admin', 'criminal', 'labour', 'criminal']\n",
      "Ground truth: ['international', 'human rights', 'human rights', 'tax', 'labour', 'admin', 'immigration', 'criminal', 'labour', 'admin']\n"
     ]
    }
   ],
   "source": [
    "#build the DCT model by setting a pipeline where the input is first converted to tfid\n",
    "#model built on all default parameters (criterion=\"gini\")\n",
    "model6_dt = make_pipeline(TfidfVectorizer(), DecisionTreeClassifier())\n",
    "\n",
    "model6_dt.fit(train_text, train_label) # Train the model on the training data\n",
    "                                                      \n",
    "predicted_categories6_dt = model6_dt.predict(test_text) # Predict the categories of the test data\n",
    "print(\"Predicted:\",predicted_categories6_dt.tolist()[0:10]) # Print the first 10 predictions\n",
    "print(\"Ground truth:\",test_label[0:10]) # Print the first 10 ground truth values"
   ]
  },
  {
   "cell_type": "code",
   "execution_count": 79,
   "metadata": {},
   "outputs": [
    {
     "data": {
      "image/png": "[encoded data removed]",
      "text/plain": [
       "<Figure size 432x288 with 2 Axes>"
      ]
     },
     "metadata": {},
     "output_type": "display_data"
    },
    {
     "name": "stdout",
     "output_type": "stream",
     "text": [
      "Accuracy:\t0.443548\n",
      "F1-score:\t0.443506\n",
      "Precision:\t0.453062\n",
      "Recall:\t\t0.446845\n",
      "\n",
      "Classification performance of Decision Tree:\n",
      "               precision    recall  f1-score   support\n",
      "\n",
      "        admin       0.27      0.32      0.29        19\n",
      "    corporate       0.50      0.50      0.50        14\n",
      "     criminal       0.40      0.60      0.48        20\n",
      " human rights       0.17      0.07      0.10        15\n",
      "  immigration       0.71      0.60      0.65        20\n",
      "international       0.14      0.15      0.15        13\n",
      "       labour       0.80      0.80      0.80        10\n",
      "          tax       0.64      0.54      0.58        13\n",
      "\n",
      "     accuracy                           0.44       124\n",
      "    macro avg       0.45      0.45      0.44       124\n",
      " weighted avg       0.44      0.44      0.44       124\n",
      "\n"
     ]
    }
   ],
   "source": [
    "# Plot the confusion matrix for model 6: Decision Tree\n",
    "model6_dt = confusion_matrix(test_label, predicted_categories6_dt)\n",
    "sns.heatmap(model6_dt.T, square = True, annot=True, fmt = \"d\")\n",
    "plt.xlabel(\"True label\")\n",
    "plt.ylabel(\"Predicted label\")\n",
    "plt.title(\"Decision Tree [Gini]: 8-class Classification\")\n",
    "\n",
    "plt.savefig(\"4a DecisionT_Gini_8_Performance\")\n",
    "plt.show()\n",
    "\n",
    "# Compute and print classification performance metrics\n",
    "print(\"Accuracy:\\t%f\" % accuracy_score(test_label, predicted_categories6_dt))\n",
    "print(\"F1-score:\\t%f\" % f1_score(test_label, predicted_categories6_dt, average='macro'))\n",
    "print(\"Precision:\\t%f\" % precision_score(test_label, predicted_categories6_dt, average='macro'))\n",
    "print(\"Recall:\\t\\t%f\" % recall_score(test_label, predicted_categories6_dt, average='macro'))\n",
    "print(\"\\nClassification performance of Decision Tree:\\n%s\" % classification_report(test_label, predicted_categories6_dt))"
   ]
  },
  {
   "cell_type": "code",
   "execution_count": 80,
   "metadata": {},
   "outputs": [
    {
     "data": {
      "text/plain": [
       "RandomizedSearchCV(cv=5,\n",
       "                   estimator=Pipeline(steps=[('tfidfvectorizer',\n",
       "                                              TfidfVectorizer()),\n",
       "                                             ('decisiontreeclassifier',\n",
       "                                              DecisionTreeClassifier())]),\n",
       "                   param_distributions={'decisiontreeclassifier__max_depth': <scipy.stats._distn_infrastructure.rv_frozen object at 0x7f9d356f4a90>,\n",
       "                                        'decisiontreeclassifier__min_samples_leaf': <scipy.stats._distn_infrastructure.rv_frozen object at 0x7f9d37426280>,\n",
       "                                        'decisiontreeclassifier__min_samples_split': <scipy.stats._distn_infrastructure.rv_frozen object at 0x7f9d3740d670>})"
      ]
     },
     "execution_count": 80,
     "metadata": {},
     "output_type": "execute_result"
    }
   ],
   "source": [
    "#hyperparameter tuning\n",
    "#specifying hyperparameter ranges\n",
    "param_dist = {'decisiontreeclassifier__max_depth': randint(1, 20),\n",
    "              'decisiontreeclassifier__min_samples_split': randint(2, 20),\n",
    "              'decisiontreeclassifier__min_samples_leaf': randint(1, 10)}\n",
    "\n",
    "dt_pipeline = make_pipeline(TfidfVectorizer(), DecisionTreeClassifier())\n",
    "\n",
    "#find best hyperparameters through random search\n",
    "rand_search = RandomizedSearchCV(dt_pipeline,\n",
    "                                 param_distributions=param_dist,\n",
    "                                 n_iter=10,\n",
    "                                 cv=5)\n",
    "\n",
    "#fit rand_search to the data\n",
    "rand_search.fit(train_text, train_label)\n",
    "\n",
    "#adapted from otaviomguerra/decision_tree_with_RandomizedSearch.py at https://gist.github.com/otaviomguerra/51df7a4cff28f92de7105f12a0724115\n",
    "#adapted from https://www.datacamp.com/tutorial/random-forests-classifier-python"
   ]
  },
  {
   "cell_type": "code",
   "execution_count": 81,
   "metadata": {},
   "outputs": [
    {
     "name": "stdout",
     "output_type": "stream",
     "text": [
      "Best hyperparameters: {'decisiontreeclassifier__max_depth': 13, 'decisiontreeclassifier__min_samples_leaf': 3, 'decisiontreeclassifier__min_samples_split': 3}\n"
     ]
    }
   ],
   "source": [
    "#creating variable for the best model\n",
    "best_dt = rand_search.best_estimator_\n",
    "\n",
    "#identify the best hyperparameters\n",
    "print('Best hyperparameters:',  rand_search.best_params_)\n",
    "\n",
    "#adapted from https://www.datacamp.com/tutorial/random-forests-classifier-python"
   ]
  },
  {
   "cell_type": "code",
   "execution_count": 90,
   "metadata": {},
   "outputs": [
    {
     "name": "stdout",
     "output_type": "stream",
     "text": [
      "Predicted: ['admin', 'international', 'criminal', 'tax', 'labour', 'international', 'admin', 'criminal', 'labour', 'criminal']\n",
      "Ground truth: ['international', 'human rights', 'human rights', 'tax', 'labour', 'admin', 'immigration', 'criminal', 'labour', 'admin']\n"
     ]
    }
   ],
   "source": [
    "#rerunning Decision Tree algorithm with tuned parameters\n",
    "\n",
    "model6_dt2 = make_pipeline(TfidfVectorizer(), DecisionTreeClassifier(max_depth=13, min_samples_leaf=3, min_samples_split=3))\n",
    "\n",
    "model6_dt2.fit(train_text, train_label) # Train the model on the training data\n",
    "                                                      \n",
    "predicted_categories6_dt2 = model6_dt2.predict(test_text) # Predict the categories of the test data\n",
    "print(\"Predicted:\",predicted_categories6_dt2.tolist()[0:10]) # Print the first 10 predictions\n",
    "print(\"Ground truth:\",test_label[0:10]) # Print the first 10 ground truth values"
   ]
  },
  {
   "cell_type": "code",
   "execution_count": 91,
   "metadata": {},
   "outputs": [
    {
     "data": {
      "image/png": "[encoded data removed]",
      "text/plain": [
       "<Figure size 432x288 with 2 Axes>"
      ]
     },
     "metadata": {},
     "output_type": "display_data"
    },
    {
     "name": "stdout",
     "output_type": "stream",
     "text": [
      "Accuracy:\t0.451613\n",
      "F1-score:\t0.437601\n",
      "Precision:\t0.453279\n",
      "Recall:\t\t0.435896\n",
      "\n",
      "Classification performance of (Tuned) Decision Tree:\n",
      "               precision    recall  f1-score   support\n",
      "\n",
      "        admin       0.30      0.42      0.35        19\n",
      "    corporate       0.38      0.36      0.37        14\n",
      "     criminal       0.50      0.70      0.58        20\n",
      " human rights       0.11      0.07      0.08        15\n",
      "  immigration       0.68      0.65      0.67        20\n",
      "international       0.10      0.08      0.09        13\n",
      "       labour       0.75      0.60      0.67        10\n",
      "          tax       0.80      0.62      0.70        13\n",
      "\n",
      "     accuracy                           0.45       124\n",
      "    macro avg       0.45      0.44      0.44       124\n",
      " weighted avg       0.45      0.45      0.44       124\n",
      "\n"
     ]
    }
   ],
   "source": [
    "# Plot the confusion matrix for model 6: tuned Decision Tree\n",
    "model6_dt2 = confusion_matrix(test_label, predicted_categories6_dt2)\n",
    "sns.heatmap(model6_dt2.T, square = True, annot=True, fmt = \"d\")\n",
    "plt.xlabel(\"True label\")\n",
    "plt.ylabel(\"Predicted label\")\n",
    "plt.title(\"[Tuned] Decision Tree: 8-class Classification\")\n",
    "plt.savefig(\"DecisionT_HyperGini_8_Performance\")\n",
    "plt.show()\n",
    "\n",
    "# Compute and print classification performance metrics\n",
    "print(\"Accuracy:\\t%f\" % accuracy_score(test_label, predicted_categories6_dt2))\n",
    "print(\"F1-score:\\t%f\" % f1_score(test_label, predicted_categories6_dt2, average='macro'))\n",
    "print(\"Precision:\\t%f\" % precision_score(test_label, predicted_categories6_dt2, average='macro'))\n",
    "print(\"Recall:\\t\\t%f\" % recall_score(test_label, predicted_categories6_dt2, average='macro'))\n",
    "print(\"\\nClassification performance of (Tuned) Decision Tree:\\n%s\" % classification_report(test_label, predicted_categories6_dt2))"
   ]
  },
  {
   "cell_type": "code",
   "execution_count": 92,
   "metadata": {},
   "outputs": [
    {
     "name": "stdout",
     "output_type": "stream",
     "text": [
      "Predicted: ['international', 'human rights', 'admin', 'tax', 'corporate', 'corporate', 'international', 'criminal', 'admin', 'criminal']\n",
      "Ground truth: ['international', 'human rights', 'human rights', 'tax', 'labour', 'admin', 'immigration', 'criminal', 'labour', 'admin']\n"
     ]
    }
   ],
   "source": [
    "#rerunning Decision Tree algorithm with tuned parameters + entropy\n",
    "\n",
    "model6_dt3 = make_pipeline(TfidfVectorizer(), DecisionTreeClassifier(max_depth=13, min_samples_leaf=3, min_samples_split=3, criterion=\"entropy\"))\n",
    "\n",
    "model6_dt3.fit(train_text, train_label) # Train the model on the training data\n",
    "                                                      \n",
    "predicted_categories6_dt3 = model6_dt3.predict(test_text) # Predict the categories of the test data\n",
    "print(\"Predicted:\",predicted_categories6_dt3.tolist()[0:10]) # Print the first 10 predictions\n",
    "print(\"Ground truth:\",test_label[0:10]) # Print the first 10 ground truth values"
   ]
  },
  {
   "cell_type": "code",
   "execution_count": 93,
   "metadata": {},
   "outputs": [
    {
     "data": {
      "image/png": "[encoded data removed]",
      "text/plain": [
       "<Figure size 432x288 with 2 Axes>"
      ]
     },
     "metadata": {},
     "output_type": "display_data"
    },
    {
     "name": "stdout",
     "output_type": "stream",
     "text": [
      "Accuracy:\t0.491935\n",
      "F1-score:\t0.476157\n",
      "Precision:\t0.488003\n",
      "Recall:\t\t0.475825\n",
      "\n",
      "Classification performance of (Tuned) Decision Tree (Entropy):\n",
      "               precision    recall  f1-score   support\n",
      "\n",
      "        admin       0.44      0.58      0.50        19\n",
      "    corporate       0.31      0.36      0.33        14\n",
      "     criminal       0.62      0.40      0.48        20\n",
      " human rights       0.39      0.47      0.42        15\n",
      "  immigration       0.65      0.65      0.65        20\n",
      "international       0.46      0.46      0.46        13\n",
      "       labour       0.29      0.20      0.24        10\n",
      "          tax       0.75      0.69      0.72        13\n",
      "\n",
      "     accuracy                           0.49       124\n",
      "    macro avg       0.49      0.48      0.48       124\n",
      " weighted avg       0.50      0.49      0.49       124\n",
      "\n"
     ]
    }
   ],
   "source": [
    "# Plot the confusion matrix for model 6: tuned Decision Tree + entropy\n",
    "model6_dt3 = confusion_matrix(test_label, predicted_categories6_dt2)\n",
    "sns.heatmap(model6_dt3.T, square = True, annot=True, fmt = \"d\")\n",
    "plt.xlabel(\"True label\")\n",
    "plt.ylabel(\"Predicted label\")\n",
    "plt.title(\"[Tuned] Decision Tree: 8-class Classification\")\n",
    "\n",
    "plt.savefig(\"DecisionT_Tuned_Entropy 8_Performance\")\n",
    "plt.show()\n",
    "\n",
    "# Compute and print classification performance metrics\n",
    "print(\"Accuracy:\\t%f\" % accuracy_score(test_label, predicted_categories6_dt3))\n",
    "print(\"F1-score:\\t%f\" % f1_score(test_label, predicted_categories6_dt3, average='macro'))\n",
    "print(\"Precision:\\t%f\" % precision_score(test_label, predicted_categories6_dt3, average='macro'))\n",
    "print(\"Recall:\\t\\t%f\" % recall_score(test_label, predicted_categories6_dt3, average='macro'))\n",
    "print(\"\\nClassification performance of (Tuned) Decision Tree (Entropy):\\n%s\" % classification_report(test_label, predicted_categories6_dt3))"
   ]
  },
  {
   "cell_type": "markdown",
   "metadata": {},
   "source": [
    "### Random Forest Classifier"
   ]
  },
  {
   "cell_type": "code",
   "execution_count": 86,
   "metadata": {},
   "outputs": [
    {
     "name": "stdout",
     "output_type": "stream",
     "text": [
      "Predicted: ['criminal', 'human rights', 'human rights', 'tax', 'labour', 'admin', 'immigration', 'criminal', 'labour', 'criminal']\n",
      "Ground truth: ['international', 'human rights', 'human rights', 'tax', 'labour', 'admin', 'immigration', 'criminal', 'labour', 'admin']\n"
     ]
    }
   ],
   "source": [
    "# Build the RF model by setting a pipeline where the input is first converted\n",
    "#no number of trees is specified: modl is run using default (100)\n",
    "model4_rf = make_pipeline(TfidfVectorizer(), RandomForestClassifier())\n",
    "\n",
    "model4_rf.fit(train_text, train_label) # Train the model on the training data\n",
    "                                                      \n",
    "predicted_categories4_rf = model4_rf.predict(test_text) # Predict the categories of the test data\n",
    "print(\"Predicted:\",predicted_categories4_rf.tolist()[0:10]) # Print the first 10 predictions\n",
    "print(\"Ground truth:\",test_label[0:10]) # Print the first 10 ground truth values"
   ]
  },
  {
   "cell_type": "code",
   "execution_count": 94,
   "metadata": {},
   "outputs": [
    {
     "data": {
      "image/png": "[encoded data removed]",
      "text/plain": [
       "<Figure size 432x288 with 2 Axes>"
      ]
     },
     "metadata": {},
     "output_type": "display_data"
    },
    {
     "name": "stdout",
     "output_type": "stream",
     "text": [
      "Accuracy:\t0.701613\n",
      "F1-score:\t0.684507\n",
      "Precision:\t0.745646\n",
      "Recall:\t\t0.690881\n",
      "\n",
      "Classification performance of Random Forest Classifier:\n",
      "               precision    recall  f1-score   support\n",
      "\n",
      "        admin       0.71      0.53      0.61        19\n",
      "    corporate       0.71      0.86      0.77        14\n",
      "     criminal       0.59      1.00      0.74        20\n",
      " human rights       0.78      0.47      0.58        15\n",
      "  immigration       0.70      0.80      0.74        20\n",
      "international       0.75      0.23      0.35        13\n",
      "       labour       1.00      0.80      0.89        10\n",
      "          tax       0.73      0.85      0.79        13\n",
      "\n",
      "     accuracy                           0.70       124\n",
      "    macro avg       0.75      0.69      0.68       124\n",
      " weighted avg       0.73      0.70      0.68       124\n",
      "\n"
     ]
    }
   ],
   "source": [
    "#plot the confusion matrix for model 4: Random Forest (default no.of trees)\n",
    "mat4_rf = confusion_matrix(test_label, predicted_categories4_rf)\n",
    "sns.heatmap(mat4_rf.T, square = True, annot=True, fmt = \"d\")\n",
    "plt.xlabel(\"True label\")\n",
    "plt.ylabel(\"Predicted label\")\n",
    "plt.title(\"Random Forest: 8-class Classification\")\n",
    "\n",
    "plt.savefig(\"RF_8_Performance\")\n",
    "plt.show()\n",
    "\n",
    "# Compute and print classification performance metrics\n",
    "print(\"Accuracy:\\t%f\" % accuracy_score(test_label, predicted_categories4_rf))\n",
    "print(\"F1-score:\\t%f\" % f1_score(test_label, predicted_categories4_rf, average='macro'))\n",
    "print(\"Precision:\\t%f\" % precision_score(test_label, predicted_categories4_rf, average='macro'))\n",
    "print(\"Recall:\\t\\t%f\" % recall_score(test_label, predicted_categories4_rf, average='macro'))\n",
    "print(\"\\nClassification performance of Random Forest Classifier:\\n%s\" % classification_report(test_label, predicted_categories4_rf))\n"
   ]
  },
  {
   "cell_type": "code",
   "execution_count": 88,
   "metadata": {},
   "outputs": [
    {
     "data": {
      "text/plain": [
       "RandomizedSearchCV(cv=5,\n",
       "                   estimator=Pipeline(steps=[('tfidfvectorizer',\n",
       "                                              TfidfVectorizer()),\n",
       "                                             ('randomforestclassifier',\n",
       "                                              RandomForestClassifier())]),\n",
       "                   param_distributions={'randomforestclassifier__max_depth': <scipy.stats._distn_infrastructure.rv_frozen object at 0x7f9d35488e50>,\n",
       "                                        'randomforestclassifier__n_estimators': <scipy.stats._distn_infrastructure.rv_frozen object at 0x7f9d3548eaf0>})"
      ]
     },
     "execution_count": 88,
     "metadata": {},
     "output_type": "execute_result"
    }
   ],
   "source": [
    "#randomint to 1000 (50,1000)\n",
    "#define hyperparameter ranges\n",
    "param_dist = {'randomforestclassifier__n_estimators': randint(50, 1000),\n",
    "              'randomforestclassifier__max_depth': randint(1, 20)}\n",
    "\n",
    "# Create a random forest classifier pipeline\n",
    "rf_pipeline = make_pipeline(TfidfVectorizer(), RandomForestClassifier())\n",
    "\n",
    "# Use random search to find the best hyperparameters\n",
    "rand_search = RandomizedSearchCV(rf_pipeline,\n",
    "                                 param_distributions=param_dist,\n",
    "                                 n_iter=10,\n",
    "                                 cv=5)\n",
    "\n",
    "# Fit the random search object to the data\n",
    "rand_search.fit(train_text, train_label)"
   ]
  },
  {
   "cell_type": "code",
   "execution_count": 89,
   "metadata": {},
   "outputs": [
    {
     "name": "stdout",
     "output_type": "stream",
     "text": [
      "Best hyperparameters: {'randomforestclassifier__max_depth': 7, 'randomforestclassifier__n_estimators': 579}\n"
     ]
    }
   ],
   "source": [
    "#variable for the best model\n",
    "best_rf = rand_search.best_estimator_\n",
    "\n",
    "#print the best hyperparameters\n",
    "print('Best hyperparameters:',  rand_search.best_params_)\n",
    "\n",
    "#code adapted from: https://www.datacamp.com/tutorial/random-forests-classifier-python"
   ]
  },
  {
   "cell_type": "code",
   "execution_count": 95,
   "metadata": {},
   "outputs": [
    {
     "name": "stdout",
     "output_type": "stream",
     "text": [
      "Predicted: ['international', 'criminal', 'human rights', 'tax', 'labour', 'admin', 'immigration', 'criminal', 'labour', 'criminal']\n",
      "Ground truth: ['international', 'human rights', 'human rights', 'tax', 'labour', 'admin', 'immigration', 'criminal', 'labour', 'admin']\n"
     ]
    }
   ],
   "source": [
    "#build the RF model by setting a pipeline where the input is first converted\n",
    "#no.of trees=579\n",
    "model4_rf2 = make_pipeline(TfidfVectorizer(), RandomForestClassifier(n_estimators=579, max_depth=7))\n",
    "\n",
    "model4_rf2.fit(train_text, train_label) # Train the model on the training data\n",
    "                                                      \n",
    "predicted_categories4_rf2 = model4_rf2.predict(test_text) # Predict the categories of the test data\n",
    "print(\"Predicted:\",predicted_categories4_rf2.tolist()[0:10]) # Print the first 10 predictions\n",
    "print(\"Ground truth:\",test_label[0:10]) # Print the first 10 ground truth values"
   ]
  },
  {
   "cell_type": "code",
   "execution_count": 96,
   "metadata": {},
   "outputs": [
    {
     "data": {
      "image/png": "[encoded data removed]",
      "text/plain": [
       "<Figure size 432x288 with 2 Axes>"
      ]
     },
     "metadata": {},
     "output_type": "display_data"
    },
    {
     "name": "stdout",
     "output_type": "stream",
     "text": [
      "Accuracy:\t0.717742\n",
      "F1-score:\t0.706099\n",
      "Precision:\t0.741062\n",
      "Recall:\t\t0.709159\n",
      "\n",
      "Classification performance of Random Forest Classifier (No.of Trees=579):\n",
      "               precision    recall  f1-score   support\n",
      "\n",
      "        admin       0.65      0.58      0.61        19\n",
      "    corporate       0.75      0.86      0.80        14\n",
      "     criminal       0.58      0.90      0.71        20\n",
      " human rights       0.89      0.53      0.67        15\n",
      "  immigration       0.81      0.85      0.83        20\n",
      "international       0.67      0.31      0.42        13\n",
      "       labour       0.80      0.80      0.80        10\n",
      "          tax       0.79      0.85      0.81        13\n",
      "\n",
      "     accuracy                           0.72       124\n",
      "    macro avg       0.74      0.71      0.71       124\n",
      " weighted avg       0.73      0.72      0.71       124\n",
      "\n"
     ]
    }
   ],
   "source": [
    "#plot the confusion matrix for model 4: Random Forest (no.of trees=407)\n",
    "mat4_rf2 = confusion_matrix(test_label, predicted_categories4_rf2)\n",
    "sns.heatmap(mat4_rf2.T, square = True, annot=True, fmt = \"d\")\n",
    "plt.xlabel(\"True label\")\n",
    "plt.ylabel(\"Predicted label\")\n",
    "plt.title(\"Random Forest [Tuned]: 8-class Classification\")\n",
    "\n",
    "plt.savefig(\"RF579_8_Performance\")\n",
    "plt.show()\n",
    "\n",
    "# Compute and print classification performance metrics\n",
    "print(\"Accuracy:\\t%f\" % accuracy_score(test_label, predicted_categories4_rf2))\n",
    "print(\"F1-score:\\t%f\" % f1_score(test_label, predicted_categories4_rf2, average='macro'))\n",
    "print(\"Precision:\\t%f\" % precision_score(test_label, predicted_categories4_rf2, average='macro'))\n",
    "print(\"Recall:\\t\\t%f\" % recall_score(test_label, predicted_categories4_rf2, average='macro'))\n",
    "print(\"\\nClassification performance of Random Forest Classifier (No.of Trees=579):\\n%s\" % classification_report(test_label, predicted_categories4_rf2))"
   ]
  },
  {
   "cell_type": "markdown",
   "metadata": {},
   "source": [
    "### Logistic Regression"
   ]
  },
  {
   "cell_type": "code",
   "execution_count": 97,
   "metadata": {},
   "outputs": [
    {
     "name": "stdout",
     "output_type": "stream",
     "text": [
      "Predicted: ['international', 'human rights', 'admin', 'tax', 'labour', 'human rights', 'international', 'criminal', 'labour', 'criminal']\n",
      "Ground truth: ['international', 'human rights', 'human rights', 'tax', 'labour', 'admin', 'immigration', 'criminal', 'labour', 'admin']\n"
     ]
    }
   ],
   "source": [
    "from sklearn.linear_model import LogisticRegression\n",
    "# Build the LR model by setting a pipeline where the input is first converted\n",
    "#to tfid\n",
    "model5_lr = make_pipeline(TfidfVectorizer(), LogisticRegression())\n",
    "\n",
    "model5_lr.fit(train_text, train_label) # Train the model on the training data\n",
    "                                                      \n",
    "predicted_categories5_lr = model5_lr.predict(test_text) # Predict the categories of the test data\n",
    "print(\"Predicted:\",predicted_categories5_lr.tolist()[0:10]) # Print the first 10 predictions\n",
    "print(\"Ground truth:\",test_label[0:10]) # Print the first 10 ground truth values"
   ]
  },
  {
   "cell_type": "code",
   "execution_count": 98,
   "metadata": {},
   "outputs": [
    {
     "data": {
      "image/png": "[encoded data removed]",
      "text/plain": [
       "<Figure size 432x288 with 2 Axes>"
      ]
     },
     "metadata": {},
     "output_type": "display_data"
    },
    {
     "name": "stdout",
     "output_type": "stream",
     "text": [
      "Accuracy:\t0.733871\n",
      "F1-score:\t0.741202\n",
      "Precision:\t0.748652\n",
      "Recall:\t\t0.747620\n",
      "\n",
      "Classification performance of Logistic Regression:\n",
      "               precision    recall  f1-score   support\n",
      "\n",
      "        admin       0.79      0.58      0.67        19\n",
      "    corporate       0.67      0.86      0.75        14\n",
      "     criminal       0.73      0.80      0.76        20\n",
      " human rights       0.65      0.73      0.69        15\n",
      "  immigration       0.87      0.65      0.74        20\n",
      "international       0.56      0.69      0.62        13\n",
      "       labour       0.90      0.90      0.90        10\n",
      "          tax       0.83      0.77      0.80        13\n",
      "\n",
      "     accuracy                           0.73       124\n",
      "    macro avg       0.75      0.75      0.74       124\n",
      " weighted avg       0.75      0.73      0.73       124\n",
      "\n"
     ]
    }
   ],
   "source": [
    "# Plot the confusion matrix for model 5: Logistic Regression\n",
    "mat5_lr = confusion_matrix(test_label, predicted_categories5_lr)\n",
    "sns.heatmap(mat5_lr.T, square = True, annot=True, fmt = \"d\")\n",
    "plt.xlabel(\"True label\")\n",
    "plt.ylabel(\"Predicted label\")\n",
    "plt.title(\"Logistic Regression: 8-class Classification\")\n",
    "\n",
    "plt.savefig(\"LogReg_8_Performance\")\n",
    "plt.show()\n",
    "\n",
    "# Compute and print classification performance metrics\n",
    "print(\"Accuracy:\\t%f\" % accuracy_score(test_label, predicted_categories5_lr))\n",
    "print(\"F1-score:\\t%f\" % f1_score(test_label, predicted_categories5_lr, average='macro'))\n",
    "print(\"Precision:\\t%f\" % precision_score(test_label, predicted_categories5_lr, average='macro'))\n",
    "print(\"Recall:\\t\\t%f\" % recall_score(test_label, predicted_categories5_lr, average='macro'))\n",
    "print(\"\\nClassification performance of Logistic Regression:\\n%s\" % classification_report(test_label, predicted_categories5_lr))"
   ]
  },
  {
   "cell_type": "markdown",
   "metadata": {},
   "source": [
    "### Gradient Boosting Classifier "
   ]
  },
  {
   "cell_type": "code",
   "execution_count": 99,
   "metadata": {},
   "outputs": [
    {
     "name": "stdout",
     "output_type": "stream",
     "text": [
      "Predicted: ['criminal', 'human rights', 'admin', 'tax', 'labour', 'admin', 'immigration', 'criminal', 'international', 'criminal']\n",
      "Ground truth: ['international', 'human rights', 'human rights', 'tax', 'labour', 'admin', 'immigration', 'criminal', 'labour', 'admin']\n"
     ]
    }
   ],
   "source": [
    "# Build the GB classifier by setting a pipeline where the input is first converted\n",
    "#to tfid\n",
    "model7_gbc = make_pipeline(TfidfVectorizer(), GradientBoostingClassifier())\n",
    "\n",
    "model7_gbc.fit(train_text, train_label) # Train the model on the training data\n",
    "                                                      \n",
    "predicted_categories7_gbc = model7_gbc.predict(test_text) # Predict the categories of the test data\n",
    "print(\"Predicted:\",predicted_categories7_gbc.tolist()[0:10]) # Print the first 10 predictions\n",
    "print(\"Ground truth:\",test_label[0:10]) # Print the first 10 ground truth values"
   ]
  },
  {
   "cell_type": "code",
   "execution_count": 100,
   "metadata": {},
   "outputs": [
    {
     "data": {
      "image/png": "[encoded data removed]",
      "text/plain": [
       "<Figure size 432x288 with 2 Axes>"
      ]
     },
     "metadata": {},
     "output_type": "display_data"
    },
    {
     "name": "stdout",
     "output_type": "stream",
     "text": [
      "Accuracy:\t0.637097\n",
      "F1-score:\t0.635293\n",
      "Precision:\t0.669927\n",
      "Recall:\t\t0.628421\n",
      "\n",
      "Classification performance of Gradient Boosting Classifier:\n",
      "               precision    recall  f1-score   support\n",
      "\n",
      "        admin       0.46      0.63      0.53        19\n",
      "    corporate       0.89      0.57      0.70        14\n",
      "     criminal       0.55      0.80      0.65        20\n",
      " human rights       0.50      0.27      0.35        15\n",
      "  immigration       0.83      0.75      0.79        20\n",
      "international       0.50      0.46      0.48        13\n",
      "       labour       0.78      0.70      0.74        10\n",
      "          tax       0.85      0.85      0.85        13\n",
      "\n",
      "     accuracy                           0.64       124\n",
      "    macro avg       0.67      0.63      0.64       124\n",
      " weighted avg       0.66      0.64      0.63       124\n",
      "\n"
     ]
    }
   ],
   "source": [
    "# Plot the confusion matrix for model 7: Gradient Boosting classifier\n",
    "model7_gbc = confusion_matrix(test_label, predicted_categories7_gbc)\n",
    "sns.heatmap(model7_gbc.T, square = True, annot=True, fmt = \"d\")\n",
    "plt.xlabel(\"True label\")\n",
    "plt.ylabel(\"Predicted label\")\n",
    "plt.title(\"Gradient Boosting: 8-class Classification\")\n",
    "\n",
    "plt.savefig(\"GBC_default_8_Performance\")\n",
    "plt.show()\n",
    "\n",
    "# Compute and print classification performance metrics\n",
    "print(\"Accuracy:\\t%f\" % accuracy_score(test_label, predicted_categories7_gbc))\n",
    "print(\"F1-score:\\t%f\" % f1_score(test_label, predicted_categories7_gbc, average='macro'))\n",
    "print(\"Precision:\\t%f\" % precision_score(test_label, predicted_categories7_gbc, average='macro'))\n",
    "print(\"Recall:\\t\\t%f\" % recall_score(test_label, predicted_categories7_gbc, average='macro'))\n",
    "print(\"\\nClassification performance of Gradient Boosting Classifier:\\n%s\" % classification_report(test_label, predicted_categories7_gbc))"
   ]
  },
  {
   "cell_type": "code",
   "execution_count": 47,
   "metadata": {},
   "outputs": [
    {
     "data": {
      "text/html": [
       "<style>#sk-container-id-1 {color: black;background-color: white;}#sk-container-id-1 pre{padding: 0;}#sk-container-id-1 div.sk-toggleable {background-color: white;}#sk-container-id-1 label.sk-toggleable__label {cursor: pointer;display: block;width: 100%;margin-bottom: 0;padding: 0.3em;box-sizing: border-box;text-align: center;}#sk-container-id-1 label.sk-toggleable__label-arrow:before {content: \"▸\";float: left;margin-right: 0.25em;color: #696969;}#sk-container-id-1 label.sk-toggleable__label-arrow:hover:before {color: black;}#sk-container-id-1 div.sk-estimator:hover label.sk-toggleable__label-arrow:before {color: black;}#sk-container-id-1 div.sk-toggleable__content {max-height: 0;max-width: 0;overflow: hidden;text-align: left;background-color: #f0f8ff;}#sk-container-id-1 div.sk-toggleable__content pre {margin: 0.2em;color: black;border-radius: 0.25em;background-color: #f0f8ff;}#sk-container-id-1 input.sk-toggleable__control:checked~div.sk-toggleable__content {max-height: 200px;max-width: 100%;overflow: auto;}#sk-container-id-1 input.sk-toggleable__control:checked~label.sk-toggleable__label-arrow:before {content: \"▾\";}#sk-container-id-1 div.sk-estimator input.sk-toggleable__control:checked~label.sk-toggleable__label {background-color: #d4ebff;}#sk-container-id-1 div.sk-label input.sk-toggleable__control:checked~label.sk-toggleable__label {background-color: #d4ebff;}#sk-container-id-1 input.sk-hidden--visually {border: 0;clip: rect(1px 1px 1px 1px);clip: rect(1px, 1px, 1px, 1px);height: 1px;margin: -1px;overflow: hidden;padding: 0;position: absolute;width: 1px;}#sk-container-id-1 div.sk-estimator {font-family: monospace;background-color: #f0f8ff;border: 1px dotted black;border-radius: 0.25em;box-sizing: border-box;margin-bottom: 0.5em;}#sk-container-id-1 div.sk-estimator:hover {background-color: #d4ebff;}#sk-container-id-1 div.sk-parallel-item::after {content: \"\";width: 100%;border-bottom: 1px solid gray;flex-grow: 1;}#sk-container-id-1 div.sk-label:hover label.sk-toggleable__label {background-color: #d4ebff;}#sk-container-id-1 div.sk-serial::before {content: \"\";position: absolute;border-left: 1px solid gray;box-sizing: border-box;top: 0;bottom: 0;left: 50%;z-index: 0;}#sk-container-id-1 div.sk-serial {display: flex;flex-direction: column;align-items: center;background-color: white;padding-right: 0.2em;padding-left: 0.2em;position: relative;}#sk-container-id-1 div.sk-item {position: relative;z-index: 1;}#sk-container-id-1 div.sk-parallel {display: flex;align-items: stretch;justify-content: center;background-color: white;position: relative;}#sk-container-id-1 div.sk-item::before, #sk-container-id-1 div.sk-parallel-item::before {content: \"\";position: absolute;border-left: 1px solid gray;box-sizing: border-box;top: 0;bottom: 0;left: 50%;z-index: -1;}#sk-container-id-1 div.sk-parallel-item {display: flex;flex-direction: column;z-index: 1;position: relative;background-color: white;}#sk-container-id-1 div.sk-parallel-item:first-child::after {align-self: flex-end;width: 50%;}#sk-container-id-1 div.sk-parallel-item:last-child::after {align-self: flex-start;width: 50%;}#sk-container-id-1 div.sk-parallel-item:only-child::after {width: 0;}#sk-container-id-1 div.sk-dashed-wrapped {border: 1px dashed gray;margin: 0 0.4em 0.5em 0.4em;box-sizing: border-box;padding-bottom: 0.4em;background-color: white;}#sk-container-id-1 div.sk-label label {font-family: monospace;font-weight: bold;display: inline-block;line-height: 1.2em;}#sk-container-id-1 div.sk-label-container {text-align: center;}#sk-container-id-1 div.sk-container {/* jupyter's `normalize.less` sets `[hidden] { display: none; }` but bootstrap.min.css set `[hidden] { display: none !important; }` so we also need the `!important` here to be able to override the default hidden behavior on the sphinx rendered scikit-learn.org. See: https://github.com/scikit-learn/scikit-learn/issues/21755 */display: inline-block !important;position: relative;}#sk-container-id-1 div.sk-text-repr-fallback {display: none;}</style><div id=\"sk-container-id-1\" class=\"sk-top-container\"><div class=\"sk-text-repr-fallback\"><pre>RandomizedSearchCV(cv=3,\n",
       "                   estimator=Pipeline(steps=[(&#x27;tfidfvectorizer&#x27;,\n",
       "                                              TfidfVectorizer()),\n",
       "                                             (&#x27;gradientboostingclassifier&#x27;,\n",
       "                                              GradientBoostingClassifier())]),\n",
       "                   n_iter=5,\n",
       "                   param_distributions={&#x27;gradientboostingclassifier__max_depth&#x27;: &lt;scipy.stats._distn_infrastructure.rv_discrete_frozen object at 0x00000157CC989F90&gt;,\n",
       "                                        &#x27;gradientboostingclassifier__min_samples_leaf&#x27;: &lt;scipy.stats._distn_infrastructure.rv_discrete_frozen object at 0x00000157DAF26A70&gt;,\n",
       "                                        &#x27;gradientboostingclassifier__min_samples_split&#x27;: &lt;scipy.stats._distn_infrastructure.rv_discrete_frozen object at 0x00000157DAB87460&gt;,\n",
       "                                        &#x27;gradientboostingclassifier__n_estimators&#x27;: &lt;scipy.stats._distn_infrastructure.rv_discrete_frozen object at 0x00000157DAB87550&gt;})</pre><b>In a Jupyter environment, please rerun this cell to show the HTML representation or trust the notebook. <br />On GitHub, the HTML representation is unable to render, please try loading this page with nbviewer.org.</b></div><div class=\"sk-container\" hidden><div class=\"sk-item sk-dashed-wrapped\"><div class=\"sk-label-container\"><div class=\"sk-label sk-toggleable\"><input class=\"sk-toggleable__control sk-hidden--visually\" id=\"sk-estimator-id-1\" type=\"checkbox\" ><label for=\"sk-estimator-id-1\" class=\"sk-toggleable__label sk-toggleable__label-arrow\">RandomizedSearchCV</label><div class=\"sk-toggleable__content\"><pre>RandomizedSearchCV(cv=3,\n",
       "                   estimator=Pipeline(steps=[(&#x27;tfidfvectorizer&#x27;,\n",
       "                                              TfidfVectorizer()),\n",
       "                                             (&#x27;gradientboostingclassifier&#x27;,\n",
       "                                              GradientBoostingClassifier())]),\n",
       "                   n_iter=5,\n",
       "                   param_distributions={&#x27;gradientboostingclassifier__max_depth&#x27;: &lt;scipy.stats._distn_infrastructure.rv_discrete_frozen object at 0x00000157CC989F90&gt;,\n",
       "                                        &#x27;gradientboostingclassifier__min_samples_leaf&#x27;: &lt;scipy.stats._distn_infrastructure.rv_discrete_frozen object at 0x00000157DAF26A70&gt;,\n",
       "                                        &#x27;gradientboostingclassifier__min_samples_split&#x27;: &lt;scipy.stats._distn_infrastructure.rv_discrete_frozen object at 0x00000157DAB87460&gt;,\n",
       "                                        &#x27;gradientboostingclassifier__n_estimators&#x27;: &lt;scipy.stats._distn_infrastructure.rv_discrete_frozen object at 0x00000157DAB87550&gt;})</pre></div></div></div><div class=\"sk-parallel\"><div class=\"sk-parallel-item\"><div class=\"sk-item\"><div class=\"sk-label-container\"><div class=\"sk-label sk-toggleable\"><input class=\"sk-toggleable__control sk-hidden--visually\" id=\"sk-estimator-id-2\" type=\"checkbox\" ><label for=\"sk-estimator-id-2\" class=\"sk-toggleable__label sk-toggleable__label-arrow\">estimator: Pipeline</label><div class=\"sk-toggleable__content\"><pre>Pipeline(steps=[(&#x27;tfidfvectorizer&#x27;, TfidfVectorizer()),\n",
       "                (&#x27;gradientboostingclassifier&#x27;, GradientBoostingClassifier())])</pre></div></div></div><div class=\"sk-serial\"><div class=\"sk-item\"><div class=\"sk-serial\"><div class=\"sk-item\"><div class=\"sk-estimator sk-toggleable\"><input class=\"sk-toggleable__control sk-hidden--visually\" id=\"sk-estimator-id-3\" type=\"checkbox\" ><label for=\"sk-estimator-id-3\" class=\"sk-toggleable__label sk-toggleable__label-arrow\">TfidfVectorizer</label><div class=\"sk-toggleable__content\"><pre>TfidfVectorizer()</pre></div></div></div><div class=\"sk-item\"><div class=\"sk-estimator sk-toggleable\"><input class=\"sk-toggleable__control sk-hidden--visually\" id=\"sk-estimator-id-4\" type=\"checkbox\" ><label for=\"sk-estimator-id-4\" class=\"sk-toggleable__label sk-toggleable__label-arrow\">GradientBoostingClassifier</label><div class=\"sk-toggleable__content\"><pre>GradientBoostingClassifier()</pre></div></div></div></div></div></div></div></div></div></div></div></div>"
      ],
      "text/plain": [
       "RandomizedSearchCV(cv=3,\n",
       "                   estimator=Pipeline(steps=[('tfidfvectorizer',\n",
       "                                              TfidfVectorizer()),\n",
       "                                             ('gradientboostingclassifier',\n",
       "                                              GradientBoostingClassifier())]),\n",
       "                   n_iter=5,\n",
       "                   param_distributions={'gradientboostingclassifier__max_depth': <scipy.stats._distn_infrastructure.rv_discrete_frozen object at 0x00000157CC989F90>,\n",
       "                                        'gradientboostingclassifier__min_samples_leaf': <scipy.stats._distn_infrastructure.rv_discrete_frozen object at 0x00000157DAF26A70>,\n",
       "                                        'gradientboostingclassifier__min_samples_split': <scipy.stats._distn_infrastructure.rv_discrete_frozen object at 0x00000157DAB87460>,\n",
       "                                        'gradientboostingclassifier__n_estimators': <scipy.stats._distn_infrastructure.rv_discrete_frozen object at 0x00000157DAB87550>})"
      ]
     },
     "execution_count": 47,
     "metadata": {},
     "output_type": "execute_result"
    }
   ],
   "source": [
    "#test data for hyperparameter tuning\n",
    "\n",
    "# Define hyperparameter ranges\n",
    "param_dist = {'gradientboostingclassifier__n_estimators': randint(50, 1000),\n",
    "              'gradientboostingclassifier__max_depth': randint(1, 20),\n",
    "              'gradientboostingclassifier__min_samples_split': randint(2, 20),\n",
    "              'gradientboostingclassifier__min_samples_leaf': randint(1, 10)\n",
    "             }\n",
    "\n",
    "# Create a random forest classifier pipeline\n",
    "gbc_pipeline = make_pipeline(TfidfVectorizer(), GradientBoostingClassifier())\n",
    "\n",
    "# Use random search to find the best hyperparameters\n",
    "rand_search = RandomizedSearchCV(gbc_pipeline,\n",
    "                                 param_distributions=param_dist,\n",
    "                                 n_iter=5,\n",
    "                                 cv=5)\n",
    "\n",
    "# Fit the random search object to the data\n",
    "rand_search.fit(train_text, train_label)"
   ]
  },
  {
   "cell_type": "code",
   "execution_count": 48,
   "metadata": {},
   "outputs": [
    {
     "name": "stdout",
     "output_type": "stream",
     "text": [
      "Best hyperparameters: {'gradientboostingclassifier__max_depth': 12, 'gradientboostingclassifier__min_samples_leaf': 8, 'gradientboostingclassifier__min_samples_split': 14, 'gradientboostingclassifier__n_estimators': 199}\n"
     ]
    }
   ],
   "source": [
    "#variable for the best model\n",
    "best_gbc = rand_search.best_estimator_\n",
    "\n",
    "#print the best hyperparameters\n",
    "print('Best hyperparameters:',  rand_search.best_params_)"
   ]
  },
  {
   "cell_type": "code",
   "execution_count": 49,
   "metadata": {},
   "outputs": [
    {
     "name": "stdout",
     "output_type": "stream",
     "text": [
      "Predicted: ['human rights', 'criminal', 'human rights', 'tax', 'labour', 'admin', 'immigration', 'criminal', 'labour', 'criminal']\n",
      "Ground truth: ['international', 'human rights', 'human rights', 'tax', 'labour', 'admin', 'immigration', 'criminal', 'labour', 'admin']\n"
     ]
    }
   ],
   "source": [
    "# Build the GB classifier by setting a pipeline where the input is first converted\n",
    "#to tfid\n",
    "#hyperparameters tuned\n",
    "model7_gbc2 = make_pipeline(TfidfVectorizer(), GradientBoostingClassifier(max_depth=12, min_samples_leaf=8, min_samples_split=14, n_estimators=199))\n",
    "\n",
    "model7_gbc2.fit(train_text, train_label) # Train the model on the training data\n",
    "                                                      \n",
    "predicted_categories7_gbc2 = model7_gbc2.predict(test_text) # Predict the categories of the test data\n",
    "print(\"Predicted:\",predicted_categories7_gbc2.tolist()[0:10]) # Print the first 10 predictions\n",
    "print(\"Ground truth:\",test_label[0:10]) # Print the first 10 ground truth values"
   ]
  },
  {
   "cell_type": "code",
   "execution_count": 50,
   "metadata": {},
   "outputs": [
    {
     "data": {
      "image/png": "[encoded data removed]",
      "text/plain": [
       "<Figure size 640x480 with 2 Axes>"
      ]
     },
     "metadata": {},
     "output_type": "display_data"
    },
    {
     "name": "stdout",
     "output_type": "stream",
     "text": [
      "Accuracy:\t0.709677\n",
      "F1-score:\t0.702922\n",
      "Precision:\t0.716961\n",
      "Recall:\t\t0.703596\n",
      "\n",
      "Classification performance of Tuned Gradient Boosting Classifier:\n",
      "               precision    recall  f1-score   support\n",
      "\n",
      "        admin       0.73      0.58      0.65        19\n",
      "    corporate       0.73      0.79      0.76        14\n",
      "     criminal       0.62      0.80      0.70        20\n",
      " human rights       0.57      0.53      0.55        15\n",
      "  immigration       0.78      0.90      0.84        20\n",
      "international       0.62      0.38      0.48        13\n",
      "       labour       0.89      0.80      0.84        10\n",
      "          tax       0.79      0.85      0.81        13\n",
      "\n",
      "     accuracy                           0.71       124\n",
      "    macro avg       0.72      0.70      0.70       124\n",
      " weighted avg       0.71      0.71      0.70       124\n",
      "\n"
     ]
    }
   ],
   "source": [
    "# Plot the confusion matrix for model 7: tuned Gradient Boosting classifier\n",
    "model7_gbc2 = confusion_matrix(test_label, predicted_categories7_gbc2)\n",
    "sns.heatmap(model7_gbc2.T, square = True, annot=True, fmt = \"d\")\n",
    "plt.xlabel(\"True label\")\n",
    "plt.ylabel(\"Predicted label\")\n",
    "plt.title(\"Gradient Boosting: 8-class Classification\")\n",
    "\n",
    "plt.savefig(\"GBC_tuned_8_Performance2\")\n",
    "plt.show()\n",
    "\n",
    "# Compute and print classification performance metrics\n",
    "print(\"Accuracy:\\t%f\" % accuracy_score(test_label, predicted_categories7_gbc2))\n",
    "print(\"F1-score:\\t%f\" % f1_score(test_label, predicted_categories7_gbc2, average='macro'))\n",
    "print(\"Precision:\\t%f\" % precision_score(test_label, predicted_categories7_gbc2, average='macro'))\n",
    "print(\"Recall:\\t\\t%f\" % recall_score(test_label, predicted_categories7_gbc2, average='macro'))\n",
    "print(\"\\nClassification performance of Tuned Gradient Boosting Classifier:\\n%s\" % classification_report(test_label, predicted_categories7_gbc2))"
   ]
  },
  {
   "cell_type": "markdown",
   "metadata": {},
   "source": [
    "### Implementing Deep Learning: Neural Networks"
   ]
  },
  {
   "cell_type": "markdown",
   "metadata": {},
   "source": [
    "#### Data Preprocessing"
   ]
  },
  {
   "cell_type": "code",
   "execution_count": 2,
   "metadata": {},
   "outputs": [],
   "source": [
    "TEXT = data.Field(tokenize=word_tokenize,batch_first=True,include_lengths=True) # Create text field for dataset\n",
    "LABEL = data.LabelField(dtype = torch.float,batch_first=True) # Create label field for dataset\n",
    "\n",
    "fields = [('text',TEXT),('label', LABEL)]"
   ]
  },
  {
   "cell_type": "code",
   "execution_count": null,
   "metadata": {},
   "outputs": [],
   "source": [
    "# Load dataset from csv file\n",
    "dataset=data.TabularDataset(path = 'UKSC_training_data_NN_8labels.csv',format = 'csv',fields = fields,skip_header = True)\n",
    "#print(vars(dataset.examples[0])) # Print first text as an example"
   ]
  },
  {
   "cell_type": "code",
   "execution_count": 4,
   "metadata": {},
   "outputs": [
    {
     "name": "stdout",
     "output_type": "stream",
     "text": [
      "Training samples: 512\n",
      "Test samples: 128\n"
     ]
    }
   ],
   "source": [
    "#dividing data into training and test sets\n",
    "\n",
    "import random\n",
    "RANDOM_SEED = 42 # Set random seed for reproducibility.\n",
    "\n",
    "# Divide dataset into a training set (80%) and a test set (20%)\n",
    "training_data, test_data = dataset.split(split_ratio=0.8, random_state = random.seed(RANDOM_SEED))\n",
    "\n",
    "print(\"Training samples:\",len(training_data))\n",
    "print(\"Test samples:\",len(test_data))"
   ]
  },
  {
   "cell_type": "code",
   "execution_count": 20,
   "metadata": {},
   "outputs": [
    {
     "name": "stdout",
     "output_type": "stream",
     "text": [
      "The Number of classes in in Training Data are:\n",
      "63 (12.30%): immigration\n",
      "61 (11.91%): criminal\n",
      "64 (12.50%): human rights\n",
      "64 (12.50%): corporate\n",
      "68 (13.28%): international\n",
      "62 (12.11%): tax\n",
      "66 (12.89%): labour\n",
      "64 (12.50%): admin\n"
     ]
    }
   ],
   "source": [
    "#check class balance\n",
    "\n",
    "#class counters (to account for string labels)\n",
    "train_counts = {\"immigration\": 0, \"criminal\": 0, \"human rights\": 0, \"corporate\": 0, \"international\": 0, \"tax\": 0, \"labour\": 0, \"admin\": 0}\n",
    "test_counts = {\"immigration\": 0, \"criminal\": 0, \"human rights\": 0, \"corporate\": 0, \"international\": 0, \"tax\": 0, \"labour\": 0, \"admin\": 0}\n",
    "\n",
    "#can we see how the class balance is?\n",
    "\n",
    "#count classes in training data\n",
    "for i in training_data:\n",
    "    label = i.label\n",
    "    train_counts[label] += 1\n",
    "\n",
    "#count classes in test data\n",
    "for i in test_data:\n",
    "    label = i.label\n",
    "    test_counts[label] += 1\n",
    "    \n",
    "train_total = len(training_data)\n",
    "\n",
    "print(\"The Number of classes in in Training Data are:\")\n",
    "for label, count in train_counts.items():\n",
    "    percentage = (count/train_total)*100\n",
    "    print(f\"{count} ({percentage:.2f}%): {label}\")\n",
    "\n",
    "#the training classes are still not fully balanced, but the balance is not bad.\n",
    "#However, this imbalance could affect the performance.\n",
    "#Especially since the CNN performs poorly on the test data."
   ]
  },
  {
   "cell_type": "code",
   "execution_count": 21,
   "metadata": {},
   "outputs": [
    {
     "name": "stdout",
     "output_type": "stream",
     "text": [
      "Size of TEXT vocabulary: 33747\n",
      "Size of LABEL vocabulary: 8 \n",
      "\n",
      "Most common tokens: [('court', 39545), ('would', 28947), ('case', 26198), ('section', 24877), ('law', 22940), ('para', 22298), ('lord', 21726), ('appeal', 20946), ('act', 20018), ('article', 18370)] \n",
      "\n",
      "Index of unknown word <unk>: 0\n",
      "Index of padding word <pad>: 1\n",
      "\n",
      "Number assigned to label: defaultdict(None, {'international': 0, 'labour': 1, 'admin': 2, 'corporate': 3, 'human rights': 4, 'immigration': 5, 'tax': 6, 'criminal': 7})\n"
     ]
    }
   ],
   "source": [
    "#creating vocabulary using training set\n",
    "\n",
    "TEXT.build_vocab(training_data,min_freq=1) # Build vocabulary from training set. Consider words that occur at least 1 time\n",
    "LABEL.build_vocab(training_data) # Build vocabulary for labels\n",
    "\n",
    "print(\"Size of TEXT vocabulary:\",len(TEXT.vocab)) # Number of unique tokens in vocabulary\n",
    "print(\"Size of LABEL vocabulary:\",len(LABEL.vocab),\"\\n\") # Number of unique labels\n",
    "print(\"Most common tokens:\",TEXT.vocab.freqs.most_common(10),\"\\n\") # Print the 10 most common tokens in the training set\n",
    "\n",
    "# Print the index number for the unknown token (<unk>) and the token used for padding (<pad>)\n",
    "print(\"Index of unknown word <unk>:\",TEXT.vocab.stoi['<unk>'])\n",
    "print(\"Index of padding word <pad>:\",TEXT.vocab.stoi['<pad>'])\n",
    "print()\n",
    "print(\"Number assigned to label:\", LABEL.vocab.stoi) #number assigned to each label\n"
   ]
  },
  {
   "cell_type": "markdown",
   "metadata": {},
   "source": [
    "#### Defining Model Architecture"
   ]
  },
  {
   "cell_type": "code",
   "execution_count": 22,
   "metadata": {},
   "outputs": [
    {
     "name": "stdout",
     "output_type": "stream",
     "text": [
      "Device: cpu\n"
     ]
    }
   ],
   "source": [
    "#defining model architecture \n",
    "#create two iterators for training and test data\n",
    "\n",
    "device = torch.device('cuda' if torch.cuda.is_available() else 'cpu') #Set device to GPU if cuda available, else CPU\n",
    "print(\"Device:\",device)\n",
    "\n",
    "torch.manual_seed(RANDOM_SEED)\n",
    "\n",
    "BATCH_SIZE = 32 #set batch size for training #why 32?\n",
    "\n",
    "# Create data iterator for training and test sets\n",
    "training_iterator, test_iterator = data.BucketIterator.splits(\n",
    "    (training_data, test_data),\n",
    "    batch_size = BATCH_SIZE,\n",
    "    sort_key = lambda x: len(x.text), #telling the BucketIterator the function it should use to group the data\n",
    "    sort_within_batch=True, #sorts data within each mini batch\n",
    "    device = device)"
   ]
  },
  {
   "cell_type": "code",
   "execution_count": 23,
   "metadata": {},
   "outputs": [],
   "source": [
    "#define multi-class accuracy metric\n",
    "#accuracy is calculated by performing argmax to get the index of the max.value\n",
    "#in the prediction for each element, and counting no.of times this equals the actual label\n",
    "#the values are then averaged across the batch.\n",
    "def multiclass_accuracy(preds, y):\n",
    "    top_pred = preds.argmax(1, keepdim = True)\n",
    "    correct = top_pred.eq(y.view_as(top_pred)).sum()\n",
    "    acc = correct.float() / y.shape[0]\n",
    "    return acc"
   ]
  },
  {
   "cell_type": "code",
   "execution_count": 59,
   "metadata": {},
   "outputs": [
    {
     "data": {
      "text/plain": [
       "<torchtext.legacy.data.iterator.BucketIterator at 0x7f8a345cac70>"
      ]
     },
     "execution_count": 59,
     "metadata": {},
     "output_type": "execute_result"
    }
   ],
   "source": [
    "training_iterator"
   ]
  },
  {
   "cell_type": "code",
   "execution_count": 60,
   "metadata": {},
   "outputs": [
    {
     "name": "stdout",
     "output_type": "stream",
     "text": [
      "\n",
      "[torchtext.legacy.data.batch.Batch of size 32]\n",
      "\t[.text]:('[torch.LongTensor of size 32x15947]', '[torch.LongTensor of size 32]')\n",
      "\t[.label]:[torch.FloatTensor of size 32]\n",
      "\n",
      "dict_keys(['batch_size', 'dataset', 'fields', 'input_fields', 'target_fields', 'text', 'label'])\n"
     ]
    }
   ],
   "source": [
    "batch = next(training_iterator.__iter__())\n",
    "print(batch)\n",
    "print()\n",
    "\n",
    "#use batch as wrapper to bundle all attributes to one variable dictionary\n",
    "print(batch.__dict__.keys())"
   ]
  },
  {
   "cell_type": "code",
   "execution_count": 61,
   "metadata": {},
   "outputs": [
    {
     "data": {
      "text/plain": [
       "(<torchtext.legacy.data.dataset.Dataset at 0x7f89cdfff7f0>,\n",
       " <torchtext.legacy.data.dataset.Dataset at 0x7f89cdfff7f0>,\n",
       " True)"
      ]
     },
     "execution_count": 61,
     "metadata": {},
     "output_type": "execute_result"
    }
   ],
   "source": [
    "#check whether the dataset attribute of \"batch\" variable == the training_data variable\n",
    "batch.__dict__['dataset'], training_data, batch.__dict__['dataset']==training_data"
   ]
  },
  {
   "cell_type": "code",
   "execution_count": 63,
   "metadata": {},
   "outputs": [
    {
     "data": {
      "text/plain": [
       "dict_keys(['text', 'label'])"
      ]
     },
     "execution_count": 63,
     "metadata": {},
     "output_type": "execute_result"
    }
   ],
   "source": [
    "training_data[0].__dict__.keys()"
   ]
  },
  {
   "cell_type": "code",
   "execution_count": 64,
   "metadata": {},
   "outputs": [
    {
     "data": {
      "text/plain": [
       "['michaelmas', 'term', 'uksc', 'appeal', 'ewca']"
      ]
     },
     "execution_count": 64,
     "metadata": {},
     "output_type": "execute_result"
    }
   ],
   "source": [
    "training_data[0].__dict__['text'][:5]"
   ]
  },
  {
   "cell_type": "markdown",
   "metadata": {},
   "source": [
    "### Deploying a Convolutional Neural Network"
   ]
  },
  {
   "cell_type": "code",
   "execution_count": 55,
   "metadata": {},
   "outputs": [],
   "source": [
    "class LegalAreaCNN(nn.Module):\n",
    "    def __init__(self, \n",
    "                 vocab_size, \n",
    "                 embedding_dim, \n",
    "                 n_filters, \n",
    "                 filter_sizes, \n",
    "                 output_dim, \n",
    "                 dropout, \n",
    "                 pad_idx):\n",
    "        \n",
    "        super().__init__()\n",
    "        \n",
    "        #embedding layer\n",
    "        self.embedding = nn.Embedding(vocab_size, \n",
    "                                      embedding_dim, \n",
    "                                      padding_idx = pad_idx)\n",
    "        #convolutional layers\n",
    "        self.convs = nn.ModuleList([\n",
    "                                    nn.Conv2d(in_channels = 1, \n",
    "                                              out_channels = n_filters, \n",
    "                                              kernel_size = (fs, embedding_dim)) \n",
    "                                    for fs in filter_sizes\n",
    "                                    ])\n",
    "        #fully connected layer\n",
    "        self.fc = nn.Linear(len(filter_sizes) * n_filters, output_dim)\n",
    "        \n",
    "        #dropout layer\n",
    "        self.dropout = nn.Dropout(dropout)\n",
    "        \n",
    "    def forward(self, text):   \n",
    "        #text = text.permute(1, 0)\n",
    "        embedded = self.embedding(text)     \n",
    "        embedded = embedded.unsqueeze(1)       \n",
    "        conved = [F.relu(conv(embedded)).squeeze(3) for conv in self.convs]                \n",
    "        pooled = [F.max_pool1d(conv, conv.shape[2]).squeeze(2) for conv in conved]    \n",
    "        cat = self.dropout(torch.cat(pooled, dim = 1))\n",
    "        return self.fc(cat)\n",
    "    \n",
    "#code adapted from: https://github.com/bentrevett/pytorch-sentiment-analysis/blob/master/4%20-%20Convolutional%20Sentiment%20Analysis.ipynb\n",
    "#and from https://github.com/bentrevett/pytorch-sentiment-analysis/blob/master/5%20-%20Multi-class%20Sentiment%20Analysis.ipynb"
   ]
  },
  {
   "cell_type": "code",
   "execution_count": 56,
   "metadata": {},
   "outputs": [],
   "source": [
    "INPUT_DIM = len(TEXT.vocab)\n",
    "EMBEDDING_DIM = 100\n",
    "N_FILTERS = 100\n",
    "FILTER_SIZES = [3,4,5]\n",
    "OUTPUT_DIM = len(LABEL.vocab)\n",
    "DROPOUT = 0.5\n",
    "PAD_IDX = TEXT.vocab.stoi[TEXT.pad_token]\n",
    "\n",
    "model = LegalAreaCNN(INPUT_DIM, EMBEDDING_DIM, N_FILTERS, FILTER_SIZES, OUTPUT_DIM, DROPOUT, PAD_IDX)"
   ]
  },
  {
   "cell_type": "code",
   "execution_count": 57,
   "metadata": {},
   "outputs": [
    {
     "name": "stdout",
     "output_type": "stream",
     "text": [
      "LegalAreaCNN(\n",
      "  (embedding): Embedding(34714, 100, padding_idx=1)\n",
      "  (convs): ModuleList(\n",
      "    (0): Conv2d(1, 100, kernel_size=(3, 100), stride=(1, 1))\n",
      "    (1): Conv2d(1, 100, kernel_size=(4, 100), stride=(1, 1))\n",
      "    (2): Conv2d(1, 100, kernel_size=(5, 100), stride=(1, 1))\n",
      "  )\n",
      "  (fc): Linear(in_features=300, out_features=8, bias=True)\n",
      "  (dropout): Dropout(p=0.5, inplace=False)\n",
      ")\n",
      "\n",
      " CNN model trainable parameters: 3594108\n"
     ]
    }
   ],
   "source": [
    "print(model)\n",
    "def parameters(model):\n",
    "    return sum(p.numel() for p in model.parameters() if p.requires_grad)\n",
    "print(\"\\n CNN model trainable parameters:\",parameters(model))"
   ]
  },
  {
   "cell_type": "code",
   "execution_count": 58,
   "metadata": {},
   "outputs": [],
   "source": [
    "#identify optimizer and loss criterion\n",
    "optimizer = optim.Adam(model.parameters()) # Use the Adam optimiser\n",
    "#criterion = nn.BCELoss() # Use Binary Cross Entropy between the target and the output as the loss function\n",
    "criterion = nn.CrossEntropyLoss()"
   ]
  },
  {
   "cell_type": "code",
   "execution_count": 59,
   "metadata": {},
   "outputs": [],
   "source": [
    "#send model to device\n",
    "model = model.to(device)\n",
    "criterion = criterion.to(device)"
   ]
  },
  {
   "cell_type": "code",
   "execution_count": 60,
   "metadata": {},
   "outputs": [
    {
     "name": "stdout",
     "output_type": "stream",
     "text": [
      "Epoch   0: Train loss: 2.899 | Train acuracy: 0.1230 | Validation loss: 1.956 | Validation acuracy: 0.1562 - 416.05 s\n",
      "Epoch   1: Train loss: 2.135 | Train acuracy: 0.2539 | Validation loss: 1.702 | Validation acuracy: 0.4297 - 387.78 s\n",
      "Epoch   2: Train loss: 1.924 | Train acuracy: 0.3184 | Validation loss: 1.521 | Validation acuracy: 0.6172 - 377.44 s\n",
      "Epoch   3: Train loss: 1.695 | Train acuracy: 0.3926 | Validation loss: 1.431 | Validation acuracy: 0.5938 - 367.49 s\n",
      "Epoch   4: Train loss: 1.545 | Train acuracy: 0.4727 | Validation loss: 1.327 | Validation acuracy: 0.7031 - 380.66 s\n",
      "Epoch   5: Train loss: 1.308 | Train acuracy: 0.5430 | Validation loss: 1.256 | Validation acuracy: 0.5547 - 370.21 s\n",
      "Epoch   6: Train loss: 1.330 | Train acuracy: 0.5020 | Validation loss: 1.174 | Validation acuracy: 0.7266 - 374.71 s\n",
      "Epoch   7: Train loss: 1.186 | Train acuracy: 0.5938 | Validation loss: 1.082 | Validation acuracy: 0.7500 - 383.28 s\n",
      "Epoch   8: Train loss: 1.090 | Train acuracy: 0.6504 | Validation loss: 0.968 | Validation acuracy: 0.8828 - 373.46 s\n",
      "Epoch   9: Train loss: 1.061 | Train acuracy: 0.6211 | Validation loss: 0.964 | Validation acuracy: 0.8125 - 376.78 s\n",
      "\n",
      "Best performance at epoch 9 | Loss: 0.964 | Accuracy: 0.8125\n"
     ]
    }
   ],
   "source": [
    "#defining a training function\n",
    "def train(model, iterator, optimizer, criterion):\n",
    "    epoch_loss = 0\n",
    "    epoch_acc = 0\n",
    "    model.train()\n",
    "    for batch in iterator:\n",
    "        optimizer.zero_grad()\n",
    "        text, _ = batch.text  #unpack the tuple\n",
    "        predictions = model(text) #.squeeze()\n",
    "        #torch.LongTensor used to convert/make sure that batch.label is of the same data type\n",
    "        #aspredictions. If not, \"RuntimeError: expected scalar type Long but found Float\"\n",
    "        loss = criterion(predictions, batch.label.type(torch.LongTensor)) \n",
    "        acc = multiclass_accuracy(predictions, batch.label)\n",
    "        loss.backward()\n",
    "        optimizer.step()\n",
    "        epoch_loss += loss.item()\n",
    "        epoch_acc += acc.item()\n",
    "    return epoch_loss / len(iterator), epoch_acc / len(iterator)\n",
    "\n",
    "#defining an evaluation function\n",
    "def evaluate(model, iterator, criterion):\n",
    "    epoch_loss = 0\n",
    "    epoch_acc = 0\n",
    "    model.eval()\n",
    "    with torch.no_grad():\n",
    "         for batch in iterator:\n",
    "            text, _ = batch.text  # Unpack the tuple\n",
    "            predictions = model(text) #.squeeze()\n",
    "            loss = criterion(predictions, batch.label.type(torch.LongTensor))\n",
    "            acc = multiclass_accuracy(predictions, batch.label)\n",
    "            epoch_loss += loss.item()\n",
    "            epoch_acc += acc.item()\n",
    "    return epoch_loss / len(iterator), epoch_acc / len(iterator)\n",
    "\n",
    "#training and evaluating performance of CNN over 10 epochs\n",
    "N_EPOCHS = 10 # 10 epochs\n",
    "best_valid_loss = float('inf')\n",
    "best_valid_acc = float('inf')\n",
    "best_epoch = 0\n",
    "\n",
    "#lists to store the loss and accuracy for training and validation for each epoch\n",
    "epoch_loss_train = []\n",
    "epoch_loss_valid = []\n",
    "epoch_accuracy_train = []\n",
    "epoch_accuracy_valid = []\n",
    "\n",
    "for epoch in range(N_EPOCHS):\n",
    "    print(\"Epoch %3d:\" % epoch,end='')\n",
    "    start = time.time()\n",
    "    \n",
    "    #train the model\n",
    "    train_loss, train_acc = train(model, training_iterator, optimizer, criterion)\n",
    "    epoch_loss_train.append(train_loss) #append training loss for each epoch\n",
    "    epoch_accuracy_train.append(train_acc) #append training accuracy of each epoch\n",
    "    \n",
    "    #evaluate the model\n",
    "    valid_loss, valid_acc = evaluate(model, test_iterator, criterion)\n",
    "    epoch_loss_valid.append(valid_loss) #append validation loss for each epoch\n",
    "    epoch_accuracy_valid.append(valid_acc) #append validation accuracy of each epoch\n",
    "    \n",
    "    #save the best model\n",
    "    if valid_loss < best_valid_loss:\n",
    "        best_valid_loss = valid_loss\n",
    "        best_valid_acc = valid_acc\n",
    "        best_epoch = epoch\n",
    "        torch.save(model.state_dict(), 'CNN8_saved_weights.pt')\n",
    "    print(\" Train loss: %.3f | Train acuracy: %3.4f \" % (train_loss,train_acc),end='')\n",
    "    print(\"| Validation loss: %.3f | Validation acuracy: %3.4f\" % (valid_loss,valid_acc),end='')\n",
    "    print(\" - %3.2f s\" % (time.time()-start))\n",
    "    \n",
    "print(\"\\nBest performance at epoch %d | Loss: %.3f | Accuracy: %3.4f\" %\n",
    "      (best_epoch,best_valid_loss,best_valid_acc))"
   ]
  },
  {
   "cell_type": "code",
   "execution_count": 61,
   "metadata": {},
   "outputs": [
    {
     "data": {
      "image/png": "[encoded data removed]",
      "text/plain": [
       "<Figure size 720x576 with 2 Axes>"
      ]
     },
     "metadata": {},
     "output_type": "display_data"
    }
   ],
   "source": [
    "#one plot showing the training loss and validation loss\n",
    "#another plot showing the training accuracy and validation accuracy\n",
    "\n",
    "eps = np.arange(N_EPOCHS)\n",
    "\n",
    "fig, (ax1, ax2) = plt.subplots(2, figsize=(10, 8), sharex=True)\n",
    "\n",
    "#ax1.set_ylim([0, 1])\n",
    "#to make the loss plot more visible\n",
    "ax1.set_ylim([0, max(max(epoch_loss_train), max(epoch_loss_valid)) + 0.1])\n",
    "\n",
    "ax1.plot(epoch_loss_train,'b')\n",
    "ax1.plot(epoch_loss_valid,'r')\n",
    "ax1.set_ylabel(\"Loss per epoch\")\n",
    "ax1.legend([\"Training\",\"Validation\"])\n",
    "\n",
    "ax2.set_ylim([0, 1])\n",
    "ax2.plot(epoch_accuracy_train,'b')\n",
    "ax2.plot(epoch_accuracy_valid,'r')\n",
    "ax2.set_ylabel(\"Accuracy per epoch\")\n",
    "ax2.set_xlabel(\"Epochs\");\n",
    "ax2.legend([\"Training\",\"Validation\"])\n",
    "\n",
    "plt.savefig(\"Epoch loss_8labels\")\n",
    "plt.show()"
   ]
  },
  {
   "cell_type": "code",
   "execution_count": 62,
   "metadata": {},
   "outputs": [
    {
     "name": "stdout",
     "output_type": "stream",
     "text": [
      "There are a maximum of 34722 words in each training text\n"
     ]
    }
   ],
   "source": [
    "max_words = 0\n",
    "for sentence in train_text :\n",
    "    max_words = max(len(sentence.split()), max_words )\n",
    "print(\"There are a maximum of\", max_words, \"words in each training text\")\n"
   ]
  },
  {
   "cell_type": "code",
   "execution_count": 63,
   "metadata": {},
   "outputs": [
    {
     "name": "stdout",
     "output_type": "stream",
     "text": [
      "Test Loss: 0.964 | Test Acc: 81.25%\n"
     ]
    }
   ],
   "source": [
    "model.load_state_dict(torch.load('CNN8_saved_weights.pt'))\n",
    "\n",
    "test_loss, test_acc = evaluate(model, test_iterator, criterion)\n",
    "\n",
    "print(f'Test Loss: {test_loss:.3f} | Test Acc: {test_acc*100:.2f}%')"
   ]
  },
  {
   "cell_type": "code",
   "execution_count": 64,
   "metadata": {},
   "outputs": [],
   "source": [
    "def LegalAreaCNN_predict(model, sentence, min_len = max_words):\n",
    "    model.eval()\n",
    "    #preprocess \n",
    "    tokenised = [token for token in word_tokenize(sentence)] # Tokenise text\n",
    "    indexed = [TEXT.vocab.stoi[token] for token in tokenised]\n",
    "    tensor = torch.LongTensor(indexed).to(device) # Convert to PyTorch tensor\n",
    "    \n",
    "    tensor = tensor.unsqueeze(0) # Reshape in form of batch,number of words\n",
    "    prediction = model(tensor)\n",
    "    prediction = prediction.argmax(dim = 1)\n",
    "    return int(round(prediction.item()))\n",
    "\n",
    "#code adapted from: https://github.com/bentrevett/pytorch-sentiment-analysis/blob/master/4%20-%20Convolutional%20Sentiment%20Analysis.ipynb"
   ]
  },
  {
   "cell_type": "code",
   "execution_count": 85,
   "metadata": {},
   "outputs": [
    {
     "name": "stdout",
     "output_type": "stream",
     "text": [
      "Predicted Label: ['criminal', 'criminal', 'human rights', 'tax', 'criminal', 'criminal', 'human rights', 'criminal', 'labour', 'criminal']\n",
      "Ground Truth Label: ['international', 'human rights', 'human rights', 'tax', 'labour', 'admin', 'immigration', 'criminal', 'labour', 'admin']\n"
     ]
    }
   ],
   "source": [
    "label_names = {1:\"labour\", 2: \"admin\", 0: \"international\", 3: \"corporate\", 4: \"human rights\", 5: \"immigration\", 6: \"tax\", 7: \"criminal\" }\n",
    "#Number assigned to label: defaultdict(None, {'international': 0, 'labour': 1, 'admin': 2, 'corporate': 3, 'human rights': 4, 'immigration': 5, 'tax': 6, 'criminal': 7})\n",
    "    \n",
    "predict_CNN_8 = []\n",
    "\n",
    "for i in test_text:\n",
    "    predict_label = label_names[LegalAreaCNN_predict(model, i)]\n",
    "    predict_CNN_8.append(predict_label)\n",
    "    \n",
    "print(\"Predicted Label:\",predict_CNN_8[0:10])\n",
    "print(\"Ground Truth Label:\",test_label[0:10])"
   ]
  },
  {
   "cell_type": "code",
   "execution_count": 69,
   "metadata": {},
   "outputs": [
    {
     "data": {
      "image/png": "[encoded data removed]",
      "text/plain": [
       "<Figure size 432x288 with 2 Axes>"
      ]
     },
     "metadata": {},
     "output_type": "display_data"
    },
    {
     "name": "stdout",
     "output_type": "stream",
     "text": [
      "Accuracy:\t0.395161\n",
      "F1-score:\t0.407119\n",
      "Precision:\t0.578681\n",
      "Recall:\t\t0.404670\n",
      "\n",
      "Classification performance of CNN:\n",
      "               precision    recall  f1-score   support\n",
      "\n",
      "        admin       0.00      0.00      0.00        19\n",
      "    corporate       0.75      0.21      0.33        14\n",
      "     criminal       0.25      0.75      0.38        20\n",
      " human rights       0.19      0.40      0.26        15\n",
      "  immigration       1.00      0.35      0.52        20\n",
      "international       0.67      0.15      0.25        13\n",
      "       labour       1.00      0.60      0.75        10\n",
      "          tax       0.77      0.77      0.77        13\n",
      "\n",
      "     accuracy                           0.40       124\n",
      "    macro avg       0.58      0.40      0.41       124\n",
      " weighted avg       0.54      0.40      0.38       124\n",
      "\n"
     ]
    }
   ],
   "source": [
    "#plot the confusion matrix: CNN\n",
    "mat_cnn = confusion_matrix(test_label, predict_CNN_8)\n",
    "sns.heatmap(mat_cnn.T, square = True, annot=True, fmt = \"d\")\n",
    "plt.xlabel(\"True label\")\n",
    "plt.ylabel(\"Predicted label\")\n",
    "plt.title(\"Convolutional Neural Network: 8-class Classification\")\n",
    "plt.savefig(\"CNN_70000_8_Performance\")\n",
    "plt.show()\n",
    "\n",
    "# Compute and print classification performance metrics\n",
    "print(\"Accuracy:\\t%f\" % accuracy_score(test_label, predict_CNN_8))\n",
    "print(\"F1-score:\\t%f\" % f1_score(test_label, predict_CNN_8, average='macro'))\n",
    "print(\"Precision:\\t%f\" % precision_score(test_label, predict_CNN_8, average='macro'))\n",
    "print(\"Recall:\\t\\t%f\" % recall_score(test_label, predict_CNN_8, average='macro'))\n",
    "print(\"\\nClassification performance of CNN:\\n%s\" % classification_report(test_label, predict_CNN_8))"
   ]
  }
 ],
 "metadata": {
  "kernelspec": {
   "display_name": "Python 3",
   "language": "python",
   "name": "python3"
  },
  "language_info": {
   "codemirror_mode": {
    "name": "ipython",
    "version": 3
   },
   "file_extension": ".py",
   "mimetype": "text/x-python",
   "name": "python",
   "nbconvert_exporter": "python",
   "pygments_lexer": "ipython3",
   "version": "3.8.11"
  }
 },
 "nbformat": 4,
 "nbformat_minor": 5
}
